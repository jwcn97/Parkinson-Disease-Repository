{
 "cells": [
  {
   "cell_type": "code",
   "execution_count": 1,
   "metadata": {},
   "outputs": [],
   "source": [
    "# Imports\n",
    "from mpl_toolkits.mplot3d import Axes3D\n",
    "from matplotlib import cm\n",
    "from matplotlib.ticker import LinearLocator, FormatStrFormatter\n",
    "import matplotlib.pyplot as plt\n",
    "import pandas as pd\n",
    "import numpy as np\n",
    "\n",
    "import os"
   ]
  },
  {
   "cell_type": "code",
   "execution_count": 2,
   "metadata": {},
   "outputs": [],
   "source": [
    "# Function to get data\n",
    "def read_csv(path): \n",
    "    \"\"\"\n",
    "    Extracts dataframe from CSV\n",
    "\n",
    "    Parameters\n",
    "    -----\n",
    "    path: str\n",
    "        The path to the file to be opened as a csv\n",
    "\n",
    "    Return\n",
    "    -----\n",
    "    result: Pandas dataframe\n",
    "        If path has .csv extension, returns content of the csv file\n",
    "        Else, returns None\n",
    "    \"\"\"\n",
    "    result = None\n",
    "    \n",
    "    if path.endswith('.csv'): \n",
    "        result = pd.read_csv(path)\n",
    "    return result"
   ]
  },
  {
   "cell_type": "code",
   "execution_count": 3,
   "metadata": {},
   "outputs": [],
   "source": [
    "# Function to plot data\n",
    "df_column_mapping = {\n",
    "    'x' : 3,\n",
    "    'y' : 4,\n",
    "    'z' : 5\n",
    "}\n",
    "\n",
    "axis_listing = ['x', 'y', 'z']\n",
    "\n",
    "def plot_in_3d(df, t = ''):   \n",
    "    \"\"\"\n",
    "    Plots the summation of x-, y-, and z-axes in 3D space\n",
    "\n",
    "    Parameters\n",
    "    -----\n",
    "    df: Pandas dataframe\n",
    "        dataframe extracted from csv    \n",
    "    \"\"\"  \n",
    "    # Initialize figure and 3d projection\n",
    "    fig = plt.figure(figsize = [10, 10])\n",
    "    ax = fig.add_subplot(111, projection = '3d')\n",
    "    # Label axes\n",
    "    ax.set(xlabel = df.columns[3], ylabel = df.columns[4], zlabel = df.columns[5], title = t) \n",
    "    \n",
    "    # Get datapoints\n",
    "    x = df.iloc[:, 3]\n",
    "    y = df.iloc[:, 4]\n",
    "    z = df.iloc[:, 5]\n",
    "    \n",
    "    # Plot\n",
    "    ax.plot(x, y, z)\n",
    "    \n",
    "def plot_time(df, var = 'x', t = ''):\n",
    "    \"\"\"\n",
    "    Plots the desired parameter against time\n",
    "    \n",
    "    Parameters:\n",
    "    -----\n",
    "    df: Pandas dataframe\n",
    "        The pandas dataframe containing the data from the acceleromere\n",
    "    var: str\n",
    "        The axis 'x', 'y', 'z' to be plotted; defaults to 'x'\n",
    "    \"\"\"\n",
    "    # Check that var is 'x', 'y', or 'z'\n",
    "    # Defaults to 'x' if not used\n",
    "    if var not in axis_listing:\n",
    "        var = 'x'\n",
    "    \n",
    "    # Get data\n",
    "    time = df.iloc[:, 2]\n",
    "    data = df.iloc[:, df_column_mapping[var]]\n",
    "    \n",
    "    # Initialize figure\n",
    "    fig = plt.figure(figsize = [15, 5])\n",
    "    ax = fig.add_subplot(111)\n",
    "    # Label axes\n",
    "    ax.set(xlabel = df.columns[2], ylabel = df.columns[df_column_mapping[var]], title = t) \n",
    "    # Customize the major grid\n",
    "    ax.grid(b=True, which='both')\n",
    "    \n",
    "    # Plot\n",
    "    ax.plot(time, data)"
   ]
  },
  {
   "cell_type": "code",
   "execution_count": 4,
   "metadata": {},
   "outputs": [
    {
     "name": "stdout",
     "output_type": "stream",
     "text": [
      "['pro-sup-lvl1-try3_S4_2019-11-01T20.44.29.452_EB54418CDA46_Gyroscope_1.4.5', 'pro-sup-lvl3-try1_S4_2019-11-01T20.47.24.116_EB54418CDA46_Accelerometer_1.4.5', 'dataA1_S4_2019-11-01T21.03.59.920_EB54418CDA46_Accelerometer_1.4.5', 'dataC1_S4_2019-11-01T21.12.58.750_EB54418CDA46_Gyroscope_1.4.5', 'tremor-lvl3-try3_S2_2019-11-01T21.39.53.686_C49948A1895C_Gyroscope_1.4.5', 'tremor-lvl5-8g-1000deg_S2_2019-11-01T21.46.50.774_C49948A1895C_Gyroscope_1.4.5', 'tremor-lvl5-try2_S2_2019-11-01T21.43.48.391_C49948A1895C_Gyroscope_1.4.5', 'pro-sup-lvl1-try1_S4_2019-11-01T20.31.16.187_EB54418CDA46_Accelerometer_1.4.5', 'tremor-lvl3-8g-1000deg_S2_2019-11-01T21.48.45.175_C49948A1895C_Accelerometer_1.4.5', 'tremor-lvl5-try3_S2_2019-11-01T21.45.17.697_C49948A1895C_Accelerometer_1.4.5', 'tremor-lvl5-try1_S2_2019-11-01T21.42.05.868_C49948A1895C_Accelerometer_1.4.5', 'dataC_S4_2019-11-01T20.25.12.564_EB54418CDA46_Accelerometer_1.4.5', 'dataA_S4_2019-11-01T20.14.25.824_EB54418CDA46_Gyroscope_1.4.5', 'data-analysis.ipynb', 'tremor-lvl3-try2_S2_2019-11-01T21.38.01.379_C49948A1895C_Gyroscope_1.4.5', 'tremor-lvl5-8g-1000deg_S2_2019-11-01T21.46.50.774_C49948A1895C_Accelerometer_1.4.5', 'pro-sup-lvl3-try2_S4_2019-11-01T20.49.46.609_EB54418CDA46_Gyroscope_1.4.5', 'pro-sup-lvl1-try1_S4_2019-11-01T20.31.16.187_EB54418CDA46_Gyroscope_1.4.5', 'dataC0_S4_2019-11-01T21.10.20.004_EB54418CDA46_Accelerometer_1.4.5', 'dataB_S4_2019-11-01T20.24.44.448_EB54418CDA46_Accelerometer_1.4.5', 'pro-sup-lvl5-try3_S4_2019-11-01T20.59.20.449_EB54418CDA46_Gyroscope_1.4.5', 'dataA1_S4_2019-11-01T21.03.59.920_EB54418CDA46_Gyroscope_1.4.5', 'tremor-lvl3-try1_S2_2019-11-01T21.36.28.628_C49948A1895C_Gyroscope_1.4.5', 'dataC1_S4_2019-11-01T21.12.58.750_EB54418CDA46_Accelerometer_1.4.5', 'tremor-lvl1-try2_S2_2019-11-01T21.31.43.269_C49948A1895C_Gyroscope_1.4.5', 'dataC_S4_2019-11-01T20.25.12.564_EB54418CDA46_Gyroscope_1.4.5', 'tremor-lvl-try3_S2_2019-11-01T21.33.43.142_C49948A1895C_Accelerometer_1.4.5', 'dataB0_S4_2019-11-01T21.07.03.086_EB54418CDA46_Accelerometer_1.4.5', 'tremor-lvl5-try2_S2_2019-11-01T21.43.48.391_C49948A1895C_Accelerometer_1.4.5', 'pro-sup-lvl3-try3_S4_2019-11-01T20.51.32.097_EB54418CDA46_Accelerometer_1.4.5', 'dataA0_S4_2019-11-01T21.02.16.129_EB54418CDA46_Accelerometer_1.4.5', 'tremor-lvl5-try3_S2_2019-11-01T21.45.17.697_C49948A1895C_Gyroscope_1.4.5', 'pro-sup-lvl5-try1_S4_2019-11-01T20.53.35.588_EB54418CDA46_Gyroscope_1.4.5', 'tremor-lvl5-try1_S2_2019-11-01T21.42.05.868_C49948A1895C_Gyroscope_1.4.5', 'tremor-lvl1-try1_S2_2019-11-01T21.30.03.359_C49948A1895C_Accelerometer_1.4.5', 'pro-sup-lvl1-try2_S4_2019-11-01T20.33.42.952_EB54418CDA46_Gyroscope_1.4.5', 'pro-sup-lvl3-try1_S4_2019-11-01T20.47.24.116_EB54418CDA46_Gyroscope_1.4.5', '.ipynb_checkpoints', 'tremor-lvl-try3_S2_2019-11-01T21.33.43.142_C49948A1895C_Gyroscope_1.4.5', 'tremor-lvl3-8g-1000deg_S2_2019-11-01T21.48.45.175_C49948A1895C_Gyroscope_1.4.5', 'pro-sup-lvl1-try3_S4_2019-11-01T20.44.29.452_EB54418CDA46_Accelerometer_1.4.5', 'dataC0_S4_2019-11-01T21.10.20.004_EB54418CDA46_Gyroscope_1.4.5', 'tremor-lvl3-try2_S2_2019-11-01T21.38.01.379_C49948A1895C_Accelerometer_1.4.5', 'pro-sup-lvl5-try3_S4_2019-11-01T20.59.20.449_EB54418CDA46_Accelerometer_1.4.5', 'pro-sup-lvl5-try2_S4_2019-11-01T20.57.44.638_EB54418CDA46_Accelerometer_1.4.5', 'dataB1_S4_2019-11-01T21.08.51.975_EB54418CDA46_Gyroscope_1.4.5', 'pro-sup-lvl3-try3_S4_2019-11-01T20.51.32.097_EB54418CDA46_Gyroscope_1.4.5', 'pro-sup-lvl5-try1_S4_2019-11-01T20.53.35.588_EB54418CDA46_Accelerometer_1.4.5', 'pro-sup-lvl5-try2_S4_2019-11-01T20.57.44.638_EB54418CDA46_Gyroscope_1.4.5', 'pro-sup-lvl1-try2_S4_2019-11-01T20.33.42.952_EB54418CDA46_Accelerometer_1.4.5', 'tremor-lvl3-try1_S2_2019-11-01T21.36.28.628_C49948A1895C_Accelerometer_1.4.5', 'pro-sup-lvl3-try2_S4_2019-11-01T20.49.46.609_EB54418CDA46_Accelerometer_1.4.5', 'dataB1_S4_2019-11-01T21.08.51.975_EB54418CDA46_Accelerometer_1.4.5', 'dataB_S4_2019-11-01T20.24.44.448_EB54418CDA46_Gyroscope_1.4.5', 'dataA_S4_2019-11-01T20.14.25.824_EB54418CDA46_Accelerometer_1.4.5', 'tremor-lvl3-try3_S2_2019-11-01T21.39.53.686_C49948A1895C_Accelerometer_1.4.5', 'tremor-lvl1-try1_S2_2019-11-01T21.30.03.359_C49948A1895C_Gyroscope_1.4.5', 'dataB0_S4_2019-11-01T21.07.03.086_EB54418CDA46_Gyroscope_1.4.5', 'dataA0_S4_2019-11-01T21.02.16.129_EB54418CDA46_Gyroscope_1.4.5', 'tremor-lvl1-try2_S2_2019-11-01T21.31.43.269_C49948A1895C_Accelerometer_1.4.5']\n"
     ]
    }
   ],
   "source": [
    "directory = os.listdir()\n",
    "print(directory)\n",
    "for file in directory:\n",
    "    df = read_csv(file)\n",
    "    \n",
    "    if df is None:\n",
    "        continue\n",
    "        \n",
    "    plot_in_3d(df, t = file)\n",
    "    \n",
    "    for a in axis_listing:\n",
    "        plot_time(df, var = a, t = a + '---' + file)"
   ]
  },
  {
   "cell_type": "markdown",
   "metadata": {},
   "source": [
    "## Spectral Analysis using Fast Fourier Transform (FFT)"
   ]
  },
  {
   "cell_type": "code",
   "execution_count": 5,
   "metadata": {},
   "outputs": [
    {
     "name": "stdout",
     "output_type": "stream",
     "text": [
      "['pro-sup-lvl1-try3_S4_2019-11-01T20.44.29.452_EB54418CDA46_Gyroscope_1.4.5', 'pro-sup-lvl3-try1_S4_2019-11-01T20.47.24.116_EB54418CDA46_Accelerometer_1.4.5', 'dataA1_S4_2019-11-01T21.03.59.920_EB54418CDA46_Accelerometer_1.4.5', 'dataC1_S4_2019-11-01T21.12.58.750_EB54418CDA46_Gyroscope_1.4.5', 'tremor-lvl3-try3_S2_2019-11-01T21.39.53.686_C49948A1895C_Gyroscope_1.4.5', 'tremor-lvl5-8g-1000deg_S2_2019-11-01T21.46.50.774_C49948A1895C_Gyroscope_1.4.5', 'tremor-lvl5-try2_S2_2019-11-01T21.43.48.391_C49948A1895C_Gyroscope_1.4.5', 'pro-sup-lvl1-try1_S4_2019-11-01T20.31.16.187_EB54418CDA46_Accelerometer_1.4.5', 'tremor-lvl3-8g-1000deg_S2_2019-11-01T21.48.45.175_C49948A1895C_Accelerometer_1.4.5', 'tremor-lvl5-try3_S2_2019-11-01T21.45.17.697_C49948A1895C_Accelerometer_1.4.5', 'tremor-lvl5-try1_S2_2019-11-01T21.42.05.868_C49948A1895C_Accelerometer_1.4.5', 'dataC_S4_2019-11-01T20.25.12.564_EB54418CDA46_Accelerometer_1.4.5', 'dataA_S4_2019-11-01T20.14.25.824_EB54418CDA46_Gyroscope_1.4.5', 'data-analysis.ipynb', 'tremor-lvl3-try2_S2_2019-11-01T21.38.01.379_C49948A1895C_Gyroscope_1.4.5', 'tremor-lvl5-8g-1000deg_S2_2019-11-01T21.46.50.774_C49948A1895C_Accelerometer_1.4.5', 'pro-sup-lvl3-try2_S4_2019-11-01T20.49.46.609_EB54418CDA46_Gyroscope_1.4.5', 'pro-sup-lvl1-try1_S4_2019-11-01T20.31.16.187_EB54418CDA46_Gyroscope_1.4.5', 'dataC0_S4_2019-11-01T21.10.20.004_EB54418CDA46_Accelerometer_1.4.5', 'dataB_S4_2019-11-01T20.24.44.448_EB54418CDA46_Accelerometer_1.4.5', 'pro-sup-lvl5-try3_S4_2019-11-01T20.59.20.449_EB54418CDA46_Gyroscope_1.4.5', 'dataA1_S4_2019-11-01T21.03.59.920_EB54418CDA46_Gyroscope_1.4.5', 'tremor-lvl3-try1_S2_2019-11-01T21.36.28.628_C49948A1895C_Gyroscope_1.4.5', 'dataC1_S4_2019-11-01T21.12.58.750_EB54418CDA46_Accelerometer_1.4.5', 'tremor-lvl1-try2_S2_2019-11-01T21.31.43.269_C49948A1895C_Gyroscope_1.4.5', 'dataC_S4_2019-11-01T20.25.12.564_EB54418CDA46_Gyroscope_1.4.5', 'tremor-lvl-try3_S2_2019-11-01T21.33.43.142_C49948A1895C_Accelerometer_1.4.5', 'dataB0_S4_2019-11-01T21.07.03.086_EB54418CDA46_Accelerometer_1.4.5', 'tremor-lvl5-try2_S2_2019-11-01T21.43.48.391_C49948A1895C_Accelerometer_1.4.5', 'pro-sup-lvl3-try3_S4_2019-11-01T20.51.32.097_EB54418CDA46_Accelerometer_1.4.5', 'dataA0_S4_2019-11-01T21.02.16.129_EB54418CDA46_Accelerometer_1.4.5', 'tremor-lvl5-try3_S2_2019-11-01T21.45.17.697_C49948A1895C_Gyroscope_1.4.5', 'pro-sup-lvl5-try1_S4_2019-11-01T20.53.35.588_EB54418CDA46_Gyroscope_1.4.5', 'tremor-lvl5-try1_S2_2019-11-01T21.42.05.868_C49948A1895C_Gyroscope_1.4.5', 'tremor-lvl1-try1_S2_2019-11-01T21.30.03.359_C49948A1895C_Accelerometer_1.4.5', 'pro-sup-lvl1-try2_S4_2019-11-01T20.33.42.952_EB54418CDA46_Gyroscope_1.4.5', 'pro-sup-lvl3-try1_S4_2019-11-01T20.47.24.116_EB54418CDA46_Gyroscope_1.4.5', '.ipynb_checkpoints', 'tremor-lvl-try3_S2_2019-11-01T21.33.43.142_C49948A1895C_Gyroscope_1.4.5', 'tremor-lvl3-8g-1000deg_S2_2019-11-01T21.48.45.175_C49948A1895C_Gyroscope_1.4.5', 'pro-sup-lvl1-try3_S4_2019-11-01T20.44.29.452_EB54418CDA46_Accelerometer_1.4.5', 'dataC0_S4_2019-11-01T21.10.20.004_EB54418CDA46_Gyroscope_1.4.5', 'tremor-lvl3-try2_S2_2019-11-01T21.38.01.379_C49948A1895C_Accelerometer_1.4.5', 'pro-sup-lvl5-try3_S4_2019-11-01T20.59.20.449_EB54418CDA46_Accelerometer_1.4.5', 'pro-sup-lvl5-try2_S4_2019-11-01T20.57.44.638_EB54418CDA46_Accelerometer_1.4.5', 'dataB1_S4_2019-11-01T21.08.51.975_EB54418CDA46_Gyroscope_1.4.5', 'pro-sup-lvl3-try3_S4_2019-11-01T20.51.32.097_EB54418CDA46_Gyroscope_1.4.5', 'pro-sup-lvl5-try1_S4_2019-11-01T20.53.35.588_EB54418CDA46_Accelerometer_1.4.5', 'pro-sup-lvl5-try2_S4_2019-11-01T20.57.44.638_EB54418CDA46_Gyroscope_1.4.5', 'pro-sup-lvl1-try2_S4_2019-11-01T20.33.42.952_EB54418CDA46_Accelerometer_1.4.5', 'tremor-lvl3-try1_S2_2019-11-01T21.36.28.628_C49948A1895C_Accelerometer_1.4.5', 'pro-sup-lvl3-try2_S4_2019-11-01T20.49.46.609_EB54418CDA46_Accelerometer_1.4.5', 'dataB1_S4_2019-11-01T21.08.51.975_EB54418CDA46_Accelerometer_1.4.5', 'dataB_S4_2019-11-01T20.24.44.448_EB54418CDA46_Gyroscope_1.4.5', 'dataA_S4_2019-11-01T20.14.25.824_EB54418CDA46_Accelerometer_1.4.5', 'tremor-lvl3-try3_S2_2019-11-01T21.39.53.686_C49948A1895C_Accelerometer_1.4.5', 'tremor-lvl1-try1_S2_2019-11-01T21.30.03.359_C49948A1895C_Gyroscope_1.4.5', 'dataB0_S4_2019-11-01T21.07.03.086_EB54418CDA46_Gyroscope_1.4.5', 'dataA0_S4_2019-11-01T21.02.16.129_EB54418CDA46_Gyroscope_1.4.5', 'tremor-lvl1-try2_S2_2019-11-01T21.31.43.269_C49948A1895C_Accelerometer_1.4.5']\n"
     ]
    },
    {
     "ename": "FileNotFoundError",
     "evalue": "[Errno 2] File b'tap lvl1 try1_S4_2019-10-25T13.46.40.964_EB54418CDA46_Accelerometer_1.4.4.csv' does not exist: b'tap lvl1 try1_S4_2019-10-25T13.46.40.964_EB54418CDA46_Accelerometer_1.4.4.csv'",
     "output_type": "error",
     "traceback": [
      "\u001b[0;31m---------------------------------------------------------------------------\u001b[0m",
      "\u001b[0;31mFileNotFoundError\u001b[0m                         Traceback (most recent call last)",
      "\u001b[0;32m<ipython-input-5-32864892a541>\u001b[0m in \u001b[0;36m<module>\u001b[0;34m\u001b[0m\n\u001b[1;32m      3\u001b[0m \u001b[0mprint\u001b[0m\u001b[0;34m(\u001b[0m\u001b[0mos\u001b[0m\u001b[0;34m.\u001b[0m\u001b[0mlistdir\u001b[0m\u001b[0;34m(\u001b[0m\u001b[0;34m)\u001b[0m\u001b[0;34m)\u001b[0m\u001b[0;34m\u001b[0m\u001b[0;34m\u001b[0m\u001b[0m\n\u001b[1;32m      4\u001b[0m \u001b[0mpath\u001b[0m \u001b[0;34m=\u001b[0m \u001b[0;34m\"tap lvl1 try1_S4_2019-10-25T13.46.40.964_EB54418CDA46_Accelerometer_1.4.4.csv\"\u001b[0m\u001b[0;34m\u001b[0m\u001b[0;34m\u001b[0m\u001b[0m\n\u001b[0;32m----> 5\u001b[0;31m \u001b[0mdf\u001b[0m \u001b[0;34m=\u001b[0m \u001b[0mread_csv\u001b[0m\u001b[0;34m(\u001b[0m\u001b[0mpath\u001b[0m\u001b[0;34m)\u001b[0m\u001b[0;34m\u001b[0m\u001b[0;34m\u001b[0m\u001b[0m\n\u001b[0m",
      "\u001b[0;32m<ipython-input-2-afc3e2efd830>\u001b[0m in \u001b[0;36mread_csv\u001b[0;34m(path)\u001b[0m\n\u001b[1;32m     18\u001b[0m \u001b[0;34m\u001b[0m\u001b[0m\n\u001b[1;32m     19\u001b[0m     \u001b[0;32mif\u001b[0m \u001b[0mpath\u001b[0m\u001b[0;34m.\u001b[0m\u001b[0mendswith\u001b[0m\u001b[0;34m(\u001b[0m\u001b[0;34m'.csv'\u001b[0m\u001b[0;34m)\u001b[0m\u001b[0;34m:\u001b[0m\u001b[0;34m\u001b[0m\u001b[0;34m\u001b[0m\u001b[0m\n\u001b[0;32m---> 20\u001b[0;31m         \u001b[0mresult\u001b[0m \u001b[0;34m=\u001b[0m \u001b[0mpd\u001b[0m\u001b[0;34m.\u001b[0m\u001b[0mread_csv\u001b[0m\u001b[0;34m(\u001b[0m\u001b[0mpath\u001b[0m\u001b[0;34m)\u001b[0m\u001b[0;34m\u001b[0m\u001b[0;34m\u001b[0m\u001b[0m\n\u001b[0m\u001b[1;32m     21\u001b[0m     \u001b[0;32mreturn\u001b[0m \u001b[0mresult\u001b[0m\u001b[0;34m\u001b[0m\u001b[0;34m\u001b[0m\u001b[0m\n",
      "\u001b[0;32m~/anaconda3/lib/python3.7/site-packages/pandas/io/parsers.py\u001b[0m in \u001b[0;36mparser_f\u001b[0;34m(filepath_or_buffer, sep, delimiter, header, names, index_col, usecols, squeeze, prefix, mangle_dupe_cols, dtype, engine, converters, true_values, false_values, skipinitialspace, skiprows, skipfooter, nrows, na_values, keep_default_na, na_filter, verbose, skip_blank_lines, parse_dates, infer_datetime_format, keep_date_col, date_parser, dayfirst, cache_dates, iterator, chunksize, compression, thousands, decimal, lineterminator, quotechar, quoting, doublequote, escapechar, comment, encoding, dialect, error_bad_lines, warn_bad_lines, delim_whitespace, low_memory, memory_map, float_precision)\u001b[0m\n\u001b[1;32m    683\u001b[0m         )\n\u001b[1;32m    684\u001b[0m \u001b[0;34m\u001b[0m\u001b[0m\n\u001b[0;32m--> 685\u001b[0;31m         \u001b[0;32mreturn\u001b[0m \u001b[0m_read\u001b[0m\u001b[0;34m(\u001b[0m\u001b[0mfilepath_or_buffer\u001b[0m\u001b[0;34m,\u001b[0m \u001b[0mkwds\u001b[0m\u001b[0;34m)\u001b[0m\u001b[0;34m\u001b[0m\u001b[0;34m\u001b[0m\u001b[0m\n\u001b[0m\u001b[1;32m    686\u001b[0m \u001b[0;34m\u001b[0m\u001b[0m\n\u001b[1;32m    687\u001b[0m     \u001b[0mparser_f\u001b[0m\u001b[0;34m.\u001b[0m\u001b[0m__name__\u001b[0m \u001b[0;34m=\u001b[0m \u001b[0mname\u001b[0m\u001b[0;34m\u001b[0m\u001b[0;34m\u001b[0m\u001b[0m\n",
      "\u001b[0;32m~/anaconda3/lib/python3.7/site-packages/pandas/io/parsers.py\u001b[0m in \u001b[0;36m_read\u001b[0;34m(filepath_or_buffer, kwds)\u001b[0m\n\u001b[1;32m    455\u001b[0m \u001b[0;34m\u001b[0m\u001b[0m\n\u001b[1;32m    456\u001b[0m     \u001b[0;31m# Create the parser.\u001b[0m\u001b[0;34m\u001b[0m\u001b[0;34m\u001b[0m\u001b[0;34m\u001b[0m\u001b[0m\n\u001b[0;32m--> 457\u001b[0;31m     \u001b[0mparser\u001b[0m \u001b[0;34m=\u001b[0m \u001b[0mTextFileReader\u001b[0m\u001b[0;34m(\u001b[0m\u001b[0mfp_or_buf\u001b[0m\u001b[0;34m,\u001b[0m \u001b[0;34m**\u001b[0m\u001b[0mkwds\u001b[0m\u001b[0;34m)\u001b[0m\u001b[0;34m\u001b[0m\u001b[0;34m\u001b[0m\u001b[0m\n\u001b[0m\u001b[1;32m    458\u001b[0m \u001b[0;34m\u001b[0m\u001b[0m\n\u001b[1;32m    459\u001b[0m     \u001b[0;32mif\u001b[0m \u001b[0mchunksize\u001b[0m \u001b[0;32mor\u001b[0m \u001b[0miterator\u001b[0m\u001b[0;34m:\u001b[0m\u001b[0;34m\u001b[0m\u001b[0;34m\u001b[0m\u001b[0m\n",
      "\u001b[0;32m~/anaconda3/lib/python3.7/site-packages/pandas/io/parsers.py\u001b[0m in \u001b[0;36m__init__\u001b[0;34m(self, f, engine, **kwds)\u001b[0m\n\u001b[1;32m    893\u001b[0m             \u001b[0mself\u001b[0m\u001b[0;34m.\u001b[0m\u001b[0moptions\u001b[0m\u001b[0;34m[\u001b[0m\u001b[0;34m\"has_index_names\"\u001b[0m\u001b[0;34m]\u001b[0m \u001b[0;34m=\u001b[0m \u001b[0mkwds\u001b[0m\u001b[0;34m[\u001b[0m\u001b[0;34m\"has_index_names\"\u001b[0m\u001b[0;34m]\u001b[0m\u001b[0;34m\u001b[0m\u001b[0;34m\u001b[0m\u001b[0m\n\u001b[1;32m    894\u001b[0m \u001b[0;34m\u001b[0m\u001b[0m\n\u001b[0;32m--> 895\u001b[0;31m         \u001b[0mself\u001b[0m\u001b[0;34m.\u001b[0m\u001b[0m_make_engine\u001b[0m\u001b[0;34m(\u001b[0m\u001b[0mself\u001b[0m\u001b[0;34m.\u001b[0m\u001b[0mengine\u001b[0m\u001b[0;34m)\u001b[0m\u001b[0;34m\u001b[0m\u001b[0;34m\u001b[0m\u001b[0m\n\u001b[0m\u001b[1;32m    896\u001b[0m \u001b[0;34m\u001b[0m\u001b[0m\n\u001b[1;32m    897\u001b[0m     \u001b[0;32mdef\u001b[0m \u001b[0mclose\u001b[0m\u001b[0;34m(\u001b[0m\u001b[0mself\u001b[0m\u001b[0;34m)\u001b[0m\u001b[0;34m:\u001b[0m\u001b[0;34m\u001b[0m\u001b[0;34m\u001b[0m\u001b[0m\n",
      "\u001b[0;32m~/anaconda3/lib/python3.7/site-packages/pandas/io/parsers.py\u001b[0m in \u001b[0;36m_make_engine\u001b[0;34m(self, engine)\u001b[0m\n\u001b[1;32m   1133\u001b[0m     \u001b[0;32mdef\u001b[0m \u001b[0m_make_engine\u001b[0m\u001b[0;34m(\u001b[0m\u001b[0mself\u001b[0m\u001b[0;34m,\u001b[0m \u001b[0mengine\u001b[0m\u001b[0;34m=\u001b[0m\u001b[0;34m\"c\"\u001b[0m\u001b[0;34m)\u001b[0m\u001b[0;34m:\u001b[0m\u001b[0;34m\u001b[0m\u001b[0;34m\u001b[0m\u001b[0m\n\u001b[1;32m   1134\u001b[0m         \u001b[0;32mif\u001b[0m \u001b[0mengine\u001b[0m \u001b[0;34m==\u001b[0m \u001b[0;34m\"c\"\u001b[0m\u001b[0;34m:\u001b[0m\u001b[0;34m\u001b[0m\u001b[0;34m\u001b[0m\u001b[0m\n\u001b[0;32m-> 1135\u001b[0;31m             \u001b[0mself\u001b[0m\u001b[0;34m.\u001b[0m\u001b[0m_engine\u001b[0m \u001b[0;34m=\u001b[0m \u001b[0mCParserWrapper\u001b[0m\u001b[0;34m(\u001b[0m\u001b[0mself\u001b[0m\u001b[0;34m.\u001b[0m\u001b[0mf\u001b[0m\u001b[0;34m,\u001b[0m \u001b[0;34m**\u001b[0m\u001b[0mself\u001b[0m\u001b[0;34m.\u001b[0m\u001b[0moptions\u001b[0m\u001b[0;34m)\u001b[0m\u001b[0;34m\u001b[0m\u001b[0;34m\u001b[0m\u001b[0m\n\u001b[0m\u001b[1;32m   1136\u001b[0m         \u001b[0;32melse\u001b[0m\u001b[0;34m:\u001b[0m\u001b[0;34m\u001b[0m\u001b[0;34m\u001b[0m\u001b[0m\n\u001b[1;32m   1137\u001b[0m             \u001b[0;32mif\u001b[0m \u001b[0mengine\u001b[0m \u001b[0;34m==\u001b[0m \u001b[0;34m\"python\"\u001b[0m\u001b[0;34m:\u001b[0m\u001b[0;34m\u001b[0m\u001b[0;34m\u001b[0m\u001b[0m\n",
      "\u001b[0;32m~/anaconda3/lib/python3.7/site-packages/pandas/io/parsers.py\u001b[0m in \u001b[0;36m__init__\u001b[0;34m(self, src, **kwds)\u001b[0m\n\u001b[1;32m   1915\u001b[0m         \u001b[0mkwds\u001b[0m\u001b[0;34m[\u001b[0m\u001b[0;34m\"usecols\"\u001b[0m\u001b[0;34m]\u001b[0m \u001b[0;34m=\u001b[0m \u001b[0mself\u001b[0m\u001b[0;34m.\u001b[0m\u001b[0musecols\u001b[0m\u001b[0;34m\u001b[0m\u001b[0;34m\u001b[0m\u001b[0m\n\u001b[1;32m   1916\u001b[0m \u001b[0;34m\u001b[0m\u001b[0m\n\u001b[0;32m-> 1917\u001b[0;31m         \u001b[0mself\u001b[0m\u001b[0;34m.\u001b[0m\u001b[0m_reader\u001b[0m \u001b[0;34m=\u001b[0m \u001b[0mparsers\u001b[0m\u001b[0;34m.\u001b[0m\u001b[0mTextReader\u001b[0m\u001b[0;34m(\u001b[0m\u001b[0msrc\u001b[0m\u001b[0;34m,\u001b[0m \u001b[0;34m**\u001b[0m\u001b[0mkwds\u001b[0m\u001b[0;34m)\u001b[0m\u001b[0;34m\u001b[0m\u001b[0;34m\u001b[0m\u001b[0m\n\u001b[0m\u001b[1;32m   1918\u001b[0m         \u001b[0mself\u001b[0m\u001b[0;34m.\u001b[0m\u001b[0munnamed_cols\u001b[0m \u001b[0;34m=\u001b[0m \u001b[0mself\u001b[0m\u001b[0;34m.\u001b[0m\u001b[0m_reader\u001b[0m\u001b[0;34m.\u001b[0m\u001b[0munnamed_cols\u001b[0m\u001b[0;34m\u001b[0m\u001b[0;34m\u001b[0m\u001b[0m\n\u001b[1;32m   1919\u001b[0m \u001b[0;34m\u001b[0m\u001b[0m\n",
      "\u001b[0;32mpandas/_libs/parsers.pyx\u001b[0m in \u001b[0;36mpandas._libs.parsers.TextReader.__cinit__\u001b[0;34m()\u001b[0m\n",
      "\u001b[0;32mpandas/_libs/parsers.pyx\u001b[0m in \u001b[0;36mpandas._libs.parsers.TextReader._setup_parser_source\u001b[0;34m()\u001b[0m\n",
      "\u001b[0;31mFileNotFoundError\u001b[0m: [Errno 2] File b'tap lvl1 try1_S4_2019-10-25T13.46.40.964_EB54418CDA46_Accelerometer_1.4.4.csv' does not exist: b'tap lvl1 try1_S4_2019-10-25T13.46.40.964_EB54418CDA46_Accelerometer_1.4.4.csv'"
     ]
    }
   ],
   "source": [
    "import scipy as sp\n",
    "import scipy.fftpack\n",
    "print(os.listdir())\n",
    "path = \"tremor-lvl5-try3_S2_2019-11-01T21.45.17.697_C49948A1895C_Accelerometer_1.4.5.csv\"\n",
    "df = read_csv(path)"
   ]
  },
  {
   "cell_type": "code",
   "execution_count": null,
   "metadata": {},
   "outputs": [],
   "source": [
    "df.describe()"
   ]
  },
  {
   "cell_type": "code",
   "execution_count": null,
   "metadata": {},
   "outputs": [],
   "source": [
    "# Get data\n",
    "time = df.iloc[:, 2]\n",
    "data = df.iloc[:, 3]\n",
    "\n",
    "# Compute the FFT of signal\n",
    "data_fft = sp.fftpack.fft(data)\n",
    "# Compute the Power Spectral Density by computing the square of its abs value\n",
    "data_psd = np.abs(data_fft) ** 2\n",
    "# Compute frequencies corresponding to the values of the PSD\n",
    "fft_freq = sp.fftpack.fftfreq(len(data_psd), 1./365)\n",
    "# Grab only the positive values of fft_freq\n",
    "i = fft_freq > 0\n",
    "\n",
    "# Plot the graphs\n",
    "fig, ax = plt.subplots(1, 1, figsize = (15,5))\n",
    "\n",
    "# Label axes\n",
    "ax.set(xlabel = 'Frequency (Hz)', ylabel = 'Accelerometer Data (g)', title = 'Accelerometer Tap Level 1 Trial 1') \n",
    "# Customize the major grid\n",
    "ax.grid(b=True, which='both')\n",
    "\n",
    "# Plot\n",
    "ax.plot(data_fft, data)\n",
    "\n",
    "fig2, ax2 = plt.subplots(1, 1, figsize = (15,5))\n",
    "# Label axes\n",
    "ax2.set(xlabel = 'Frequency (1/year)', ylabel = 'Power Spectral Density (dB)', title = 'Accelerometer Tap Level 1 Trial 1') \n",
    "# Customize the major grid\n",
    "ax2.grid(b=True, which='both')\n",
    "ax2.plot(fft_freq[i], 10 * np.log10(data_psd[i]))\n",
    "# ax.plot(time, data)"
   ]
  },
  {
   "cell_type": "code",
   "execution_count": null,
   "metadata": {},
   "outputs": [],
   "source": [
    "# Typical Matplotlib Plot Anatomy and Workflow\n",
    "# Import Matplotlib as plt\n",
    "import matplotlib.pyplot as plt\n",
    "\n",
    "# 1. Prepare data\n",
    "x = [1, 2, 3, 4]\n",
    "y = [10, 20, 25, 30]\n",
    "\n",
    "# 2. Create Plots\n",
    "fig = plt.figure(figsize = [15, 10])\n",
    "ax = fig.add_subplot(111)\n",
    "\n",
    "# 3. Plot\n",
    "ax.plot(x, y, color = 'lightblue', linewidth = 3)\n",
    "ax.scatter([2,4,6], [5,15,25], color = 'darkgreen', marker = '^')\n",
    "\n",
    "# 4. Customise Plot\n",
    "ax.set_xlim(1, 6.5)\n",
    "ax.set(xlabel = 'x-axis', ylabel = 'y-axis', title = 'y versus x graph') \n",
    "ax.grid(b=True, which='both')\n",
    "\n",
    "# 5. Save Plot\n",
    "# plt.savefig('foo.png')\n",
    "\n",
    "# 6. Show Plot\n",
    "plt.show()\n",
    "\n",
    "\"\"\"\n",
    "# Multiple Plots\n",
    "x = arange(5)\n",
    "y = np.exp(5)\n",
    "plt.figure(1)\n",
    "plt.plot(x, y)\n",
    "\n",
    "z = np.sin(x)\n",
    "plt.figure(2)\n",
    "plt.plot(x, z)\n",
    "\n",
    "w = np.cos(x)\n",
    "plt.figure(1) # Here's the part I need, but numbering starts at 1!\n",
    "plt.plot(x, w)\n",
    "\"\"\""
   ]
  },
  {
   "cell_type": "markdown",
   "metadata": {},
   "source": [
    "# Archive"
   ]
  },
  {
   "cell_type": "code",
   "execution_count": null,
   "metadata": {},
   "outputs": [],
   "source": [
    "x = np.arange(-5, 5, 0.25)\n",
    "y = np.arange(-5, 5, 0.25)\n",
    "x, y = np.meshgrid(x, y)\n",
    "r = np.sqrt(x ** 2 + y ** 2)\n",
    "# z = np.sin(r)\n",
    "# surf = ax.plot_surface(\n",
    "#     x, y, z, \n",
    "#     rstride = 1, cstride = 1,\n",
    "#     cmap = cm.coolwarm, linewidth = 0,\n",
    "#     antialiased = False\n",
    "# )\n",
    "# ax.set_zlim(-1.01, 1.01)"
   ]
  }
 ],
 "metadata": {
  "kernelspec": {
   "display_name": "Python 3",
   "language": "python",
   "name": "python3"
  },
  "language_info": {
   "codemirror_mode": {
    "name": "ipython",
    "version": 3
   },
   "file_extension": ".py",
   "mimetype": "text/x-python",
   "name": "python",
   "nbconvert_exporter": "python",
   "pygments_lexer": "ipython3",
   "version": "3.7.3"
  }
 },
 "nbformat": 4,
 "nbformat_minor": 4
}
