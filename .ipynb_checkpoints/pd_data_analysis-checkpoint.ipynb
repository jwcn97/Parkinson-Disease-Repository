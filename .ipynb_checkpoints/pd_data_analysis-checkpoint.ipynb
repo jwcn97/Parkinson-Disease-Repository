{
 "cells": [
  {
   "cell_type": "markdown",
   "metadata": {},
   "source": [
    "# ELEC0118: Fourth Year MEng Projects \n",
    "### Sensor Arrays for Movement Sensing\n",
    "### Members: Ken Yew Piong, Ka Shing Liong, Jing Wei Chan, Chin Yang Tan\n",
    "\n",
    "# 1. Introduction\n",
    "Wearable technology has considerable potential in healthcare. This project is concerned with the use of motion sensors such as accelerometers in the self-management of symptoms of a neurological condition called Parkinson’s Disease (PD) which has multiple motor symptoms including tremor and slowness of movement.\n",
    "\n",
    "Motion sensors are already widely used in fitness monitoring, but the raw data is not readily available from commercial systems. For this project, data will be streamed and stored from the sensor array device containing accelerometers and gyroscopes that is worn by the patient. The signals from these sensors are processed to extract features which are characteristic of particular movements. The challenge is to identify the signals for the particular movements from other intended movements and study the variation of these movements during the day.\n",
    "\n",
    "## 1.1 Motivation\n",
    "This notebook will investigate signal processing algorithms to extract the relevant movement data and suggest parameters that can be clearly provided to clinicians to quantify the variation in relevant movement during a 24-hour period.\n",
    "\n",
    "We will first visualise the given data through many plotting methods such as boxplots, scatter plots, heatmaps and histograms to gain a better understanding on the correlation of each feature. We will also be using dimensionality reduction methods to visualise the data more elegantly and capture an overall understanding of the trend of the data. \n",
    "\n",
    "We will then focus on running the following machine learning models for this case and then compute their corresponding performance scores to determine the most effective and feasible model for this application. \n",
    "1. Linear Logistic Regression\n",
    "2. Naive Bayes Classifier\n",
    "3. K-Nearest Neighbours Classifier\n",
    "4. Linear SVM\n",
    "5. Kernel RBF SVM\n",
    "6. AdaBoost\n",
    "7. Random Forest"
   ]
  },
  {
   "cell_type": "code",
   "execution_count": null,
   "metadata": {},
   "outputs": [],
   "source": []
  }
 ],
 "metadata": {
  "kernelspec": {
   "display_name": "Python 3",
   "language": "python",
   "name": "python3"
  },
  "language_info": {
   "codemirror_mode": {
    "name": "ipython",
    "version": 3
   },
   "file_extension": ".py",
   "mimetype": "text/x-python",
   "name": "python",
   "nbconvert_exporter": "python",
   "pygments_lexer": "ipython3",
   "version": "3.7.3"
  }
 },
 "nbformat": 4,
 "nbformat_minor": 2
}
