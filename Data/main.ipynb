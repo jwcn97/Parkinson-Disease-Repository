{
 "cells": [
  {
   "cell_type": "markdown",
   "metadata": {},
   "source": [
    "# 4th Year Project: Main Application\n",
    "`\n",
    "Last Modified: 19th February 2020\n",
    "Author: Ken Yew Piong, Chin Yang Tan, Jing Wei Chan, Ka Shing Liong\n",
    "Department: MEng Electronic and Electrical Engineering\n",
    "Institution: University College London\n",
    "`\n",
    "\n",
    "```python\n",
    "# DEVELOPER NOTES\n",
    "```"
   ]
  },
  {
   "cell_type": "markdown",
   "metadata": {},
   "source": [
    "---\n",
    "## Library Import"
   ]
  },
  {
   "cell_type": "code",
   "execution_count": null,
   "metadata": {},
   "outputs": [],
   "source": [
    "import os, math, import_ipynb, mpld3\n",
    "import numpy as np\n",
    "import pandas as pd\n",
    "import matplotlib.pyplot as plt\n",
    "import matplotlib.pylab as pylab\n",
    "from scipy.fftpack import fft\n",
    "from scipy import signal \n",
    "from util import *\n",
    "\n",
    "%matplotlib inline\n",
    "mpld3.enable_notebook()"
   ]
  },
  {
   "cell_type": "markdown",
   "metadata": {},
   "source": [
    "---\n",
    "## 1.0 Global Parameters"
   ]
  },
  {
   "cell_type": "code",
   "execution_count": null,
   "metadata": {},
   "outputs": [],
   "source": [
    "# Global Configuration Dictionary for Plot Customisation\n",
    "# use pylab.rcParams.update(params) to update settings\n",
    "params = {'lines.linewidth' : 1,\n",
    "          'legend.fontsize': 24,\n",
    "          'legend.loc': 'best',\n",
    "          'figure.figsize': (17, 10),\n",
    "         'axes.labelsize': 24,\n",
    "         'axes.titlesize': 24,\n",
    "         'xtick.labelsize': 24,\n",
    "         'ytick.labelsize': 24}\n",
    "\n",
    "# Update plot customisation parameters\n",
    "pylab.rcParams.update(params)\n",
    "\n",
    "# ==============================================\n",
    "# Initialisation Parameters\n",
    "# ==============================================\n",
    "# Filter functions presets\n",
    "fs = 50 # sampling frequency"
   ]
  },
  {
   "cell_type": "markdown",
   "metadata": {},
   "source": [
    "---\n",
    "## 2.0 Data Pre-processing and Visualisation"
   ]
  },
  {
   "cell_type": "code",
   "execution_count": null,
   "metadata": {},
   "outputs": [],
   "source": [
    "# ======================================================================\n",
    "# Edit the input variable below to change to the folder path of interest\n",
    "# ======================================================================\n",
    "working_path = get_folder_path('ftap-wrist')\n",
    "\n",
    "# Data Overview\n",
    "display(working_path)\n",
    "\n",
    "# File and directory management\n",
    "os.chdir(working_path)\n",
    "directory = os.listdir()\n",
    "\n",
    "for file in directory:\n",
    "    display(file)\n",
    "    df = pd.read_csv(file)\n",
    "    if df is None:\n",
    "        continue\n",
    "\n",
    "    # ==============================================\n",
    "    # Data Pre-processing\n",
    "    # ==============================================\n",
    "    # Filter functions\n",
    "    \n",
    "    # ==============================================\n",
    "    # Data Visualisation\n",
    "    # ==============================================\n",
    "    # Uncomment sections below to enable plots of interest\n",
    "    plot_time_3_axes(df, file, savefig=False)\n",
    "    plot_frequency(df, fs, file, savefig=False)\n",
    "\n",
    "os.chdir('..')"
   ]
  },
  {
   "cell_type": "markdown",
   "metadata": {},
   "source": [
    "---\n",
    "## 3.0 Truncated Data Pre-processing and Visualisation"
   ]
  },
  {
   "cell_type": "code",
   "execution_count": null,
   "metadata": {},
   "outputs": [],
   "source": [
    "# # ==============================================\n",
    "# # Truncated Data Analysis\n",
    "# # ==============================================\n",
    "working_path = get_folder_path('ftap-wrist')\n",
    "file = 'ftap-lvl0-wrist_S2_2019-12-05T09.44.38.283_C49948A1895C_Accelerometer_1.4.5.csv'\n",
    "\n",
    "# Data pre-processing\n",
    "df = pd.read_csv(os.path.join(working_path,file))\n",
    "df_1, df_2, df_3 = truncate_dataframe(working_path, file, 36, 46, 67.5, 78.8, 95, 106.5)\n",
    "\n",
    "# Data visualisation\n",
    "# Trial #1 Dataframe\n",
    "plot_time_3_axes(df_1, file, savefig=False)\n",
    "plot_frequency(df_1, fs, file, savefig=False)\n",
    "\n",
    "# Trial #2 Dataframe\n",
    "plot_time_3_axes(df_2, file, savefig=False)\n",
    "plot_frequency(df_2, fs, file, savefig=False)\n",
    "\n",
    "# Trial #3 Dataframe\n",
    "plot_time_3_axes(df_3, file, savefig=False)\n",
    "plot_frequency(df_3, fs, file, savefig=False)"
   ]
  }
 ],
 "metadata": {
  "kernelspec": {
   "display_name": "Python 3",
   "language": "python",
   "name": "python3"
  },
  "language_info": {
   "codemirror_mode": {
    "name": "ipython",
    "version": 3
   },
   "file_extension": ".py",
   "mimetype": "text/x-python",
   "name": "python",
   "nbconvert_exporter": "python",
   "pygments_lexer": "ipython3",
   "version": "3.7.3"
  }
 },
 "nbformat": 4,
 "nbformat_minor": 4
}
