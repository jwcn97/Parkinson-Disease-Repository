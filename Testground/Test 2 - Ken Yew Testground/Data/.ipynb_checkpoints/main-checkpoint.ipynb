{
 "cells": [
  {
   "cell_type": "markdown",
   "metadata": {},
   "source": [
    "# Data Analysis and Visualisation\n",
    "## 1. Import Libraries"
   ]
  },
  {
   "cell_type": "code",
   "execution_count": 1,
   "metadata": {},
   "outputs": [
    {
     "name": "stdout",
     "output_type": "stream",
     "text": [
      "importing Jupyter notebook from util.ipynb\n"
     ]
    }
   ],
   "source": [
    "import os\n",
    "import numpy as np\n",
    "import pandas as pd\n",
    "import matplotlib.pyplot as plt\n",
    "import matplotlib.pylab as pylab\n",
    "from scipy.fftpack import fft\n",
    "from scipy import signal\n",
    "\n",
    "import import_ipynb\n",
    "from util import *"
   ]
  },
  {
   "cell_type": "markdown",
   "metadata": {},
   "source": [
    "## 2. Global Parameters"
   ]
  },
  {
   "cell_type": "code",
   "execution_count": 2,
   "metadata": {},
   "outputs": [],
   "source": [
    "# Global Configuration Dictionary for Plot Customisation\n",
    "# use pylab.rcParams.update(params) to update settings\n",
    "params = {'lines.linewidth' : 1,\n",
    "          'legend.fontsize': 'x-large',\n",
    "          'figure.figsize': (15, 5),\n",
    "         'axes.labelsize': 'large',\n",
    "         'axes.titlesize':'x-large',\n",
    "         'xtick.labelsize':'x-large',\n",
    "         'ytick.labelsize':'x-large'}\n",
    "\n",
    "# Default mappings\n",
    "df_column_mapping = {\n",
    "    'x' : 3,\n",
    "    'y' : 4,\n",
    "    'z' : 5\n",
    "}\n",
    "axis_listing = ['x', 'y', 'z']\n",
    "\n",
    "# Frequency presets\n",
    "fs = 512 # sampling frequency\n",
    "cutoff = 10 # cut-off frequency"
   ]
  },
  {
   "cell_type": "markdown",
   "metadata": {},
   "source": [
    "## 3. Data Wrangling and Analysis"
   ]
  },
  {
   "cell_type": "markdown",
   "metadata": {},
   "source": [
    "### 3.1 Data Import "
   ]
  },
  {
   "cell_type": "code",
   "execution_count": 3,
   "metadata": {},
   "outputs": [],
   "source": [
    "# ======================================================================\n",
    "# Edit the input variable below to change to the folder path of interest\n",
    "# ======================================================================\n",
    "working_path = get_folder_path(\"Handgrip\")\n",
    "\n",
    "# File and directory management\n",
    "os.chdir(working_path)\n",
    "directory = os.listdir()\n",
    "file = 'hgrip-lvl0-try3-forearm_Metawear_2019-11-10T16.34.00.327_C5013CAC38C1_Accelerometer_1.4.5.csv'\n",
    "df = read_csv_file(file)\n",
    "df.head()\n",
    "\n",
    "os.chdir('..')"
   ]
  },
  {
   "cell_type": "markdown",
   "metadata": {},
   "source": [
    "### 3.2 Raw Dataframe Inspection"
   ]
  },
  {
   "cell_type": "code",
   "execution_count": 4,
   "metadata": {},
   "outputs": [
    {
     "data": {
      "text/html": [
       "<div>\n",
       "<style scoped>\n",
       "    .dataframe tbody tr th:only-of-type {\n",
       "        vertical-align: middle;\n",
       "    }\n",
       "\n",
       "    .dataframe tbody tr th {\n",
       "        vertical-align: top;\n",
       "    }\n",
       "\n",
       "    .dataframe thead th {\n",
       "        text-align: right;\n",
       "    }\n",
       "</style>\n",
       "<table border=\"1\" class=\"dataframe\">\n",
       "  <thead>\n",
       "    <tr style=\"text-align: right;\">\n",
       "      <th></th>\n",
       "      <th>epoch (ms)</th>\n",
       "      <th>time (-00:00)</th>\n",
       "      <th>elapsed (s)</th>\n",
       "      <th>x-axis (g)</th>\n",
       "      <th>y-axis (g)</th>\n",
       "      <th>z-axis (g)</th>\n",
       "    </tr>\n",
       "  </thead>\n",
       "  <tbody>\n",
       "    <tr>\n",
       "      <td>0</td>\n",
       "      <td>1573403640327</td>\n",
       "      <td>2019-11-10T16:34:00.327</td>\n",
       "      <td>0.000</td>\n",
       "      <td>0.882</td>\n",
       "      <td>0.083</td>\n",
       "      <td>-0.465</td>\n",
       "    </tr>\n",
       "    <tr>\n",
       "      <td>1</td>\n",
       "      <td>1573403640346</td>\n",
       "      <td>2019-11-10T16:34:00.346</td>\n",
       "      <td>0.019</td>\n",
       "      <td>0.881</td>\n",
       "      <td>0.084</td>\n",
       "      <td>-0.474</td>\n",
       "    </tr>\n",
       "    <tr>\n",
       "      <td>2</td>\n",
       "      <td>1573403640366</td>\n",
       "      <td>2019-11-10T16:34:00.366</td>\n",
       "      <td>0.039</td>\n",
       "      <td>0.879</td>\n",
       "      <td>0.085</td>\n",
       "      <td>-0.473</td>\n",
       "    </tr>\n",
       "    <tr>\n",
       "      <td>3</td>\n",
       "      <td>1573403640387</td>\n",
       "      <td>2019-11-10T16:34:00.387</td>\n",
       "      <td>0.060</td>\n",
       "      <td>0.888</td>\n",
       "      <td>0.085</td>\n",
       "      <td>-0.468</td>\n",
       "    </tr>\n",
       "    <tr>\n",
       "      <td>4</td>\n",
       "      <td>1573403640406</td>\n",
       "      <td>2019-11-10T16:34:00.406</td>\n",
       "      <td>0.079</td>\n",
       "      <td>0.889</td>\n",
       "      <td>0.083</td>\n",
       "      <td>-0.467</td>\n",
       "    </tr>\n",
       "  </tbody>\n",
       "</table>\n",
       "</div>"
      ],
      "text/plain": [
       "      epoch (ms)            time (-00:00)  elapsed (s)  x-axis (g)  \\\n",
       "0  1573403640327  2019-11-10T16:34:00.327        0.000       0.882   \n",
       "1  1573403640346  2019-11-10T16:34:00.346        0.019       0.881   \n",
       "2  1573403640366  2019-11-10T16:34:00.366        0.039       0.879   \n",
       "3  1573403640387  2019-11-10T16:34:00.387        0.060       0.888   \n",
       "4  1573403640406  2019-11-10T16:34:00.406        0.079       0.889   \n",
       "\n",
       "   y-axis (g)  z-axis (g)  \n",
       "0       0.083      -0.465  \n",
       "1       0.084      -0.474  \n",
       "2       0.085      -0.473  \n",
       "3       0.085      -0.468  \n",
       "4       0.083      -0.467  "
      ]
     },
     "execution_count": 4,
     "metadata": {},
     "output_type": "execute_result"
    }
   ],
   "source": [
    "df.head()"
   ]
  },
  {
   "cell_type": "code",
   "execution_count": 5,
   "metadata": {},
   "outputs": [
    {
     "data": {
      "text/html": [
       "<div>\n",
       "<style scoped>\n",
       "    .dataframe tbody tr th:only-of-type {\n",
       "        vertical-align: middle;\n",
       "    }\n",
       "\n",
       "    .dataframe tbody tr th {\n",
       "        vertical-align: top;\n",
       "    }\n",
       "\n",
       "    .dataframe thead th {\n",
       "        text-align: right;\n",
       "    }\n",
       "</style>\n",
       "<table border=\"1\" class=\"dataframe\">\n",
       "  <thead>\n",
       "    <tr style=\"text-align: right;\">\n",
       "      <th></th>\n",
       "      <th>epoch (ms)</th>\n",
       "      <th>elapsed (s)</th>\n",
       "      <th>x-axis (g)</th>\n",
       "      <th>y-axis (g)</th>\n",
       "      <th>z-axis (g)</th>\n",
       "    </tr>\n",
       "  </thead>\n",
       "  <tbody>\n",
       "    <tr>\n",
       "      <td>count</td>\n",
       "      <td>5.362000e+03</td>\n",
       "      <td>5362.000000</td>\n",
       "      <td>5362.000000</td>\n",
       "      <td>5362.000000</td>\n",
       "      <td>5362.000000</td>\n",
       "    </tr>\n",
       "    <tr>\n",
       "      <td>mean</td>\n",
       "      <td>1.573404e+12</td>\n",
       "      <td>53.824843</td>\n",
       "      <td>0.791729</td>\n",
       "      <td>0.011932</td>\n",
       "      <td>-0.617560</td>\n",
       "    </tr>\n",
       "    <tr>\n",
       "      <td>std</td>\n",
       "      <td>3.108507e+04</td>\n",
       "      <td>31.085073</td>\n",
       "      <td>0.107982</td>\n",
       "      <td>0.100833</td>\n",
       "      <td>0.120569</td>\n",
       "    </tr>\n",
       "    <tr>\n",
       "      <td>min</td>\n",
       "      <td>1.573404e+12</td>\n",
       "      <td>0.000000</td>\n",
       "      <td>0.091000</td>\n",
       "      <td>-0.450000</td>\n",
       "      <td>-1.070000</td>\n",
       "    </tr>\n",
       "    <tr>\n",
       "      <td>25%</td>\n",
       "      <td>1.573404e+12</td>\n",
       "      <td>26.912250</td>\n",
       "      <td>0.722000</td>\n",
       "      <td>-0.064000</td>\n",
       "      <td>-0.716750</td>\n",
       "    </tr>\n",
       "    <tr>\n",
       "      <td>50%</td>\n",
       "      <td>1.573404e+12</td>\n",
       "      <td>53.825000</td>\n",
       "      <td>0.779000</td>\n",
       "      <td>0.014000</td>\n",
       "      <td>-0.658000</td>\n",
       "    </tr>\n",
       "    <tr>\n",
       "      <td>75%</td>\n",
       "      <td>1.573404e+12</td>\n",
       "      <td>80.738000</td>\n",
       "      <td>0.885000</td>\n",
       "      <td>0.083000</td>\n",
       "      <td>-0.473000</td>\n",
       "    </tr>\n",
       "    <tr>\n",
       "      <td>max</td>\n",
       "      <td>1.573404e+12</td>\n",
       "      <td>107.651000</td>\n",
       "      <td>1.430000</td>\n",
       "      <td>0.347000</td>\n",
       "      <td>-0.192000</td>\n",
       "    </tr>\n",
       "  </tbody>\n",
       "</table>\n",
       "</div>"
      ],
      "text/plain": [
       "         epoch (ms)  elapsed (s)   x-axis (g)   y-axis (g)   z-axis (g)\n",
       "count  5.362000e+03  5362.000000  5362.000000  5362.000000  5362.000000\n",
       "mean   1.573404e+12    53.824843     0.791729     0.011932    -0.617560\n",
       "std    3.108507e+04    31.085073     0.107982     0.100833     0.120569\n",
       "min    1.573404e+12     0.000000     0.091000    -0.450000    -1.070000\n",
       "25%    1.573404e+12    26.912250     0.722000    -0.064000    -0.716750\n",
       "50%    1.573404e+12    53.825000     0.779000     0.014000    -0.658000\n",
       "75%    1.573404e+12    80.738000     0.885000     0.083000    -0.473000\n",
       "max    1.573404e+12   107.651000     1.430000     0.347000    -0.192000"
      ]
     },
     "execution_count": 5,
     "metadata": {},
     "output_type": "execute_result"
    }
   ],
   "source": [
    "df.describe()"
   ]
  },
  {
   "cell_type": "code",
   "execution_count": 6,
   "metadata": {},
   "outputs": [
    {
     "name": "stdout",
     "output_type": "stream",
     "text": [
      "<class 'pandas.core.frame.DataFrame'>\n",
      "RangeIndex: 5362 entries, 0 to 5361\n",
      "Data columns (total 6 columns):\n",
      "epoch (ms)       5362 non-null int64\n",
      "time (-00:00)    5362 non-null object\n",
      "elapsed (s)      5362 non-null float64\n",
      "x-axis (g)       5362 non-null float64\n",
      "y-axis (g)       5362 non-null float64\n",
      "z-axis (g)       5362 non-null float64\n",
      "dtypes: float64(4), int64(1), object(1)\n",
      "memory usage: 251.5+ KB\n"
     ]
    }
   ],
   "source": [
    "df.info()"
   ]
  },
  {
   "cell_type": "code",
   "execution_count": 7,
   "metadata": {},
   "outputs": [
    {
     "data": {
      "text/plain": [
       "Index(['epoch (ms)', 'time (-00:00)', 'elapsed (s)', 'x-axis (g)',\n",
       "       'y-axis (g)', 'z-axis (g)'],\n",
       "      dtype='object')"
      ]
     },
     "execution_count": 7,
     "metadata": {},
     "output_type": "execute_result"
    }
   ],
   "source": [
    "df.columns"
   ]
  },
  {
   "cell_type": "markdown",
   "metadata": {},
   "source": [
    "### 3.3 Dataframe Extraction"
   ]
  },
  {
   "cell_type": "code",
   "execution_count": 8,
   "metadata": {},
   "outputs": [],
   "source": [
    "x_axis_data = df['x-axis (g)']\n",
    "y_axis_data = df['y-axis (g)']\n",
    "z_axis_data = df['z-axis (g)']\n",
    "elapsed_time_data = df['elapsed (s)']\n",
    "df_selected_time = df.loc[df['elapsed (s)'].between(50, 90)]\n",
    "# df = df[df['closing_price'].between(99, 101)]\n",
    "# PM10_conc_below_16 = PM10_Data.loc[PM10_Data['Value'] < 16]"
   ]
  },
  {
   "cell_type": "markdown",
   "metadata": {},
   "source": [
    "#### 3.3.1 Filtered Data (between 50 - 90 seconds)"
   ]
  },
  {
   "cell_type": "code",
   "execution_count": 9,
   "metadata": {},
   "outputs": [
    {
     "data": {
      "text/html": [
       "<div>\n",
       "<style scoped>\n",
       "    .dataframe tbody tr th:only-of-type {\n",
       "        vertical-align: middle;\n",
       "    }\n",
       "\n",
       "    .dataframe tbody tr th {\n",
       "        vertical-align: top;\n",
       "    }\n",
       "\n",
       "    .dataframe thead th {\n",
       "        text-align: right;\n",
       "    }\n",
       "</style>\n",
       "<table border=\"1\" class=\"dataframe\">\n",
       "  <thead>\n",
       "    <tr style=\"text-align: right;\">\n",
       "      <th></th>\n",
       "      <th>epoch (ms)</th>\n",
       "      <th>time (-00:00)</th>\n",
       "      <th>elapsed (s)</th>\n",
       "      <th>x-axis (g)</th>\n",
       "      <th>y-axis (g)</th>\n",
       "      <th>z-axis (g)</th>\n",
       "    </tr>\n",
       "  </thead>\n",
       "  <tbody>\n",
       "    <tr>\n",
       "      <td>2491</td>\n",
       "      <td>1573403690347</td>\n",
       "      <td>2019-11-10T16:34:50.347</td>\n",
       "      <td>50.020</td>\n",
       "      <td>0.727</td>\n",
       "      <td>-0.001</td>\n",
       "      <td>-0.727</td>\n",
       "    </tr>\n",
       "    <tr>\n",
       "      <td>2492</td>\n",
       "      <td>1573403690367</td>\n",
       "      <td>2019-11-10T16:34:50.367</td>\n",
       "      <td>50.040</td>\n",
       "      <td>0.730</td>\n",
       "      <td>0.002</td>\n",
       "      <td>-0.722</td>\n",
       "    </tr>\n",
       "    <tr>\n",
       "      <td>2493</td>\n",
       "      <td>1573403690388</td>\n",
       "      <td>2019-11-10T16:34:50.388</td>\n",
       "      <td>50.061</td>\n",
       "      <td>0.732</td>\n",
       "      <td>0.002</td>\n",
       "      <td>-0.722</td>\n",
       "    </tr>\n",
       "    <tr>\n",
       "      <td>2494</td>\n",
       "      <td>1573403690407</td>\n",
       "      <td>2019-11-10T16:34:50.407</td>\n",
       "      <td>50.080</td>\n",
       "      <td>0.734</td>\n",
       "      <td>0.001</td>\n",
       "      <td>-0.727</td>\n",
       "    </tr>\n",
       "    <tr>\n",
       "      <td>2495</td>\n",
       "      <td>1573403690427</td>\n",
       "      <td>2019-11-10T16:34:50.427</td>\n",
       "      <td>50.100</td>\n",
       "      <td>0.720</td>\n",
       "      <td>0.000</td>\n",
       "      <td>-0.723</td>\n",
       "    </tr>\n",
       "  </tbody>\n",
       "</table>\n",
       "</div>"
      ],
      "text/plain": [
       "         epoch (ms)            time (-00:00)  elapsed (s)  x-axis (g)  \\\n",
       "2491  1573403690347  2019-11-10T16:34:50.347       50.020       0.727   \n",
       "2492  1573403690367  2019-11-10T16:34:50.367       50.040       0.730   \n",
       "2493  1573403690388  2019-11-10T16:34:50.388       50.061       0.732   \n",
       "2494  1573403690407  2019-11-10T16:34:50.407       50.080       0.734   \n",
       "2495  1573403690427  2019-11-10T16:34:50.427       50.100       0.720   \n",
       "\n",
       "      y-axis (g)  z-axis (g)  \n",
       "2491      -0.001      -0.727  \n",
       "2492       0.002      -0.722  \n",
       "2493       0.002      -0.722  \n",
       "2494       0.001      -0.727  \n",
       "2495       0.000      -0.723  "
      ]
     },
     "execution_count": 9,
     "metadata": {},
     "output_type": "execute_result"
    }
   ],
   "source": [
    "df_selected_time.head()"
   ]
  },
  {
   "cell_type": "code",
   "execution_count": 15,
   "metadata": {},
   "outputs": [
    {
     "data": {
      "text/html": [
       "<div>\n",
       "<style scoped>\n",
       "    .dataframe tbody tr th:only-of-type {\n",
       "        vertical-align: middle;\n",
       "    }\n",
       "\n",
       "    .dataframe tbody tr th {\n",
       "        vertical-align: top;\n",
       "    }\n",
       "\n",
       "    .dataframe thead th {\n",
       "        text-align: right;\n",
       "    }\n",
       "</style>\n",
       "<table border=\"1\" class=\"dataframe\">\n",
       "  <thead>\n",
       "    <tr style=\"text-align: right;\">\n",
       "      <th></th>\n",
       "      <th>epoch (ms)</th>\n",
       "      <th>elapsed (s)</th>\n",
       "      <th>x-axis (g)</th>\n",
       "      <th>y-axis (g)</th>\n",
       "      <th>z-axis (g)</th>\n",
       "    </tr>\n",
       "  </thead>\n",
       "  <tbody>\n",
       "    <tr>\n",
       "      <td>count</td>\n",
       "      <td>1.992000e+03</td>\n",
       "      <td>1992.000000</td>\n",
       "      <td>1992.000000</td>\n",
       "      <td>1992.000000</td>\n",
       "      <td>1992.000000</td>\n",
       "    </tr>\n",
       "    <tr>\n",
       "      <td>mean</td>\n",
       "      <td>1.573404e+12</td>\n",
       "      <td>70.009752</td>\n",
       "      <td>0.759597</td>\n",
       "      <td>-0.081083</td>\n",
       "      <td>-0.676163</td>\n",
       "    </tr>\n",
       "    <tr>\n",
       "      <td>std</td>\n",
       "      <td>1.154996e+04</td>\n",
       "      <td>11.549959</td>\n",
       "      <td>0.133941</td>\n",
       "      <td>0.084568</td>\n",
       "      <td>0.079527</td>\n",
       "    </tr>\n",
       "    <tr>\n",
       "      <td>min</td>\n",
       "      <td>1.573404e+12</td>\n",
       "      <td>50.020000</td>\n",
       "      <td>0.091000</td>\n",
       "      <td>-0.450000</td>\n",
       "      <td>-1.070000</td>\n",
       "    </tr>\n",
       "    <tr>\n",
       "      <td>25%</td>\n",
       "      <td>1.573404e+12</td>\n",
       "      <td>60.015000</td>\n",
       "      <td>0.701000</td>\n",
       "      <td>-0.126000</td>\n",
       "      <td>-0.723000</td>\n",
       "    </tr>\n",
       "    <tr>\n",
       "      <td>50%</td>\n",
       "      <td>1.573404e+12</td>\n",
       "      <td>70.010500</td>\n",
       "      <td>0.749000</td>\n",
       "      <td>-0.087000</td>\n",
       "      <td>-0.682000</td>\n",
       "    </tr>\n",
       "    <tr>\n",
       "      <td>75%</td>\n",
       "      <td>1.573404e+12</td>\n",
       "      <td>80.004250</td>\n",
       "      <td>0.814000</td>\n",
       "      <td>-0.038750</td>\n",
       "      <td>-0.642000</td>\n",
       "    </tr>\n",
       "    <tr>\n",
       "      <td>max</td>\n",
       "      <td>1.573404e+12</td>\n",
       "      <td>90.000000</td>\n",
       "      <td>1.430000</td>\n",
       "      <td>0.347000</td>\n",
       "      <td>-0.192000</td>\n",
       "    </tr>\n",
       "  </tbody>\n",
       "</table>\n",
       "</div>"
      ],
      "text/plain": [
       "         epoch (ms)  elapsed (s)   x-axis (g)   y-axis (g)   z-axis (g)\n",
       "count  1.992000e+03  1992.000000  1992.000000  1992.000000  1992.000000\n",
       "mean   1.573404e+12    70.009752     0.759597    -0.081083    -0.676163\n",
       "std    1.154996e+04    11.549959     0.133941     0.084568     0.079527\n",
       "min    1.573404e+12    50.020000     0.091000    -0.450000    -1.070000\n",
       "25%    1.573404e+12    60.015000     0.701000    -0.126000    -0.723000\n",
       "50%    1.573404e+12    70.010500     0.749000    -0.087000    -0.682000\n",
       "75%    1.573404e+12    80.004250     0.814000    -0.038750    -0.642000\n",
       "max    1.573404e+12    90.000000     1.430000     0.347000    -0.192000"
      ]
     },
     "execution_count": 15,
     "metadata": {},
     "output_type": "execute_result"
    }
   ],
   "source": [
    "df_selected_time.describe()"
   ]
  },
  {
   "cell_type": "markdown",
   "metadata": {},
   "source": [
    "#### 3.3.2 Frequency domain of filtered data"
   ]
  },
  {
   "cell_type": "code",
   "execution_count": 10,
   "metadata": {},
   "outputs": [],
   "source": [
    "# Create mapping lists\n",
    "select_cols=[3, 4, 5]\n",
    "labels=['x','y','z']\n",
    "\n",
    "lgth, num_signal=df_selected_time.shape\n",
    "fqy = np.zeros([lgth, num_signal])\n",
    "\n",
    "# Perform FFT on data and store in matrix\n",
    "for idx, col in enumerate(select_cols): \n",
    "    fqy[:,idx] = np.abs(fft(df_selected_time.iloc[:, col]))\n",
    "\n",
    "index = np.arange(int(lgth/2))/(int(lgth/2)/(fs/2))\n",
    "\n",
    "fqy_x = fqy[0:int(lgth/2),0]\n",
    "fqy_y = fqy[0:int(lgth/2),1]\n",
    "fqy_z = fqy[0:int(lgth/2),2]\n",
    "\n",
    "df_freq = pd.DataFrame({'x-axis (g)' : fqy_x, 'y-axis (g)' : fqy_y, 'z-axis (g)' : fqy_z})"
   ]
  },
  {
   "cell_type": "code",
   "execution_count": 11,
   "metadata": {},
   "outputs": [
    {
     "data": {
      "text/html": [
       "<div>\n",
       "<style scoped>\n",
       "    .dataframe tbody tr th:only-of-type {\n",
       "        vertical-align: middle;\n",
       "    }\n",
       "\n",
       "    .dataframe tbody tr th {\n",
       "        vertical-align: top;\n",
       "    }\n",
       "\n",
       "    .dataframe thead th {\n",
       "        text-align: right;\n",
       "    }\n",
       "</style>\n",
       "<table border=\"1\" class=\"dataframe\">\n",
       "  <thead>\n",
       "    <tr style=\"text-align: right;\">\n",
       "      <th></th>\n",
       "      <th>x-axis (g)</th>\n",
       "      <th>y-axis (g)</th>\n",
       "      <th>z-axis (g)</th>\n",
       "    </tr>\n",
       "  </thead>\n",
       "  <tbody>\n",
       "    <tr>\n",
       "      <td>0</td>\n",
       "      <td>1513.118000</td>\n",
       "      <td>161.518000</td>\n",
       "      <td>1346.917000</td>\n",
       "    </tr>\n",
       "    <tr>\n",
       "      <td>1</td>\n",
       "      <td>17.835369</td>\n",
       "      <td>14.484714</td>\n",
       "      <td>22.443652</td>\n",
       "    </tr>\n",
       "    <tr>\n",
       "      <td>2</td>\n",
       "      <td>12.356992</td>\n",
       "      <td>11.609626</td>\n",
       "      <td>15.654120</td>\n",
       "    </tr>\n",
       "    <tr>\n",
       "      <td>3</td>\n",
       "      <td>7.837437</td>\n",
       "      <td>16.695389</td>\n",
       "      <td>11.265441</td>\n",
       "    </tr>\n",
       "    <tr>\n",
       "      <td>4</td>\n",
       "      <td>6.672021</td>\n",
       "      <td>12.296432</td>\n",
       "      <td>7.827269</td>\n",
       "    </tr>\n",
       "  </tbody>\n",
       "</table>\n",
       "</div>"
      ],
      "text/plain": [
       "    x-axis (g)  y-axis (g)   z-axis (g)\n",
       "0  1513.118000  161.518000  1346.917000\n",
       "1    17.835369   14.484714    22.443652\n",
       "2    12.356992   11.609626    15.654120\n",
       "3     7.837437   16.695389    11.265441\n",
       "4     6.672021   12.296432     7.827269"
      ]
     },
     "execution_count": 11,
     "metadata": {},
     "output_type": "execute_result"
    }
   ],
   "source": [
    "df_freq.head()"
   ]
  },
  {
   "cell_type": "code",
   "execution_count": 12,
   "metadata": {},
   "outputs": [
    {
     "data": {
      "text/html": [
       "<div>\n",
       "<style scoped>\n",
       "    .dataframe tbody tr th:only-of-type {\n",
       "        vertical-align: middle;\n",
       "    }\n",
       "\n",
       "    .dataframe tbody tr th {\n",
       "        vertical-align: top;\n",
       "    }\n",
       "\n",
       "    .dataframe thead th {\n",
       "        text-align: right;\n",
       "    }\n",
       "</style>\n",
       "<table border=\"1\" class=\"dataframe\">\n",
       "  <thead>\n",
       "    <tr style=\"text-align: right;\">\n",
       "      <th></th>\n",
       "      <th>x-axis (g)</th>\n",
       "      <th>y-axis (g)</th>\n",
       "      <th>z-axis (g)</th>\n",
       "    </tr>\n",
       "  </thead>\n",
       "  <tbody>\n",
       "    <tr>\n",
       "      <td>count</td>\n",
       "      <td>996.000000</td>\n",
       "      <td>996.000000</td>\n",
       "      <td>996.000000</td>\n",
       "    </tr>\n",
       "    <tr>\n",
       "      <td>mean</td>\n",
       "      <td>6.412787</td>\n",
       "      <td>3.188662</td>\n",
       "      <td>4.253260</td>\n",
       "    </tr>\n",
       "    <tr>\n",
       "      <td>std</td>\n",
       "      <td>47.912518</td>\n",
       "      <td>5.503144</td>\n",
       "      <td>42.635574</td>\n",
       "    </tr>\n",
       "    <tr>\n",
       "      <td>min</td>\n",
       "      <td>0.116334</td>\n",
       "      <td>0.165740</td>\n",
       "      <td>0.033125</td>\n",
       "    </tr>\n",
       "    <tr>\n",
       "      <td>25%</td>\n",
       "      <td>2.213495</td>\n",
       "      <td>1.558438</td>\n",
       "      <td>1.503476</td>\n",
       "    </tr>\n",
       "    <tr>\n",
       "      <td>50%</td>\n",
       "      <td>4.164289</td>\n",
       "      <td>2.542731</td>\n",
       "      <td>2.456586</td>\n",
       "    </tr>\n",
       "    <tr>\n",
       "      <td>75%</td>\n",
       "      <td>6.811962</td>\n",
       "      <td>3.887709</td>\n",
       "      <td>3.850439</td>\n",
       "    </tr>\n",
       "    <tr>\n",
       "      <td>max</td>\n",
       "      <td>1513.118000</td>\n",
       "      <td>161.518000</td>\n",
       "      <td>1346.917000</td>\n",
       "    </tr>\n",
       "  </tbody>\n",
       "</table>\n",
       "</div>"
      ],
      "text/plain": [
       "        x-axis (g)  y-axis (g)   z-axis (g)\n",
       "count   996.000000  996.000000   996.000000\n",
       "mean      6.412787    3.188662     4.253260\n",
       "std      47.912518    5.503144    42.635574\n",
       "min       0.116334    0.165740     0.033125\n",
       "25%       2.213495    1.558438     1.503476\n",
       "50%       4.164289    2.542731     2.456586\n",
       "75%       6.811962    3.887709     3.850439\n",
       "max    1513.118000  161.518000  1346.917000"
      ]
     },
     "execution_count": 12,
     "metadata": {},
     "output_type": "execute_result"
    }
   ],
   "source": [
    "df_freq.describe()"
   ]
  },
  {
   "cell_type": "markdown",
   "metadata": {},
   "source": [
    "### 3.4 Data Visualisation of Filtered Data"
   ]
  },
  {
   "cell_type": "code",
   "execution_count": 13,
   "metadata": {},
   "outputs": [
    {
     "data": {
      "image/png": "[encoded data removed]",
      "text/plain": [
       "<Figure size 1080x360 with 1 Axes>"
      ]
     },
     "metadata": {
      "needs_background": "light"
     },
     "output_type": "display_data"
    },
    {
     "data": {
      "image/png": "[encoded data removed]",
      "text/plain": [
       "<Figure size 1080x360 with 1 Axes>"
      ]
     },
     "metadata": {
      "needs_background": "light"
     },
     "output_type": "display_data"
    }
   ],
   "source": [
    "pylab.rcParams.update(params)\n",
    "plot_time_3_axes(df_selected_time, t = file)\n",
    "plot_frequency(df_selected_time, fs, t = file)"
   ]
  },
  {
   "cell_type": "markdown",
   "metadata": {},
   "source": [
    "## 4. Data Visualisation"
   ]
  },
  {
   "cell_type": "code",
   "execution_count": null,
   "metadata": {},
   "outputs": [],
   "source": [
    "plot_time_3_axes(df, t = file)\n",
    "plot_frequency(df, fs, t = file)"
   ]
  },
  {
   "cell_type": "code",
   "execution_count": 17,
   "metadata": {},
   "outputs": [
    {
     "ename": "IndentationError",
     "evalue": "unexpected indent (<ipython-input-17-304864a685ab>, line 35)",
     "output_type": "error",
     "traceback": [
      "\u001b[0;36m  File \u001b[0;32m\"<ipython-input-17-304864a685ab>\"\u001b[0;36m, line \u001b[0;32m35\u001b[0m\n\u001b[0;31m    \"\"\"\u001b[0m\n\u001b[0m    ^\u001b[0m\n\u001b[0;31mIndentationError\u001b[0m\u001b[0;31m:\u001b[0m unexpected indent\n"
     ]
    }
   ],
   "source": [
    "# # ======================================================================\n",
    "# # Edit the input variable below to change to the folder path of interest\n",
    "# # ======================================================================\n",
    "# working_path = get_folder_path(\"Handgrip\")\n",
    "\n",
    "# # File and directory management\n",
    "# os.chdir(working_path)\n",
    "# directory = os.listdir()\n",
    "\n",
    "# for file in directory:\n",
    "#     df = read_csv_file(file)\n",
    "    \n",
    "#     if df is None:\n",
    "#         continue\n",
    "    \n",
    "#     # Update plot customisation parameters\n",
    "#     pylab.rcParams.update(params)\n",
    "\n",
    "#     # ==============================================\n",
    "#     # Default Plots\n",
    "#     # ==============================================\n",
    "#     # plot_in_3d(df, t = file)\n",
    "#     plot_time_3_axes(df, t = file)\n",
    "#     plot_frequency(df, fs, t = file)\n",
    "\n",
    "#     # Uncomment sections below to enable plots of interest\n",
    "#     \"\"\"\n",
    "#     # ==============================================\n",
    "#     # Filtered Signals - Data Pre-processing\n",
    "#     # ==============================================\n",
    "#     median_data=median_filter(df, 155)\n",
    "#     lpf_data=freq_filter(df, 155, cutoff/fs)\n",
    "#     comb_data=freq_filter_recursive(median_data, 155, cutoff/fs)\n",
    "#     \"\"\"\n",
    "\n",
    "#     \"\"\"\n",
    "#     # ==============================================\n",
    "#     # Low Pass Filter Plots\n",
    "#     # ==============================================\n",
    "#     plot_time_3_axes(lpf_data, t = \"LPF: \" + file)\n",
    "#     plot_frequency_recursive(lpf_data, fs, t = \"LPF: \" + file)\n",
    "#     \"\"\"\n",
    "    \n",
    "#     \"\"\"\n",
    "#     # ==============================================\n",
    "#     # Median Pass Filter Plots\n",
    "#     # ==============================================\n",
    "#     plot_time_3_axes(median_data, t = \"Median Filter: \" + file)\n",
    "#     plot_frequency_recursive(median_data, fs, t = \"Median Filter: \" + file)\n",
    "#     \"\"\"\n",
    "\n",
    "#     \"\"\"\n",
    "#     # ==============================================\n",
    "#     # Combined (Low + Median) Pass Filter Plots\n",
    "#     # ==============================================\n",
    "#     plot_time_3_axes(comb_data, t = \"Combined Filter: \" + file)\n",
    "#     plot_frequency_recursive(comb_data, fs, t = \"Combined Filter: \" + file)\n",
    "#     \"\"\"\n",
    "#     \"\"\"\n",
    "#     # ==============================================\n",
    "#     # Integrated Signals Plots\n",
    "#     # ==============================================\n",
    "#     integrated_data = acc_integration(df)\n",
    "#     plot_time_3_axes(integrated_data, t = \"Integrated Signal (Velocity): \" + file)\n",
    "#     \"\"\"\n",
    "    \n",
    "# os.chdir('..')"
   ]
  },
  {
   "cell_type": "code",
   "execution_count": null,
   "metadata": {},
   "outputs": [],
   "source": []
  }
 ],
 "metadata": {
  "kernelspec": {
   "display_name": "Python 3",
   "language": "python",
   "name": "python3"
  },
  "language_info": {
   "codemirror_mode": {
    "name": "ipython",
    "version": 3
   },
   "file_extension": ".py",
   "mimetype": "text/x-python",
   "name": "python",
   "nbconvert_exporter": "python",
   "pygments_lexer": "ipython3",
   "version": "3.7.3"
  }
 },
 "nbformat": 4,
 "nbformat_minor": 4
}
