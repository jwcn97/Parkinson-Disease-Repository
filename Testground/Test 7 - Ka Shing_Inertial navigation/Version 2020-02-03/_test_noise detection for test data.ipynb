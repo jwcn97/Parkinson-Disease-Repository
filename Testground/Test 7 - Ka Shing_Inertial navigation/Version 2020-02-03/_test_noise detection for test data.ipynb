{
 "cells": [
  {
   "cell_type": "code",
   "execution_count": 1,
   "metadata": {},
   "outputs": [],
   "source": [
    "# Imports \n",
    "import os\n",
    "import math\n",
    "\n",
    "import pandas as pd\n",
    "import matplotlib.pyplot as plt\n",
    "import numpy as np\n",
    "\n",
    "from scipy import fftpack\n",
    "from scipy import signal\n",
    "from datetime import datetime as dt\n",
    "from scipy.spatial.transform import Rotation as R\n",
    "from tqdm.notebook import tqdm_notebook as tqdm\n"
   ]
  },
  {
   "cell_type": "code",
   "execution_count": 2,
   "metadata": {},
   "outputs": [
    {
     "name": "stderr",
     "output_type": "stream",
     "text": [
      "C:\\Users\\User\\Anaconda3\\envs\\virtualcy\\lib\\site-packages\\tqdm\\std.py:658: FutureWarning: The Panel class is removed from pandas. Accessing it from the top-level namespace will also be removed in the next version\n",
      "  from pandas import Panel\n"
     ]
    }
   ],
   "source": [
    "# Setup\n",
    "%matplotlib inline\n",
    "tqdm.pandas()"
   ]
  },
  {
   "cell_type": "code",
   "execution_count": 3,
   "metadata": {},
   "outputs": [
    {
     "name": "stdout",
     "output_type": "stream",
     "text": [
      "0: 4test-100-8g-500_Metawear_2020-02-11T13.28.11.448_C5013CAC38C1_Accelerometer_1.5.0.csv\n",
      "1: 4test-100-8g-500_Metawear_2020-02-11T13.28.11.448_C5013CAC38C1_Gyroscope_1.5.0.csv\n",
      "2: 4test-linacc-eul-100_Metawear_2020-02-11T13.05.36.569_C5013CAC38C1_Euler Angles_1.5.0.csv\n",
      "3: 4test-linacc-eul-100_Metawear_2020-02-11T13.05.36.569_C5013CAC38C1_Linear Acceleration_1.5.0.csv\n",
      "4: 4test-linacc-eul-pr-100-0.99hz_Metawear_2020-02-11T13.14.03.885_C5013CAC38C1_Euler Angles_1.5.0.csv\n",
      "5: 4test-linacc-eul-pr-100-0.99hz_Metawear_2020-02-11T13.14.03.885_C5013CAC38C1_Linear Acceleration_1.5.0.csv\n",
      "6: 4test-linacc-eul-pr-100-0.99hz_Metawear_2020-02-11T13.14.03.885_C5013CAC38C1_Pressure_1.5.0.csv\n",
      "7: 4test-linacc-grav-100_Metawear_2020-02-11T12.59.44.302_C5013CAC38C1_Gravity_1.5.0.csv\n",
      "8: 4test-linacc-grav-100_Metawear_2020-02-11T12.59.44.302_C5013CAC38C1_Linear Acceleration_1.5.0.csv\n",
      "9: 4test-linacc-qua-100_Metawear_2020-02-11T13.09.29.542_C5013CAC38C1_Linear Acceleration_1.5.0.csv\n",
      "10: 4test-linacc-qua-100_Metawear_2020-02-11T13.09.29.542_C5013CAC38C1_Quaternion_1.5.0.csv\n",
      "11: 4test-linacc-qua-pr-100-0.99hz_Metawear_2020-02-11T13.17.42.324_C5013CAC38C1_Linear Acceleration_1.5.0.csv\n",
      "12: 4test-linacc-qua-pr-100-0.99hz_Metawear_2020-02-11T13.17.42.324_C5013CAC38C1_Pressure_1.5.0.csv\n",
      "13: 4test-linacc-qua-pr-100-0.99hz_Metawear_2020-02-11T13.17.42.324_C5013CAC38C1_Quaternion_1.5.0.csv\n",
      "14: noise-4g-250_Metawear_2020-02-03T12.49.14.734_C5013CAC38C1_Accelerometer_1.5.0.csv\n",
      "15: noise-4g-250_Metawear_2020-02-03T12.49.14.734_C5013CAC38C1_Gyroscope_1.5.0.csv\n",
      "16: temptrytry_Metawear_2020-02-18T04.31.47.144_C5013CAC38C1_Magnetometer_1.5.0.csv\n",
      "17: temptrytry_Metawear_2020-02-18T04.31.47.144_C5013CAC38C1_Pressure_1.5.0.csv\n",
      "18: temptrytry_Metawear_2020-02-18T04.31.47.144_C5013CAC38C1_Temperature_1.5.0.csv\n",
      "19: temptry_Metawear_2020-02-18T00.53.27.622_C5013CAC38C1_Linear Acceleration_1.5.0.csv\n",
      "20: temptry_Metawear_2020-02-18T00.53.27.622_C5013CAC38C1_Temperature_1.5.0.csv\n",
      "21: xacc-pure-8g-500_Metawear_2020-01-30T22.42.27.635_C5013CAC38C1_Accelerometer_1.5.0.csv\n",
      "22: xacc-pure-8g-500_Metawear_2020-01-30T22.42.27.635_C5013CAC38C1_Gyroscope_1.5.0.csv\n",
      "23: xcomb-8g-500_Metawear_2020-01-30T22.46.34.738_C5013CAC38C1_Accelerometer_1.5.0.csv\n",
      "24: xcomb-8g-500_Metawear_2020-01-30T22.46.34.738_C5013CAC38C1_Gyroscope_1.5.0.csv\n",
      "25: xgyro-pure-8g-500_Metawear_2020-01-30T22.44.45.632_C5013CAC38C1_Accelerometer_1.5.0.csv\n",
      "26: xgyro-pure-8g-500_Metawear_2020-01-30T22.44.45.632_C5013CAC38C1_Gyroscope_1.5.0.csv\n",
      "27: xnew-50-8g-500_Metawear_2020-02-11T12.47.28.972_C5013CAC38C1_Accelerometer_1.5.0.csv\n",
      "28: xnew-50-8g-500_Metawear_2020-02-11T12.47.28.972_C5013CAC38C1_Gyroscope_1.5.0.csv\n",
      "29: xtoy-8g-500_Metawear_2020-01-30T23.47.49.724_C5013CAC38C1_Accelerometer_1.5.0.csv\n",
      "30: xtoy-8g-500_Metawear_2020-01-30T23.47.49.724_C5013CAC38C1_Gyroscope_1.5.0.csv\n",
      "31: yacc-pure-8g-500_Metawear_2020-01-30T23.07.04.787_C5013CAC38C1_Accelerometer_1.5.0.csv\n",
      "32: yacc-pure-8g-500_Metawear_2020-01-30T23.07.04.787_C5013CAC38C1_Gyroscope_1.5.0.csv\n",
      "33: ycomb-8g-500_Metawear_2020-01-30T23.17.22.909_C5013CAC38C1_Accelerometer_1.5.0.csv\n",
      "34: ycomb-8g-500_Metawear_2020-01-30T23.17.22.909_C5013CAC38C1_Gyroscope_1.5.0.csv\n",
      "35: ygyro-pure-8g-500_Metawear_2020-01-30T23.11.07.075_C5013CAC38C1_Accelerometer_1.5.0.csv\n",
      "36: ygyro-pure-8g-500_Metawear_2020-01-30T23.11.07.075_C5013CAC38C1_Gyroscope_1.5.0.csv\n",
      "37: ynew-50-8g-500_Metawear_2020-02-11T12.50.52.651_C5013CAC38C1_Accelerometer_1.5.0.csv\n",
      "38: ynew-50-8g-500_Metawear_2020-02-11T12.50.52.651_C5013CAC38C1_Gyroscope_1.5.0.csv\n",
      "39: ytoy-8g-500_Metawear_2020-01-30T23.52.49.342_C5013CAC38C1_Accelerometer_1.5.0.csv\n",
      "40: ytoy-8g-500_Metawear_2020-01-30T23.52.49.342_C5013CAC38C1_Gyroscope_1.5.0.csv\n",
      "41: zacc-pure-8g-500_Metawear_2020-01-30T23.24.10.298_C5013CAC38C1_Accelerometer_1.5.0.csv\n",
      "42: zacc-pure-8g-500_Metawear_2020-01-30T23.24.10.298_C5013CAC38C1_Gyroscope_1.5.0.csv\n",
      "43: zcomb-8g-500_Metawear_2020-01-30T23.42.43.077_C5013CAC38C1_Accelerometer_1.5.0.csv\n",
      "44: zcomb-8g-500_Metawear_2020-01-30T23.42.43.077_C5013CAC38C1_Gyroscope_1.5.0.csv\n",
      "45: zgyro-pure-8g-500_Metawear_2020-01-30T23.40.42.457_C5013CAC38C1_Accelerometer_1.5.0.csv\n",
      "46: zgyro-pure-8g-500_Metawear_2020-01-30T23.40.42.457_C5013CAC38C1_Gyroscope_1.5.0.csv\n",
      "47: znew-50-8g-500_Metawear_2020-02-11T12.53.31.572_C5013CAC38C1_Accelerometer_1.5.0.csv\n",
      "48: znew-50-8g-500_Metawear_2020-02-11T12.53.31.572_C5013CAC38C1_Gyroscope_1.5.0.csv\n",
      "49: ztoy-8g-500_Metawear_2020-01-30T23.54.15.088_C5013CAC38C1_Accelerometer_1.5.0.csv\n",
      "50: ztoy-8g-500_Metawear_2020-01-30T23.54.15.088_C5013CAC38C1_Gyroscope_1.5.0.csv\n"
     ]
    }
   ],
   "source": [
    "# Get directory\n",
    "def get_dir(add, show=True):\n",
    "    \"\"\"\n",
    "    Get contents of directory\n",
    "    \n",
    "    Param: \n",
    "        add: str: address\n",
    "        show: boolean: if True, prints contents with indexing\n",
    "    Return:\n",
    "        result: str[]: directory contents\n",
    "    \"\"\"\n",
    "    result = os.listdir(add)\n",
    "    \n",
    "    # Print\n",
    "    if show: \n",
    "        for ix, v in enumerate(result):\n",
    "            print(str(ix) + ': ' + v)\n",
    "        \n",
    "    return result\n",
    "\n",
    "address = '\\\\'.join(os.getcwd().split(\n",
    "    '\\\\')[:-3]) + '\\\\Testground' + '\\\\Test 3 - Chin Yang Playground' + '\\\\PD_redo' + '\\\\'\n",
    "\n",
    "directory = get_dir(address)"
   ]
  },
  {
   "cell_type": "code",
   "execution_count": 4,
   "metadata": {},
   "outputs": [],
   "source": [
    "# Load data\n",
    "index = 27\n",
    "\n",
    "assert index >= 0\n",
    "# assert index % 2 == 0\n",
    "assert index + 1 < len(directory)"
   ]
  },
  {
   "cell_type": "code",
   "execution_count": 5,
   "metadata": {},
   "outputs": [],
   "source": [
    "# Accelerometer and gyroscope loading\n",
    "d = {}\n",
    "\n",
    "for i in [('a', 0), ('g', 1)]:\n",
    "    # Name\n",
    "    d[i[0]] = {'name': directory[index + i[1]]}\n",
    "    \n",
    "    # Address\n",
    "    d[i[0]]['add'] = address + d[i[0]]['name']\n",
    "    \n",
    "    # Dataframe\n",
    "    d[i[0]]['df'] = pd.read_csv(d[i[0]]['add'])\n",
    "    \n",
    "    # Rename columns\n",
    "    d[i[0]]['df'] = d[i[0]]['df'].rename(\n",
    "    {\n",
    "        k: k.replace('-', ' ').split(' ')[0] for k in d[i[0]]['df'].columns\n",
    "    }, axis='columns')"
   ]
  },
  {
   "cell_type": "code",
   "execution_count": 6,
   "metadata": {},
   "outputs": [
    {
     "data": {
      "text/html": [
       "<div>\n",
       "<style scoped>\n",
       "    .dataframe tbody tr th:only-of-type {\n",
       "        vertical-align: middle;\n",
       "    }\n",
       "\n",
       "    .dataframe tbody tr th {\n",
       "        vertical-align: top;\n",
       "    }\n",
       "\n",
       "    .dataframe thead th {\n",
       "        text-align: right;\n",
       "    }\n",
       "</style>\n",
       "<table border=\"1\" class=\"dataframe\">\n",
       "  <thead>\n",
       "    <tr style=\"text-align: right;\">\n",
       "      <th></th>\n",
       "      <th>epoch</th>\n",
       "      <th>time</th>\n",
       "      <th>elapsed</th>\n",
       "      <th>x</th>\n",
       "      <th>y</th>\n",
       "      <th>z</th>\n",
       "    </tr>\n",
       "  </thead>\n",
       "  <tbody>\n",
       "    <tr>\n",
       "      <th>0</th>\n",
       "      <td>1581425248972</td>\n",
       "      <td>2020-02-11T12:47:28.972</td>\n",
       "      <td>0.000</td>\n",
       "      <td>-0.041</td>\n",
       "      <td>0.014</td>\n",
       "      <td>-1.059</td>\n",
       "    </tr>\n",
       "    <tr>\n",
       "      <th>1</th>\n",
       "      <td>1581425248993</td>\n",
       "      <td>2020-02-11T12:47:28.993</td>\n",
       "      <td>0.021</td>\n",
       "      <td>-0.041</td>\n",
       "      <td>0.014</td>\n",
       "      <td>-1.066</td>\n",
       "    </tr>\n",
       "    <tr>\n",
       "      <th>2</th>\n",
       "      <td>1581425249013</td>\n",
       "      <td>2020-02-11T12:47:29.013</td>\n",
       "      <td>0.041</td>\n",
       "      <td>-0.040</td>\n",
       "      <td>0.016</td>\n",
       "      <td>-1.063</td>\n",
       "    </tr>\n",
       "    <tr>\n",
       "      <th>3</th>\n",
       "      <td>1581425249032</td>\n",
       "      <td>2020-02-11T12:47:29.032</td>\n",
       "      <td>0.060</td>\n",
       "      <td>-0.041</td>\n",
       "      <td>0.016</td>\n",
       "      <td>-1.064</td>\n",
       "    </tr>\n",
       "    <tr>\n",
       "      <th>4</th>\n",
       "      <td>1581425249053</td>\n",
       "      <td>2020-02-11T12:47:29.053</td>\n",
       "      <td>0.081</td>\n",
       "      <td>-0.039</td>\n",
       "      <td>0.015</td>\n",
       "      <td>-1.065</td>\n",
       "    </tr>\n",
       "    <tr>\n",
       "      <th>...</th>\n",
       "      <td>...</td>\n",
       "      <td>...</td>\n",
       "      <td>...</td>\n",
       "      <td>...</td>\n",
       "      <td>...</td>\n",
       "      <td>...</td>\n",
       "    </tr>\n",
       "    <tr>\n",
       "      <th>4121</th>\n",
       "      <td>1581425331712</td>\n",
       "      <td>2020-02-11T12:48:51.712</td>\n",
       "      <td>82.740</td>\n",
       "      <td>-0.040</td>\n",
       "      <td>0.016</td>\n",
       "      <td>-1.063</td>\n",
       "    </tr>\n",
       "    <tr>\n",
       "      <th>4122</th>\n",
       "      <td>1581425331733</td>\n",
       "      <td>2020-02-11T12:48:51.733</td>\n",
       "      <td>82.761</td>\n",
       "      <td>-0.041</td>\n",
       "      <td>0.016</td>\n",
       "      <td>-1.065</td>\n",
       "    </tr>\n",
       "    <tr>\n",
       "      <th>4123</th>\n",
       "      <td>1581425331753</td>\n",
       "      <td>2020-02-11T12:48:51.753</td>\n",
       "      <td>82.781</td>\n",
       "      <td>-0.042</td>\n",
       "      <td>0.015</td>\n",
       "      <td>-1.063</td>\n",
       "    </tr>\n",
       "    <tr>\n",
       "      <th>4124</th>\n",
       "      <td>1581425331772</td>\n",
       "      <td>2020-02-11T12:48:51.772</td>\n",
       "      <td>82.800</td>\n",
       "      <td>-0.040</td>\n",
       "      <td>0.017</td>\n",
       "      <td>-1.063</td>\n",
       "    </tr>\n",
       "    <tr>\n",
       "      <th>4125</th>\n",
       "      <td>1581425331793</td>\n",
       "      <td>2020-02-11T12:48:51.793</td>\n",
       "      <td>82.821</td>\n",
       "      <td>-0.039</td>\n",
       "      <td>0.016</td>\n",
       "      <td>-1.064</td>\n",
       "    </tr>\n",
       "  </tbody>\n",
       "</table>\n",
       "<p>4126 rows × 6 columns</p>\n",
       "</div>"
      ],
      "text/plain": [
       "              epoch                     time  elapsed      x      y      z\n",
       "0     1581425248972  2020-02-11T12:47:28.972    0.000 -0.041  0.014 -1.059\n",
       "1     1581425248993  2020-02-11T12:47:28.993    0.021 -0.041  0.014 -1.066\n",
       "2     1581425249013  2020-02-11T12:47:29.013    0.041 -0.040  0.016 -1.063\n",
       "3     1581425249032  2020-02-11T12:47:29.032    0.060 -0.041  0.016 -1.064\n",
       "4     1581425249053  2020-02-11T12:47:29.053    0.081 -0.039  0.015 -1.065\n",
       "...             ...                      ...      ...    ...    ...    ...\n",
       "4121  1581425331712  2020-02-11T12:48:51.712   82.740 -0.040  0.016 -1.063\n",
       "4122  1581425331733  2020-02-11T12:48:51.733   82.761 -0.041  0.016 -1.065\n",
       "4123  1581425331753  2020-02-11T12:48:51.753   82.781 -0.042  0.015 -1.063\n",
       "4124  1581425331772  2020-02-11T12:48:51.772   82.800 -0.040  0.017 -1.063\n",
       "4125  1581425331793  2020-02-11T12:48:51.793   82.821 -0.039  0.016 -1.064\n",
       "\n",
       "[4126 rows x 6 columns]"
      ]
     },
     "execution_count": 6,
     "metadata": {},
     "output_type": "execute_result"
    }
   ],
   "source": [
    "d['a']['df']"
   ]
  },
  {
   "cell_type": "code",
   "execution_count": 7,
   "metadata": {},
   "outputs": [
    {
     "data": {
      "text/html": [
       "<div>\n",
       "<style scoped>\n",
       "    .dataframe tbody tr th:only-of-type {\n",
       "        vertical-align: middle;\n",
       "    }\n",
       "\n",
       "    .dataframe tbody tr th {\n",
       "        vertical-align: top;\n",
       "    }\n",
       "\n",
       "    .dataframe thead th {\n",
       "        text-align: right;\n",
       "    }\n",
       "</style>\n",
       "<table border=\"1\" class=\"dataframe\">\n",
       "  <thead>\n",
       "    <tr style=\"text-align: right;\">\n",
       "      <th></th>\n",
       "      <th>epoch</th>\n",
       "      <th>time</th>\n",
       "      <th>elapsed</th>\n",
       "      <th>x</th>\n",
       "      <th>y</th>\n",
       "      <th>z</th>\n",
       "    </tr>\n",
       "  </thead>\n",
       "  <tbody>\n",
       "    <tr>\n",
       "      <th>0</th>\n",
       "      <td>1581425248952</td>\n",
       "      <td>2020-02-11T12:47:28.952</td>\n",
       "      <td>0.000</td>\n",
       "      <td>-0.305</td>\n",
       "      <td>-0.930</td>\n",
       "      <td>-0.503</td>\n",
       "    </tr>\n",
       "    <tr>\n",
       "      <th>1</th>\n",
       "      <td>1581425248972</td>\n",
       "      <td>2020-02-11T12:47:28.972</td>\n",
       "      <td>0.020</td>\n",
       "      <td>-0.198</td>\n",
       "      <td>-0.595</td>\n",
       "      <td>-0.716</td>\n",
       "    </tr>\n",
       "    <tr>\n",
       "      <th>2</th>\n",
       "      <td>1581425248993</td>\n",
       "      <td>2020-02-11T12:47:28.993</td>\n",
       "      <td>0.041</td>\n",
       "      <td>-0.473</td>\n",
       "      <td>-0.640</td>\n",
       "      <td>-0.457</td>\n",
       "    </tr>\n",
       "    <tr>\n",
       "      <th>3</th>\n",
       "      <td>1581425249013</td>\n",
       "      <td>2020-02-11T12:47:29.013</td>\n",
       "      <td>0.061</td>\n",
       "      <td>-0.488</td>\n",
       "      <td>-0.686</td>\n",
       "      <td>-0.473</td>\n",
       "    </tr>\n",
       "    <tr>\n",
       "      <th>4</th>\n",
       "      <td>1581425249032</td>\n",
       "      <td>2020-02-11T12:47:29.032</td>\n",
       "      <td>0.080</td>\n",
       "      <td>-0.457</td>\n",
       "      <td>-0.747</td>\n",
       "      <td>-0.427</td>\n",
       "    </tr>\n",
       "    <tr>\n",
       "      <th>...</th>\n",
       "      <td>...</td>\n",
       "      <td>...</td>\n",
       "      <td>...</td>\n",
       "      <td>...</td>\n",
       "      <td>...</td>\n",
       "      <td>...</td>\n",
       "    </tr>\n",
       "    <tr>\n",
       "      <th>4122</th>\n",
       "      <td>1581425331712</td>\n",
       "      <td>2020-02-11T12:48:51.712</td>\n",
       "      <td>82.760</td>\n",
       "      <td>-0.381</td>\n",
       "      <td>-0.732</td>\n",
       "      <td>-0.412</td>\n",
       "    </tr>\n",
       "    <tr>\n",
       "      <th>4123</th>\n",
       "      <td>1581425331733</td>\n",
       "      <td>2020-02-11T12:48:51.733</td>\n",
       "      <td>82.781</td>\n",
       "      <td>-0.442</td>\n",
       "      <td>-0.701</td>\n",
       "      <td>-0.412</td>\n",
       "    </tr>\n",
       "    <tr>\n",
       "      <th>4124</th>\n",
       "      <td>1581425331753</td>\n",
       "      <td>2020-02-11T12:48:51.753</td>\n",
       "      <td>82.801</td>\n",
       "      <td>-0.503</td>\n",
       "      <td>-0.701</td>\n",
       "      <td>-0.442</td>\n",
       "    </tr>\n",
       "    <tr>\n",
       "      <th>4125</th>\n",
       "      <td>1581425331772</td>\n",
       "      <td>2020-02-11T12:48:51.772</td>\n",
       "      <td>82.820</td>\n",
       "      <td>-0.457</td>\n",
       "      <td>-0.701</td>\n",
       "      <td>-0.396</td>\n",
       "    </tr>\n",
       "    <tr>\n",
       "      <th>4126</th>\n",
       "      <td>1581425331793</td>\n",
       "      <td>2020-02-11T12:48:51.793</td>\n",
       "      <td>82.841</td>\n",
       "      <td>-0.396</td>\n",
       "      <td>-0.732</td>\n",
       "      <td>-0.427</td>\n",
       "    </tr>\n",
       "  </tbody>\n",
       "</table>\n",
       "<p>4127 rows × 6 columns</p>\n",
       "</div>"
      ],
      "text/plain": [
       "              epoch                     time  elapsed      x      y      z\n",
       "0     1581425248952  2020-02-11T12:47:28.952    0.000 -0.305 -0.930 -0.503\n",
       "1     1581425248972  2020-02-11T12:47:28.972    0.020 -0.198 -0.595 -0.716\n",
       "2     1581425248993  2020-02-11T12:47:28.993    0.041 -0.473 -0.640 -0.457\n",
       "3     1581425249013  2020-02-11T12:47:29.013    0.061 -0.488 -0.686 -0.473\n",
       "4     1581425249032  2020-02-11T12:47:29.032    0.080 -0.457 -0.747 -0.427\n",
       "...             ...                      ...      ...    ...    ...    ...\n",
       "4122  1581425331712  2020-02-11T12:48:51.712   82.760 -0.381 -0.732 -0.412\n",
       "4123  1581425331733  2020-02-11T12:48:51.733   82.781 -0.442 -0.701 -0.412\n",
       "4124  1581425331753  2020-02-11T12:48:51.753   82.801 -0.503 -0.701 -0.442\n",
       "4125  1581425331772  2020-02-11T12:48:51.772   82.820 -0.457 -0.701 -0.396\n",
       "4126  1581425331793  2020-02-11T12:48:51.793   82.841 -0.396 -0.732 -0.427\n",
       "\n",
       "[4127 rows x 6 columns]"
      ]
     },
     "execution_count": 7,
     "metadata": {},
     "output_type": "execute_result"
    }
   ],
   "source": [
    "d['g']['df']"
   ]
  },
  {
   "cell_type": "code",
   "execution_count": 8,
   "metadata": {},
   "outputs": [
    {
     "name": "stderr",
     "output_type": "stream",
     "text": [
      "No handles with labels found to put in legend.\n"
     ]
    },
    {
     "data": {
      "image/png": "[encoded data removed]",
      "text/plain": [
       "<Figure size 720x216 with 1 Axes>"
      ]
     },
     "metadata": {
      "needs_background": "light"
     },
     "output_type": "display_data"
    },
    {
     "name": "stderr",
     "output_type": "stream",
     "text": [
      "No handles with labels found to put in legend.\n"
     ]
    },
    {
     "data": {
      "image/png": "[encoded data removed]",
      "text/plain": [
       "<Figure size 720x216 with 1 Axes>"
      ]
     },
     "metadata": {
      "needs_background": "light"
     },
     "output_type": "display_data"
    }
   ],
   "source": [
    "# View plot of data\n",
    "figsize = (10, 3)\n",
    "\n",
    "\n",
    "def plot(df, x, y, ax=None):\n",
    "    \"\"\"\n",
    "    Plots the x and y selected from df\n",
    "    \n",
    "    Param:\n",
    "        df: pd.DataFrame()\n",
    "        x: str/int\n",
    "        y: str[]/int[]\n",
    "    \"\"\"\n",
    "    # Ensure y is iterable\n",
    "    if type(y) != type([]):\n",
    "        y = [y]\n",
    "    \n",
    "    if not ax:\n",
    "        fig, ax = plt.subplots(1, figsize=figsize)\n",
    "        \n",
    "    for i in y:\n",
    "        ax.plot(df[x], df[i])\n",
    "\n",
    "    ax.legend()\n",
    "    ax.grid()\n",
    "    \n",
    "    plt.show()\n",
    "    \n",
    "for v in d.values():\n",
    "    plot(v['df'], 'elapsed', ['x', 'y', 'z'])"
   ]
  },
  {
   "cell_type": "code",
   "execution_count": 9,
   "metadata": {},
   "outputs": [
    {
     "data": {
      "image/png": "[encoded data removed]",
      "text/plain": [
       "<Figure size 720x216 with 1 Axes>"
      ]
     },
     "metadata": {
      "needs_background": "light"
     },
     "output_type": "display_data"
    }
   ],
   "source": [
    "# View frequency of data\n",
    "def plot_freq(df, y, fs=50, ax=None, xlim=None):\n",
    "    \"\"\"\n",
    "    Plots the frequencies of the given columns\n",
    "    \n",
    "    Param:\n",
    "        df: pd.DataFrame()\n",
    "        y: int[]/str[]\n",
    "            Columns to loop over to extract frequencies from\n",
    "        fs: int\n",
    "            Sampling rate\n",
    "        ax: Axes\n",
    "        xlim: int[]\n",
    "            X Limits\n",
    "    \"\"\"\n",
    "    # Ensure y is iterable\n",
    "    if type(y) != type([]):\n",
    "        y = [y]\n",
    "        \n",
    "    # Test for xlim\n",
    "    if xlim:\n",
    "        assert type(xlim) == type([])\n",
    "        assert len(xlim) == 2\n",
    "        for x in range(2):\n",
    "            float(xlim[x])\n",
    "    \n",
    "    if not ax:\n",
    "        fig, ax = plt.subplots(1, figsize=figsize)\n",
    "        \n",
    "    for i in y:\n",
    "        # Perform FFT\n",
    "        X = fftpack.fft(df[i].to_list())\n",
    "        freq = fftpack.fftfreq(len(df[i])) * fs\n",
    "        \n",
    "        ax.plot(freq, np.abs(X), label=i)\n",
    "        \n",
    "    if xlim:\n",
    "        ax.set_xlim(xlim)\n",
    "        \n",
    "    ax.legend()\n",
    "    ax.grid()\n",
    "    \n",
    "    plt.show()\n",
    "    \n",
    "plot_freq(d['a']['df'], ['x', 'y', 'z'], xlim=[0, 1])"
   ]
  },
  {
   "cell_type": "code",
   "execution_count": 10,
   "metadata": {},
   "outputs": [],
   "source": [
    "# We decide to cut it off at 0.6"
   ]
  },
  {
   "cell_type": "code",
   "execution_count": 11,
   "metadata": {},
   "outputs": [],
   "source": [
    "# Low pass filter to eliminate noise\n",
    "def lpf(data, fc, fs=50, order=4):\n",
    "    \"\"\"\n",
    "    Low pass butterworth filter\n",
    "    \n",
    "    Param:\n",
    "        data: int[]\n",
    "            Signal to be cut off\n",
    "        fc: float\n",
    "            Cut off frequency\n",
    "        fs: float\n",
    "            Sampling frequency\n",
    "            Default 50, based on Ken's util.py sampling of 50\n",
    "        order: int\n",
    "            Order of butterworth filter\n",
    "    \"\"\"\n",
    "    # Arg check\n",
    "    assert type(data) == type([])\n",
    "    assert all(map(lambda x: type(float(x)) == type(float(1)), data))\n",
    "    fc = float(fc)\n",
    "    fs = float(fs)\n",
    "    assert type(order) == type(int(1))\n",
    "    \n",
    "    # Normalize frequency\n",
    "    w = fc / (fs / 2)\n",
    "    \n",
    "    # Low pass butterworth filter\n",
    "    b, a = signal.butter(order, w, 'low')\n",
    "    \n",
    "    return signal.filtfilt(b, a, data)\n",
    "    \n",
    "for i in 'x y z'.split(' '):\n",
    "    d['g']['df']['filtered_' + i] = lpf(d['g']['df'][i].to_list(), 0.6)"
   ]
  },
  {
   "cell_type": "code",
   "execution_count": 12,
   "metadata": {},
   "outputs": [
    {
     "name": "stderr",
     "output_type": "stream",
     "text": [
      "No handles with labels found to put in legend.\n"
     ]
    },
    {
     "data": {
      "image/png": "[encoded data removed]",
      "text/plain": [
       "<Figure size 720x216 with 1 Axes>"
      ]
     },
     "metadata": {
      "needs_background": "light"
     },
     "output_type": "display_data"
    }
   ],
   "source": [
    "plot(d['g']['df'], 'elapsed', ['filtered_' + i for i in 'x y z'.split()])"
   ]
  },
  {
   "cell_type": "code",
   "execution_count": 13,
   "metadata": {},
   "outputs": [],
   "source": [
    "# Not all data will match each other\n",
    "# We want to ensure the data of accel and gyro match each other\n",
    "# There is no exact 1-to-1 match\n",
    "# Instead, we get the closest match\n",
    "\n",
    "\n",
    "def match_df_shape(dfa, dfg):\n",
    "    \"\"\"\n",
    "    Matches the number of rows of accel dataframe to gyro dataframe\n",
    "    Allows for 1 extra value in gyroscope dataframe\n",
    "    Extra row required to eliminate NaN row when calculating elapsed time difference\n",
    "    \n",
    "    Param:\n",
    "        dfa, dfg: pd.DataFrame()\n",
    "    \n",
    "    Return:\n",
    "        dfa, dfg: pd.DataFrame()\n",
    "    \"\"\"\n",
    "    assert type(dfa) == type(pd.DataFrame())\n",
    "    assert type(dfg) == type(pd.DataFrame())\n",
    "\n",
    "    dfa = dfa.copy()\n",
    "    dfg = dfg.copy()\n",
    "    \n",
    "    # If accel is one less than gyro, return\n",
    "    if dfa.shape[0] == dfg.shape[0] - 1:\n",
    "        return dfa, dfg\n",
    "    else:\n",
    "        # Ensure accel is at LEAST less than gyro, even if not by one\n",
    "        assert dfa.shape[0] < dfg.shape[0], 'Unimplemented'\n",
    "        \n",
    "        # If so, we assume that the first index of accel is less than the first index of gyro for 'datetime'\n",
    "        assert dfa['datetime'][0] > dfg['datetime'][0], 'Unimplemented'\n",
    "        \n",
    "        if dfa['datetime'][0] > dfg['datetime'][0]:\n",
    "            diff = dfg['datetime'].apply(lambda x: abs(x - dfa['datetime'][0]))\n",
    "            \n",
    "            diff = diff[diff == diff.min()].index\n",
    "            \n",
    "            # Ensure only one index containing the closest match between accel and gyro\n",
    "            assert len(diff) == 1\n",
    "            \n",
    "            diff = diff[0] - 1\n",
    "            \n",
    "            assert diff > 0\n",
    "            \n",
    "            dfg = dfg.loc[diff:, :].reset_index(drop=True)\n",
    "            \n",
    "            # Ensure accel and gyro are now differed by one\n",
    "            assert dfa.shape[0] == dfg.shape[0] - 1\n",
    "            \n",
    "            if dfa.shape[0] == dfg.shape[0] - 1:\n",
    "                return dfa, dfg\n",
    "\n",
    "\n",
    "for i in ['a', 'g']:\n",
    "    d[i]['df']['datetime'] = d[i]['df']['time'].apply(\n",
    "        lambda x: dt.strptime(x, '%Y-%m-%dT%H:%M:%S.%f'))\n",
    "\n",
    "d['a']['df'], d['g']['df2'] = match_df_shape(d['a']['df'], d['g']['df'])"
   ]
  },
  {
   "cell_type": "code",
   "execution_count": 14,
   "metadata": {},
   "outputs": [
    {
     "name": "stderr",
     "output_type": "stream",
     "text": [
      "No handles with labels found to put in legend.\n"
     ]
    },
    {
     "data": {
      "image/png": "[encoded data removed]",
      "text/plain": [
       "<Figure size 720x216 with 1 Axes>"
      ]
     },
     "metadata": {
      "needs_background": "light"
     },
     "output_type": "display_data"
    },
    {
     "name": "stderr",
     "output_type": "stream",
     "text": [
      "No handles with labels found to put in legend.\n"
     ]
    },
    {
     "data": {
      "image/png": "[encoded data removed]",
      "text/plain": [
       "<Figure size 720x216 with 1 Axes>"
      ]
     },
     "metadata": {
      "needs_background": "light"
     },
     "output_type": "display_data"
    }
   ],
   "source": [
    "# Ensure data visualisation is still the same, i.e. no mistakes in trimming\n",
    "plot(d['a']['df'], 'elapsed', ['x', 'y', 'z'])\n",
    "plot(d['g']['df2'], 'elapsed', ['x', 'y', 'z'])"
   ]
  },
  {
   "cell_type": "code",
   "execution_count": 15,
   "metadata": {},
   "outputs": [
    {
     "name": "stderr",
     "output_type": "stream",
     "text": [
      "No handles with labels found to put in legend.\n"
     ]
    },
    {
     "data": {
      "image/png": "[encoded data removed]",
      "text/plain": [
       "<Figure size 720x216 with 1 Axes>"
      ]
     },
     "metadata": {
      "needs_background": "light"
     },
     "output_type": "display_data"
    }
   ],
   "source": [
    "# Ensure data visualisation is still the same, i.e. no mistakes in trimming\n",
    "plot(d['g']['df'], 'elapsed', ['filtered_' + i for i in ['x', 'y', 'z']])"
   ]
  },
  {
   "cell_type": "code",
   "execution_count": 16,
   "metadata": {},
   "outputs": [],
   "source": [
    "# Get elapsed difference\n",
    "d['g']['df2']['elapsed_diff'] = d['g']['df2']['elapsed'].diff()\n",
    "\n",
    "# Pop first value\n",
    "d['g']['df2'] = d['g']['df2'].loc[1:, :].reset_index(drop=True)\n",
    "\n",
    "# Get degrees of rotation based on deg/s (x, y, z) multiplied by elapsed time\n",
    "# Give the answer in radians\n",
    "for i in ['filtered_' + i for i in ['x', 'y', 'z']]:\n",
    "    d['g']['df2']['abs_' + i] = d['g']['df2'].apply(lambda x: math.radians(x['elapsed_diff'] * x[i] * -1), axis=1)\n",
    "#     d['g']['df']['abs_' + i] = d['g']['df'].apply(lambda x: math.radians(x[i]), axis=1)\n",
    "    \n",
    "# Get rotation object\n",
    "d['g']['df2']['R'] = d['g']['df2'].apply(lambda x: R.from_rotvec([x['abs_filtered_' + i] for i in ['x', 'y', 'z']]),axis=1)"
   ]
  },
  {
   "cell_type": "code",
   "execution_count": 17,
   "metadata": {},
   "outputs": [
    {
     "data": {
      "text/html": [
       "<div>\n",
       "<style scoped>\n",
       "    .dataframe tbody tr th:only-of-type {\n",
       "        vertical-align: middle;\n",
       "    }\n",
       "\n",
       "    .dataframe tbody tr th {\n",
       "        vertical-align: top;\n",
       "    }\n",
       "\n",
       "    .dataframe thead th {\n",
       "        text-align: right;\n",
       "    }\n",
       "</style>\n",
       "<table border=\"1\" class=\"dataframe\">\n",
       "  <thead>\n",
       "    <tr style=\"text-align: right;\">\n",
       "      <th></th>\n",
       "      <th>epoch</th>\n",
       "      <th>time</th>\n",
       "      <th>elapsed</th>\n",
       "      <th>x</th>\n",
       "      <th>y</th>\n",
       "      <th>z</th>\n",
       "      <th>filtered_x</th>\n",
       "      <th>filtered_y</th>\n",
       "      <th>filtered_z</th>\n",
       "      <th>datetime</th>\n",
       "      <th>elapsed_diff</th>\n",
       "      <th>abs_filtered_x</th>\n",
       "      <th>abs_filtered_y</th>\n",
       "      <th>abs_filtered_z</th>\n",
       "      <th>R</th>\n",
       "    </tr>\n",
       "  </thead>\n",
       "  <tbody>\n",
       "    <tr>\n",
       "      <th>0</th>\n",
       "      <td>1581425248972</td>\n",
       "      <td>2020-02-11T12:47:28.972</td>\n",
       "      <td>0.020</td>\n",
       "      <td>-0.198</td>\n",
       "      <td>-0.595</td>\n",
       "      <td>-0.716</td>\n",
       "      <td>-0.301984</td>\n",
       "      <td>-0.925260</td>\n",
       "      <td>-0.501762</td>\n",
       "      <td>2020-02-11 12:47:28.972</td>\n",
       "      <td>0.020</td>\n",
       "      <td>0.000105</td>\n",
       "      <td>0.000323</td>\n",
       "      <td>0.000175</td>\n",
       "      <td>(((&lt;scipy.spatial.transform.rotation.Rotation ...</td>\n",
       "    </tr>\n",
       "    <tr>\n",
       "      <th>1</th>\n",
       "      <td>1581425248993</td>\n",
       "      <td>2020-02-11T12:47:28.993</td>\n",
       "      <td>0.041</td>\n",
       "      <td>-0.473</td>\n",
       "      <td>-0.640</td>\n",
       "      <td>-0.457</td>\n",
       "      <td>-0.310419</td>\n",
       "      <td>-0.914842</td>\n",
       "      <td>-0.498332</td>\n",
       "      <td>2020-02-11 12:47:28.993</td>\n",
       "      <td>0.021</td>\n",
       "      <td>0.000114</td>\n",
       "      <td>0.000335</td>\n",
       "      <td>0.000183</td>\n",
       "      <td>(((&lt;scipy.spatial.transform.rotation.Rotation ...</td>\n",
       "    </tr>\n",
       "    <tr>\n",
       "      <th>2</th>\n",
       "      <td>1581425249013</td>\n",
       "      <td>2020-02-11T12:47:29.013</td>\n",
       "      <td>0.061</td>\n",
       "      <td>-0.488</td>\n",
       "      <td>-0.686</td>\n",
       "      <td>-0.473</td>\n",
       "      <td>-0.318776</td>\n",
       "      <td>-0.904483</td>\n",
       "      <td>-0.494917</td>\n",
       "      <td>2020-02-11 12:47:29.013</td>\n",
       "      <td>0.020</td>\n",
       "      <td>0.000111</td>\n",
       "      <td>0.000316</td>\n",
       "      <td>0.000173</td>\n",
       "      <td>(((&lt;scipy.spatial.transform.rotation.Rotation ...</td>\n",
       "    </tr>\n",
       "    <tr>\n",
       "      <th>3</th>\n",
       "      <td>1581425249032</td>\n",
       "      <td>2020-02-11T12:47:29.032</td>\n",
       "      <td>0.080</td>\n",
       "      <td>-0.457</td>\n",
       "      <td>-0.747</td>\n",
       "      <td>-0.427</td>\n",
       "      <td>-0.327037</td>\n",
       "      <td>-0.894206</td>\n",
       "      <td>-0.491524</td>\n",
       "      <td>2020-02-11 12:47:29.032</td>\n",
       "      <td>0.019</td>\n",
       "      <td>0.000108</td>\n",
       "      <td>0.000297</td>\n",
       "      <td>0.000163</td>\n",
       "      <td>(((&lt;scipy.spatial.transform.rotation.Rotation ...</td>\n",
       "    </tr>\n",
       "    <tr>\n",
       "      <th>4</th>\n",
       "      <td>1581425249053</td>\n",
       "      <td>2020-02-11T12:47:29.053</td>\n",
       "      <td>0.101</td>\n",
       "      <td>-0.473</td>\n",
       "      <td>-0.732</td>\n",
       "      <td>-0.412</td>\n",
       "      <td>-0.335183</td>\n",
       "      <td>-0.884033</td>\n",
       "      <td>-0.488159</td>\n",
       "      <td>2020-02-11 12:47:29.053</td>\n",
       "      <td>0.021</td>\n",
       "      <td>0.000123</td>\n",
       "      <td>0.000324</td>\n",
       "      <td>0.000179</td>\n",
       "      <td>(((&lt;scipy.spatial.transform.rotation.Rotation ...</td>\n",
       "    </tr>\n",
       "    <tr>\n",
       "      <th>...</th>\n",
       "      <td>...</td>\n",
       "      <td>...</td>\n",
       "      <td>...</td>\n",
       "      <td>...</td>\n",
       "      <td>...</td>\n",
       "      <td>...</td>\n",
       "      <td>...</td>\n",
       "      <td>...</td>\n",
       "      <td>...</td>\n",
       "      <td>...</td>\n",
       "      <td>...</td>\n",
       "      <td>...</td>\n",
       "      <td>...</td>\n",
       "      <td>...</td>\n",
       "      <td>...</td>\n",
       "    </tr>\n",
       "    <tr>\n",
       "      <th>4121</th>\n",
       "      <td>1581425331712</td>\n",
       "      <td>2020-02-11T12:48:51.712</td>\n",
       "      <td>82.760</td>\n",
       "      <td>-0.381</td>\n",
       "      <td>-0.732</td>\n",
       "      <td>-0.412</td>\n",
       "      <td>-0.454925</td>\n",
       "      <td>-0.721546</td>\n",
       "      <td>-0.430576</td>\n",
       "      <td>2020-02-11 12:48:51.712</td>\n",
       "      <td>0.019</td>\n",
       "      <td>0.000151</td>\n",
       "      <td>0.000239</td>\n",
       "      <td>0.000143</td>\n",
       "      <td>(((&lt;scipy.spatial.transform.rotation.Rotation ...</td>\n",
       "    </tr>\n",
       "    <tr>\n",
       "      <th>4122</th>\n",
       "      <td>1581425331733</td>\n",
       "      <td>2020-02-11T12:48:51.733</td>\n",
       "      <td>82.781</td>\n",
       "      <td>-0.442</td>\n",
       "      <td>-0.701</td>\n",
       "      <td>-0.412</td>\n",
       "      <td>-0.454889</td>\n",
       "      <td>-0.721589</td>\n",
       "      <td>-0.430581</td>\n",
       "      <td>2020-02-11 12:48:51.733</td>\n",
       "      <td>0.021</td>\n",
       "      <td>0.000167</td>\n",
       "      <td>0.000264</td>\n",
       "      <td>0.000158</td>\n",
       "      <td>(((&lt;scipy.spatial.transform.rotation.Rotation ...</td>\n",
       "    </tr>\n",
       "    <tr>\n",
       "      <th>4123</th>\n",
       "      <td>1581425331753</td>\n",
       "      <td>2020-02-11T12:48:51.753</td>\n",
       "      <td>82.801</td>\n",
       "      <td>-0.503</td>\n",
       "      <td>-0.701</td>\n",
       "      <td>-0.442</td>\n",
       "      <td>-0.454858</td>\n",
       "      <td>-0.721625</td>\n",
       "      <td>-0.430585</td>\n",
       "      <td>2020-02-11 12:48:51.753</td>\n",
       "      <td>0.020</td>\n",
       "      <td>0.000159</td>\n",
       "      <td>0.000252</td>\n",
       "      <td>0.000150</td>\n",
       "      <td>(((&lt;scipy.spatial.transform.rotation.Rotation ...</td>\n",
       "    </tr>\n",
       "    <tr>\n",
       "      <th>4124</th>\n",
       "      <td>1581425331772</td>\n",
       "      <td>2020-02-11T12:48:51.772</td>\n",
       "      <td>82.820</td>\n",
       "      <td>-0.457</td>\n",
       "      <td>-0.701</td>\n",
       "      <td>-0.396</td>\n",
       "      <td>-0.454830</td>\n",
       "      <td>-0.721656</td>\n",
       "      <td>-0.430589</td>\n",
       "      <td>2020-02-11 12:48:51.772</td>\n",
       "      <td>0.019</td>\n",
       "      <td>0.000151</td>\n",
       "      <td>0.000239</td>\n",
       "      <td>0.000143</td>\n",
       "      <td>(((&lt;scipy.spatial.transform.rotation.Rotation ...</td>\n",
       "    </tr>\n",
       "    <tr>\n",
       "      <th>4125</th>\n",
       "      <td>1581425331793</td>\n",
       "      <td>2020-02-11T12:48:51.793</td>\n",
       "      <td>82.841</td>\n",
       "      <td>-0.396</td>\n",
       "      <td>-0.732</td>\n",
       "      <td>-0.427</td>\n",
       "      <td>-0.454807</td>\n",
       "      <td>-0.721681</td>\n",
       "      <td>-0.430591</td>\n",
       "      <td>2020-02-11 12:48:51.793</td>\n",
       "      <td>0.021</td>\n",
       "      <td>0.000167</td>\n",
       "      <td>0.000265</td>\n",
       "      <td>0.000158</td>\n",
       "      <td>(((&lt;scipy.spatial.transform.rotation.Rotation ...</td>\n",
       "    </tr>\n",
       "  </tbody>\n",
       "</table>\n",
       "<p>4126 rows × 15 columns</p>\n",
       "</div>"
      ],
      "text/plain": [
       "              epoch                     time  elapsed      x      y      z  \\\n",
       "0     1581425248972  2020-02-11T12:47:28.972    0.020 -0.198 -0.595 -0.716   \n",
       "1     1581425248993  2020-02-11T12:47:28.993    0.041 -0.473 -0.640 -0.457   \n",
       "2     1581425249013  2020-02-11T12:47:29.013    0.061 -0.488 -0.686 -0.473   \n",
       "3     1581425249032  2020-02-11T12:47:29.032    0.080 -0.457 -0.747 -0.427   \n",
       "4     1581425249053  2020-02-11T12:47:29.053    0.101 -0.473 -0.732 -0.412   \n",
       "...             ...                      ...      ...    ...    ...    ...   \n",
       "4121  1581425331712  2020-02-11T12:48:51.712   82.760 -0.381 -0.732 -0.412   \n",
       "4122  1581425331733  2020-02-11T12:48:51.733   82.781 -0.442 -0.701 -0.412   \n",
       "4123  1581425331753  2020-02-11T12:48:51.753   82.801 -0.503 -0.701 -0.442   \n",
       "4124  1581425331772  2020-02-11T12:48:51.772   82.820 -0.457 -0.701 -0.396   \n",
       "4125  1581425331793  2020-02-11T12:48:51.793   82.841 -0.396 -0.732 -0.427   \n",
       "\n",
       "      filtered_x  filtered_y  filtered_z                datetime  \\\n",
       "0      -0.301984   -0.925260   -0.501762 2020-02-11 12:47:28.972   \n",
       "1      -0.310419   -0.914842   -0.498332 2020-02-11 12:47:28.993   \n",
       "2      -0.318776   -0.904483   -0.494917 2020-02-11 12:47:29.013   \n",
       "3      -0.327037   -0.894206   -0.491524 2020-02-11 12:47:29.032   \n",
       "4      -0.335183   -0.884033   -0.488159 2020-02-11 12:47:29.053   \n",
       "...          ...         ...         ...                     ...   \n",
       "4121   -0.454925   -0.721546   -0.430576 2020-02-11 12:48:51.712   \n",
       "4122   -0.454889   -0.721589   -0.430581 2020-02-11 12:48:51.733   \n",
       "4123   -0.454858   -0.721625   -0.430585 2020-02-11 12:48:51.753   \n",
       "4124   -0.454830   -0.721656   -0.430589 2020-02-11 12:48:51.772   \n",
       "4125   -0.454807   -0.721681   -0.430591 2020-02-11 12:48:51.793   \n",
       "\n",
       "      elapsed_diff  abs_filtered_x  abs_filtered_y  abs_filtered_z  \\\n",
       "0            0.020        0.000105        0.000323        0.000175   \n",
       "1            0.021        0.000114        0.000335        0.000183   \n",
       "2            0.020        0.000111        0.000316        0.000173   \n",
       "3            0.019        0.000108        0.000297        0.000163   \n",
       "4            0.021        0.000123        0.000324        0.000179   \n",
       "...            ...             ...             ...             ...   \n",
       "4121         0.019        0.000151        0.000239        0.000143   \n",
       "4122         0.021        0.000167        0.000264        0.000158   \n",
       "4123         0.020        0.000159        0.000252        0.000150   \n",
       "4124         0.019        0.000151        0.000239        0.000143   \n",
       "4125         0.021        0.000167        0.000265        0.000158   \n",
       "\n",
       "                                                      R  \n",
       "0     (((<scipy.spatial.transform.rotation.Rotation ...  \n",
       "1     (((<scipy.spatial.transform.rotation.Rotation ...  \n",
       "2     (((<scipy.spatial.transform.rotation.Rotation ...  \n",
       "3     (((<scipy.spatial.transform.rotation.Rotation ...  \n",
       "4     (((<scipy.spatial.transform.rotation.Rotation ...  \n",
       "...                                                 ...  \n",
       "4121  (((<scipy.spatial.transform.rotation.Rotation ...  \n",
       "4122  (((<scipy.spatial.transform.rotation.Rotation ...  \n",
       "4123  (((<scipy.spatial.transform.rotation.Rotation ...  \n",
       "4124  (((<scipy.spatial.transform.rotation.Rotation ...  \n",
       "4125  (((<scipy.spatial.transform.rotation.Rotation ...  \n",
       "\n",
       "[4126 rows x 15 columns]"
      ]
     },
     "execution_count": 17,
     "metadata": {},
     "output_type": "execute_result"
    }
   ],
   "source": [
    "d['g']['df2']"
   ]
  },
  {
   "cell_type": "code",
   "execution_count": 18,
   "metadata": {},
   "outputs": [
    {
     "name": "stderr",
     "output_type": "stream",
     "text": [
      "No handles with labels found to put in legend.\n"
     ]
    },
    {
     "data": {
      "image/png": "[encoded data removed]",
      "text/plain": [
       "<Figure size 720x216 with 1 Axes>"
      ]
     },
     "metadata": {
      "needs_background": "light"
     },
     "output_type": "display_data"
    }
   ],
   "source": [
    "# Plot absolute rotation\n",
    "plot(d['g']['df2'], 'elapsed', ['abs_filtered_' + i for i in ['x', 'y', 'z']])"
   ]
  },
  {
   "cell_type": "code",
   "execution_count": 19,
   "metadata": {},
   "outputs": [
    {
     "data": {
      "application/vnd.jupyter.widget-view+json": {
       "model_id": "8bc0230f8ba94a3bb8b4a9db89635c62",
       "version_major": 2,
       "version_minor": 0
      },
      "text/plain": [
       "HBox(children=(FloatProgress(value=0.0, max=4126.0), HTML(value='')))"
      ]
     },
     "metadata": {},
     "output_type": "display_data"
    },
    {
     "name": "stdout",
     "output_type": "stream",
     "text": [
      "\n"
     ]
    }
   ],
   "source": [
    "# Apply rotation\n",
    "# Extract xyz\n",
    "xyz = d['a']['df'].apply(lambda x: [x[i] for i in ['x', 'y', 'z']], axis=1).to_list()\n",
    "\n",
    "for i in tqdm(range(d['a']['df'].shape[0])):\n",
    "    rotator = d['g']['df2'].loc[i, 'R']\n",
    "    \n",
    "    for j in range(i, d['a']['df'].shape[0]):        \n",
    "        xyz[j] = rotator.apply(xyz[j], inverse=True)"
   ]
  },
  {
   "cell_type": "code",
   "execution_count": 20,
   "metadata": {},
   "outputs": [],
   "source": [
    "# Add new xyz to accel df\n",
    "xyz = pd.DataFrame(xyz, columns=['x', 'y', 'z'])\n",
    "\n",
    "for i in ['x', 'y', 'z']:\n",
    "    d['a']['df']['actual_' + i] = xyz[i]"
   ]
  },
  {
   "cell_type": "code",
   "execution_count": 21,
   "metadata": {},
   "outputs": [
    {
     "data": {
      "text/html": [
       "<div>\n",
       "<style scoped>\n",
       "    .dataframe tbody tr th:only-of-type {\n",
       "        vertical-align: middle;\n",
       "    }\n",
       "\n",
       "    .dataframe tbody tr th {\n",
       "        vertical-align: top;\n",
       "    }\n",
       "\n",
       "    .dataframe thead th {\n",
       "        text-align: right;\n",
       "    }\n",
       "</style>\n",
       "<table border=\"1\" class=\"dataframe\">\n",
       "  <thead>\n",
       "    <tr style=\"text-align: right;\">\n",
       "      <th></th>\n",
       "      <th>epoch</th>\n",
       "      <th>time</th>\n",
       "      <th>elapsed</th>\n",
       "      <th>x</th>\n",
       "      <th>y</th>\n",
       "      <th>z</th>\n",
       "      <th>datetime</th>\n",
       "      <th>actual_x</th>\n",
       "      <th>actual_y</th>\n",
       "      <th>actual_z</th>\n",
       "    </tr>\n",
       "  </thead>\n",
       "  <tbody>\n",
       "    <tr>\n",
       "      <th>0</th>\n",
       "      <td>1581425248972</td>\n",
       "      <td>2020-02-11T12:47:28.972</td>\n",
       "      <td>0.000</td>\n",
       "      <td>-0.041</td>\n",
       "      <td>0.014</td>\n",
       "      <td>-1.059</td>\n",
       "      <td>2020-02-11 12:47:28.972</td>\n",
       "      <td>-0.040656</td>\n",
       "      <td>0.013896</td>\n",
       "      <td>-1.059015</td>\n",
       "    </tr>\n",
       "    <tr>\n",
       "      <th>1</th>\n",
       "      <td>1581425248993</td>\n",
       "      <td>2020-02-11T12:47:28.993</td>\n",
       "      <td>0.021</td>\n",
       "      <td>-0.041</td>\n",
       "      <td>0.014</td>\n",
       "      <td>-1.066</td>\n",
       "      <td>2020-02-11 12:47:28.993</td>\n",
       "      <td>-0.040293</td>\n",
       "      <td>0.013781</td>\n",
       "      <td>-1.066030</td>\n",
       "    </tr>\n",
       "    <tr>\n",
       "      <th>2</th>\n",
       "      <td>1581425249013</td>\n",
       "      <td>2020-02-11T12:47:29.013</td>\n",
       "      <td>0.041</td>\n",
       "      <td>-0.040</td>\n",
       "      <td>0.016</td>\n",
       "      <td>-1.063</td>\n",
       "      <td>2020-02-11 12:47:29.013</td>\n",
       "      <td>-0.038956</td>\n",
       "      <td>0.015670</td>\n",
       "      <td>-1.063044</td>\n",
       "    </tr>\n",
       "    <tr>\n",
       "      <th>3</th>\n",
       "      <td>1581425249032</td>\n",
       "      <td>2020-02-11T12:47:29.032</td>\n",
       "      <td>0.060</td>\n",
       "      <td>-0.041</td>\n",
       "      <td>0.016</td>\n",
       "      <td>-1.064</td>\n",
       "      <td>2020-02-11 12:47:29.032</td>\n",
       "      <td>-0.039637</td>\n",
       "      <td>0.015561</td>\n",
       "      <td>-1.064058</td>\n",
       "    </tr>\n",
       "    <tr>\n",
       "      <th>4</th>\n",
       "      <td>1581425249053</td>\n",
       "      <td>2020-02-11T12:47:29.053</td>\n",
       "      <td>0.081</td>\n",
       "      <td>-0.039</td>\n",
       "      <td>0.015</td>\n",
       "      <td>-1.065</td>\n",
       "      <td>2020-02-11 12:47:29.053</td>\n",
       "      <td>-0.037289</td>\n",
       "      <td>0.014435</td>\n",
       "      <td>-1.065069</td>\n",
       "    </tr>\n",
       "    <tr>\n",
       "      <th>...</th>\n",
       "      <td>...</td>\n",
       "      <td>...</td>\n",
       "      <td>...</td>\n",
       "      <td>...</td>\n",
       "      <td>...</td>\n",
       "      <td>...</td>\n",
       "      <td>...</td>\n",
       "      <td>...</td>\n",
       "      <td>...</td>\n",
       "      <td>...</td>\n",
       "    </tr>\n",
       "    <tr>\n",
       "      <th>4121</th>\n",
       "      <td>1581425331712</td>\n",
       "      <td>2020-02-11T12:48:51.712</td>\n",
       "      <td>82.740</td>\n",
       "      <td>-0.040</td>\n",
       "      <td>0.016</td>\n",
       "      <td>-1.063</td>\n",
       "      <td>2020-02-11 12:48:51.712</td>\n",
       "      <td>0.596741</td>\n",
       "      <td>-0.768186</td>\n",
       "      <td>-0.430832</td>\n",
       "    </tr>\n",
       "    <tr>\n",
       "      <th>4122</th>\n",
       "      <td>1581425331733</td>\n",
       "      <td>2020-02-11T12:48:51.733</td>\n",
       "      <td>82.761</td>\n",
       "      <td>-0.041</td>\n",
       "      <td>0.016</td>\n",
       "      <td>-1.065</td>\n",
       "      <td>2020-02-11 12:48:51.733</td>\n",
       "      <td>0.597476</td>\n",
       "      <td>-0.769673</td>\n",
       "      <td>-0.432190</td>\n",
       "    </tr>\n",
       "    <tr>\n",
       "      <th>4123</th>\n",
       "      <td>1581425331753</td>\n",
       "      <td>2020-02-11T12:48:51.753</td>\n",
       "      <td>82.781</td>\n",
       "      <td>-0.042</td>\n",
       "      <td>0.015</td>\n",
       "      <td>-1.063</td>\n",
       "      <td>2020-02-11 12:48:51.753</td>\n",
       "      <td>0.595223</td>\n",
       "      <td>-0.768854</td>\n",
       "      <td>-0.431892</td>\n",
       "    </tr>\n",
       "    <tr>\n",
       "      <th>4124</th>\n",
       "      <td>1581425331772</td>\n",
       "      <td>2020-02-11T12:48:51.772</td>\n",
       "      <td>82.800</td>\n",
       "      <td>-0.040</td>\n",
       "      <td>0.017</td>\n",
       "      <td>-1.063</td>\n",
       "      <td>2020-02-11 12:48:51.772</td>\n",
       "      <td>0.597448</td>\n",
       "      <td>-0.768004</td>\n",
       "      <td>-0.430214</td>\n",
       "    </tr>\n",
       "    <tr>\n",
       "      <th>4125</th>\n",
       "      <td>1581425331793</td>\n",
       "      <td>2020-02-11T12:48:51.793</td>\n",
       "      <td>82.821</td>\n",
       "      <td>-0.039</td>\n",
       "      <td>0.016</td>\n",
       "      <td>-1.064</td>\n",
       "      <td>2020-02-11 12:48:51.793</td>\n",
       "      <td>0.597664</td>\n",
       "      <td>-0.769720</td>\n",
       "      <td>-0.429187</td>\n",
       "    </tr>\n",
       "  </tbody>\n",
       "</table>\n",
       "<p>4126 rows × 10 columns</p>\n",
       "</div>"
      ],
      "text/plain": [
       "              epoch                     time  elapsed      x      y      z  \\\n",
       "0     1581425248972  2020-02-11T12:47:28.972    0.000 -0.041  0.014 -1.059   \n",
       "1     1581425248993  2020-02-11T12:47:28.993    0.021 -0.041  0.014 -1.066   \n",
       "2     1581425249013  2020-02-11T12:47:29.013    0.041 -0.040  0.016 -1.063   \n",
       "3     1581425249032  2020-02-11T12:47:29.032    0.060 -0.041  0.016 -1.064   \n",
       "4     1581425249053  2020-02-11T12:47:29.053    0.081 -0.039  0.015 -1.065   \n",
       "...             ...                      ...      ...    ...    ...    ...   \n",
       "4121  1581425331712  2020-02-11T12:48:51.712   82.740 -0.040  0.016 -1.063   \n",
       "4122  1581425331733  2020-02-11T12:48:51.733   82.761 -0.041  0.016 -1.065   \n",
       "4123  1581425331753  2020-02-11T12:48:51.753   82.781 -0.042  0.015 -1.063   \n",
       "4124  1581425331772  2020-02-11T12:48:51.772   82.800 -0.040  0.017 -1.063   \n",
       "4125  1581425331793  2020-02-11T12:48:51.793   82.821 -0.039  0.016 -1.064   \n",
       "\n",
       "                    datetime  actual_x  actual_y  actual_z  \n",
       "0    2020-02-11 12:47:28.972 -0.040656  0.013896 -1.059015  \n",
       "1    2020-02-11 12:47:28.993 -0.040293  0.013781 -1.066030  \n",
       "2    2020-02-11 12:47:29.013 -0.038956  0.015670 -1.063044  \n",
       "3    2020-02-11 12:47:29.032 -0.039637  0.015561 -1.064058  \n",
       "4    2020-02-11 12:47:29.053 -0.037289  0.014435 -1.065069  \n",
       "...                      ...       ...       ...       ...  \n",
       "4121 2020-02-11 12:48:51.712  0.596741 -0.768186 -0.430832  \n",
       "4122 2020-02-11 12:48:51.733  0.597476 -0.769673 -0.432190  \n",
       "4123 2020-02-11 12:48:51.753  0.595223 -0.768854 -0.431892  \n",
       "4124 2020-02-11 12:48:51.772  0.597448 -0.768004 -0.430214  \n",
       "4125 2020-02-11 12:48:51.793  0.597664 -0.769720 -0.429187  \n",
       "\n",
       "[4126 rows x 10 columns]"
      ]
     },
     "execution_count": 21,
     "metadata": {},
     "output_type": "execute_result"
    }
   ],
   "source": [
    "d['a']['df']"
   ]
  },
  {
   "cell_type": "code",
   "execution_count": 22,
   "metadata": {},
   "outputs": [
    {
     "name": "stderr",
     "output_type": "stream",
     "text": [
      "No handles with labels found to put in legend.\n"
     ]
    },
    {
     "data": {
      "image/png": "[encoded data removed]",
      "text/plain": [
       "<Figure size 720x216 with 1 Axes>"
      ]
     },
     "metadata": {
      "needs_background": "light"
     },
     "output_type": "display_data"
    }
   ],
   "source": [
    "# Rotated signal\n",
    "plot(d['a']['df'], 'elapsed', ['actual_' + i for i in ['x', 'y', 'z']])"
   ]
  },
  {
   "cell_type": "code",
   "execution_count": 23,
   "metadata": {},
   "outputs": [
    {
     "name": "stderr",
     "output_type": "stream",
     "text": [
      "No handles with labels found to put in legend.\n"
     ]
    },
    {
     "data": {
      "image/png": "[encoded data removed]",
      "text/plain": [
       "<Figure size 720x216 with 1 Axes>"
      ]
     },
     "metadata": {
      "needs_background": "light"
     },
     "output_type": "display_data"
    }
   ],
   "source": [
    "# Original signal\n",
    "plot(d['a']['df'], 'elapsed', [i for i in ['x', 'y', 'z']])"
   ]
  },
  {
   "cell_type": "code",
   "execution_count": 24,
   "metadata": {},
   "outputs": [
    {
     "name": "stderr",
     "output_type": "stream",
     "text": [
      "No handles with labels found to put in legend.\n"
     ]
    },
    {
     "data": {
      "image/png": "[encoded data removed]",
      "text/plain": [
       "<Figure size 720x216 with 1 Axes>"
      ]
     },
     "metadata": {
      "needs_background": "light"
     },
     "output_type": "display_data"
    }
   ],
   "source": [
    "# Plot absolute rotation\n",
    "plot(d['g']['df2'], 'elapsed', ['abs_filtered_' + i for i in ['x', 'y', 'z']])"
   ]
  },
  {
   "cell_type": "code",
   "execution_count": 25,
   "metadata": {},
   "outputs": [],
   "source": [
    "# Remove gravitational offset\n",
    "d['a']['df'].loc[:, 'actual_z'] = d['a']['df'].loc[:, 'actual_z'].apply(lambda x: x + 1)"
   ]
  },
  {
   "cell_type": "code",
   "execution_count": 26,
   "metadata": {},
   "outputs": [
    {
     "name": "stderr",
     "output_type": "stream",
     "text": [
      "No handles with labels found to put in legend.\n"
     ]
    },
    {
     "data": {
      "image/png": "[encoded data removed]",
      "text/plain": [
       "<Figure size 720x216 with 1 Axes>"
      ]
     },
     "metadata": {
      "needs_background": "light"
     },
     "output_type": "display_data"
    }
   ],
   "source": [
    "plot(d['a']['df'], 'elapsed', ['actual_' + i for i in ['x', 'y', 'z']])"
   ]
  },
  {
   "cell_type": "code",
   "execution_count": null,
   "metadata": {},
   "outputs": [],
   "source": []
  },
  {
   "cell_type": "code",
   "execution_count": null,
   "metadata": {},
   "outputs": [],
   "source": []
  },
  {
   "cell_type": "code",
   "execution_count": null,
   "metadata": {},
   "outputs": [],
   "source": []
  }
 ],
 "metadata": {
  "kernelspec": {
   "display_name": "Python 3",
   "language": "python",
   "name": "python3"
  },
  "language_info": {
   "codemirror_mode": {
    "name": "ipython",
    "version": 3
   },
   "file_extension": ".py",
   "mimetype": "text/x-python",
   "name": "python",
   "nbconvert_exporter": "python",
   "pygments_lexer": "ipython3",
   "version": "3.7.5"
  },
  "varInspector": {
   "cols": {
    "lenName": 16,
    "lenType": 16,
    "lenVar": 40
   },
   "kernels_config": {
    "python": {
     "delete_cmd_postfix": "",
     "delete_cmd_prefix": "del ",
     "library": "var_list.py",
     "varRefreshCmd": "print(var_dic_list())"
    },
    "r": {
     "delete_cmd_postfix": ") ",
     "delete_cmd_prefix": "rm(",
     "library": "var_list.r",
     "varRefreshCmd": "cat(var_dic_list()) "
    }
   },
   "types_to_exclude": [
    "module",
    "function",
    "builtin_function_or_method",
    "instance",
    "_Feature"
   ],
   "window_display": false
  }
 },
 "nbformat": 4,
 "nbformat_minor": 2
}
