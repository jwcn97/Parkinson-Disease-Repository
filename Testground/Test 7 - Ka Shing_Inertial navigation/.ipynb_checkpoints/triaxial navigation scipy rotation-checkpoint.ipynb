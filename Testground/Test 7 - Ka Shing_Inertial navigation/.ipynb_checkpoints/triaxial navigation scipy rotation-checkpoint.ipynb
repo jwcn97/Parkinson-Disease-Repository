{
 "cells": [
  {
   "cell_type": "markdown",
   "metadata": {},
   "source": [
    "# Theory\n",
    "We are going to attempt to use `scipy`'s `Rotation` object to change the acceleration, using the gyroscope values as row vectors."
   ]
  },
  {
   "cell_type": "markdown",
   "metadata": {},
   "source": [
    "# Imports"
   ]
  },
  {
   "cell_type": "code",
   "execution_count": 1,
   "metadata": {},
   "outputs": [],
   "source": [
    "import os\n",
    "import sys\n",
    "import math\n",
    "\n",
    "import pandas as pd\n",
    "import matplotlib.pyplot as plt\n",
    "import numpy as np\n",
    "\n",
    "from tqdm.notebook import tqdm_notebook as tqdm\n",
    "from scipy.spatial.transform import Rotation as R"
   ]
  },
  {
   "cell_type": "markdown",
   "metadata": {},
   "source": [
    "# Setup"
   ]
  },
  {
   "cell_type": "code",
   "execution_count": 2,
   "metadata": {},
   "outputs": [
    {
     "name": "stderr",
     "output_type": "stream",
     "text": [
      "D:\\Users\\liong\\Anaconda3\\lib\\site-packages\\tqdm\\std.py:658: FutureWarning: The Panel class is removed from pandas. Accessing it from the top-level namespace will also be removed in the next version\n",
      "  from pandas import Panel\n"
     ]
    }
   ],
   "source": [
    "tqdm.pandas()"
   ]
  },
  {
   "cell_type": "markdown",
   "metadata": {},
   "source": [
    "# Navigate to data directory"
   ]
  },
  {
   "cell_type": "code",
   "execution_count": 3,
   "metadata": {},
   "outputs": [
    {
     "name": "stdout",
     "output_type": "stream",
     "text": [
      "0. xacc-pure-8g-500_Metawear_2020-01-30T22.42.27.635_C5013CAC38C1_Accelerometer_1.5.0.csv\n",
      "1. xacc-pure-8g-500_Metawear_2020-01-30T22.42.27.635_C5013CAC38C1_Gyroscope_1.5.0.csv\n",
      "2. xcomb-8g-500_Metawear_2020-01-30T22.46.34.738_C5013CAC38C1_Accelerometer_1.5.0.csv\n",
      "3. xcomb-8g-500_Metawear_2020-01-30T22.46.34.738_C5013CAC38C1_Gyroscope_1.5.0.csv\n",
      "4. xgyro-pure-8g-500_Metawear_2020-01-30T22.44.45.632_C5013CAC38C1_Accelerometer_1.5.0.csv\n",
      "5. xgyro-pure-8g-500_Metawear_2020-01-30T22.44.45.632_C5013CAC38C1_Gyroscope_1.5.0.csv\n",
      "6. xtoy-8g-500_Metawear_2020-01-30T23.47.49.724_C5013CAC38C1_Accelerometer_1.5.0.csv\n",
      "7. xtoy-8g-500_Metawear_2020-01-30T23.47.49.724_C5013CAC38C1_Gyroscope_1.5.0.csv\n",
      "8. yacc-pure-8g-500_Metawear_2020-01-30T23.07.04.787_C5013CAC38C1_Accelerometer_1.5.0.csv\n",
      "9. yacc-pure-8g-500_Metawear_2020-01-30T23.07.04.787_C5013CAC38C1_Gyroscope_1.5.0.csv\n",
      "10. ycomb-8g-500_Metawear_2020-01-30T23.17.22.909_C5013CAC38C1_Accelerometer_1.5.0.csv\n",
      "11. ycomb-8g-500_Metawear_2020-01-30T23.17.22.909_C5013CAC38C1_Gyroscope_1.5.0.csv\n",
      "12. ygyro-pure-8g-500_Metawear_2020-01-30T23.11.07.075_C5013CAC38C1_Accelerometer_1.5.0.csv\n",
      "13. ygyro-pure-8g-500_Metawear_2020-01-30T23.11.07.075_C5013CAC38C1_Gyroscope_1.5.0.csv\n",
      "14. ytoy-8g-500_Metawear_2020-01-30T23.52.49.342_C5013CAC38C1_Accelerometer_1.5.0.csv\n",
      "15. ytoy-8g-500_Metawear_2020-01-30T23.52.49.342_C5013CAC38C1_Gyroscope_1.5.0.csv\n",
      "16. zacc-pure-8g-500_Metawear_2020-01-30T23.24.10.298_C5013CAC38C1_Accelerometer_1.5.0.csv\n",
      "17. zacc-pure-8g-500_Metawear_2020-01-30T23.24.10.298_C5013CAC38C1_Gyroscope_1.5.0.csv\n",
      "18. zcomb-8g-500_Metawear_2020-01-30T23.42.43.077_C5013CAC38C1_Accelerometer_1.5.0.csv\n",
      "19. zcomb-8g-500_Metawear_2020-01-30T23.42.43.077_C5013CAC38C1_Gyroscope_1.5.0.csv\n",
      "20. zgyro-pure-8g-500_Metawear_2020-01-30T23.40.42.457_C5013CAC38C1_Accelerometer_1.5.0.csv\n",
      "21. zgyro-pure-8g-500_Metawear_2020-01-30T23.40.42.457_C5013CAC38C1_Gyroscope_1.5.0.csv\n",
      "22. ztoy-8g-500_Metawear_2020-01-30T23.54.15.088_C5013CAC38C1_Accelerometer_1.5.0.csv\n",
      "23. ztoy-8g-500_Metawear_2020-01-30T23.54.15.088_C5013CAC38C1_Gyroscope_1.5.0.csv\n"
     ]
    }
   ],
   "source": [
    "def get_directory(address, show=True):\n",
    "    \"\"\"\n",
    "    Get contents of a directory.\n",
    "    \n",
    "    Param:\n",
    "        address: str\n",
    "        show: boolean: if True, prints contents with indexing\n",
    "    Return:\n",
    "        directory: str[]: contents of directory\n",
    "    \"\"\"\n",
    "    directory = os.listdir(address)\n",
    "    \n",
    "    # Print out contents\n",
    "    if show:\n",
    "        for ix, v in enumerate(directory):\n",
    "            print(str(ix) + '. ' + v)\n",
    "    \n",
    "    return directory\n",
    "\n",
    "# address = '\\\\'.join(os.getcwd().split(\n",
    "#     '\\\\')[:-2]) + '\\\\Data' + '\\\\Patient001-2019-12-05' + '\\\\ftap-forearm' + '\\\\'\n",
    "\n",
    "address = '\\\\'.join(os.getcwd().split(\n",
    "    '\\\\')[:-2]) + '\\\\Testground' + '\\\\Test 3 - Chin Yang Playground' + '\\\\PD_redo' + '\\\\'\n",
    "\n",
    "directory = get_directory(address)"
   ]
  },
  {
   "cell_type": "markdown",
   "metadata": {},
   "source": [
    "# Selecting data\n",
    "We select the first data, which is the accelerometer and gyroscope data associated with finger tap, level 0."
   ]
  },
  {
   "cell_type": "code",
   "execution_count": 4,
   "metadata": {},
   "outputs": [],
   "source": [
    "# Selecting index of accelerometer data\n",
    "index = 6"
   ]
  },
  {
   "cell_type": "code",
   "execution_count": 5,
   "metadata": {},
   "outputs": [],
   "source": [
    "# Asserts to define conditions of 'index'\n",
    "assert index >= 0, \"Index is negative\"\n",
    "assert index + 1 < len(directory), \"Index is out of bounds\""
   ]
  },
  {
   "cell_type": "code",
   "execution_count": 6,
   "metadata": {
    "scrolled": true
   },
   "outputs": [],
   "source": [
    "# Parse into dictionary\n",
    "\"\"\"\n",
    "Data structure:\n",
    "d: {\n",
    "    'a' or 'g': {}: For accelerometer/gyroscope respectively\n",
    "        {\n",
    "            'name': str: filename\n",
    "            'add': str: address\n",
    "            'df': pd.DataFrame()\n",
    "        }\n",
    "}\n",
    "\"\"\"\n",
    "\n",
    "d = {}\n",
    "\n",
    "for i in [\n",
    "    ('a', 0),  # Index 0: d['a'] or d['g'], index 1: constant to add to 'index'\n",
    "    ('g', 1)\n",
    "]:\n",
    "    # Name\n",
    "    d[i[0]] = {'name': directory[index + i[1]]}\n",
    "\n",
    "    # Address\n",
    "    d[i[0]]['add'] = address + d[i[0]]['name']\n",
    "\n",
    "    # Dataframe\n",
    "    d[i[0]]['df'] = pd.read_csv(d[i[0]]['add'])\n",
    "\n",
    "    # Remove unneeded columns in dataframe\n",
    "    d[i[0]]['df'] = d[i[0]]['df'].drop(columns=['epoch (ms)', 'time (-00:00)'])\n",
    "\n",
    "    # Rename remaining columns\n",
    "    d[i[0]]['df'] = d[i[0]]['df'].rename(\n",
    "        {\n",
    "            k: k.replace('-', ' ').split(' ')[0]\n",
    "            for k in list(\n",
    "                map(lambda x: d[i[0]]['df'].columns[x],\n",
    "                    np.arange(len(d[i[0]]['df'].columns))))\n",
    "        },\n",
    "        axis='columns')"
   ]
  },
  {
   "cell_type": "code",
   "execution_count": null,
   "metadata": {},
   "outputs": [],
   "source": []
  },
  {
   "cell_type": "code",
   "execution_count": 7,
   "metadata": {
    "scrolled": true
   },
   "outputs": [
    {
     "data": {
      "text/plain": [
       "{'a': {'name': 'xtoy-8g-500_Metawear_2020-01-30T23.47.49.724_C5013CAC38C1_Accelerometer_1.5.0.csv',\n",
       "  'add': \"D:\\\\Development\\\\_git_Parkinson's Disease Sensors\\\\Parkinson-Disease-Repository\\\\Testground\\\\Test 3 - Chin Yang Playground\\\\PD_redo\\\\xtoy-8g-500_Metawear_2020-01-30T23.47.49.724_C5013CAC38C1_Accelerometer_1.5.0.csv\",\n",
       "  'df':       elapsed      x      y      z\n",
       "  0       0.000 -0.059  0.058 -1.054\n",
       "  1       0.020 -0.064  0.045 -1.062\n",
       "  2       0.039 -0.059  0.054 -1.070\n",
       "  3       0.060 -0.046  0.063 -1.054\n",
       "  4       0.080 -0.035  0.045 -1.030\n",
       "  ...       ...    ...    ...    ...\n",
       "  1005   20.183 -0.028  0.006 -1.067\n",
       "  1006   20.202 -0.025  0.007 -1.067\n",
       "  1007   20.222 -0.024  0.006 -1.067\n",
       "  1008   20.243 -0.028  0.006 -1.068\n",
       "  1009   20.262 -0.028  0.007 -1.068\n",
       "  \n",
       "  [1010 rows x 4 columns]},\n",
       " 'g': {'name': 'xtoy-8g-500_Metawear_2020-01-30T23.47.49.724_C5013CAC38C1_Gyroscope_1.5.0.csv',\n",
       "  'add': \"D:\\\\Development\\\\_git_Parkinson's Disease Sensors\\\\Parkinson-Disease-Repository\\\\Testground\\\\Test 3 - Chin Yang Playground\\\\PD_redo\\\\xtoy-8g-500_Metawear_2020-01-30T23.47.49.724_C5013CAC38C1_Gyroscope_1.5.0.csv\",\n",
       "  'df':       elapsed      x      y      z\n",
       "  0       0.000  2.530  0.381 -1.235\n",
       "  1       0.021  2.424  0.076 -1.021\n",
       "  2       0.041  5.671 -1.052 -0.183\n",
       "  3       0.060  5.640  0.000 -0.610\n",
       "  4       0.081 -3.735  3.140 -1.585\n",
       "  ...       ...    ...    ...    ...\n",
       "  1006   20.204 -0.884 -0.701 -0.290\n",
       "  1007   20.223 -0.625 -0.610 -0.366\n",
       "  1008   20.243 -0.549 -0.655 -0.351\n",
       "  1009   20.264 -0.625 -0.655 -0.366\n",
       "  1010   20.284 -0.655 -0.610 -0.351\n",
       "  \n",
       "  [1011 rows x 4 columns]}}"
      ]
     },
     "execution_count": 7,
     "metadata": {},
     "output_type": "execute_result"
    }
   ],
   "source": [
    "d"
   ]
  },
  {
   "cell_type": "code",
   "execution_count": 8,
   "metadata": {
    "scrolled": true
   },
   "outputs": [
    {
     "data": {
      "image/png": "[encoded data removed]",
      "text/plain": [
       "<Figure size 720x432 with 1 Axes>"
      ]
     },
     "metadata": {
      "needs_background": "light"
     },
     "output_type": "display_data"
    },
    {
     "data": {
      "image/png": "[encoded data removed]",
      "text/plain": [
       "<Figure size 720x432 with 1 Axes>"
      ]
     },
     "metadata": {
      "needs_background": "light"
     },
     "output_type": "display_data"
    }
   ],
   "source": [
    "# View plot of data\n",
    "figsize = (10, 6)\n",
    "\n",
    "\n",
    "def plot(df, x, y, ax=None):\n",
    "    \"\"\"\n",
    "    Plots the x and y selected from df\n",
    "    \n",
    "    Param:\n",
    "        df: pd.DataFrame()\n",
    "        x: str/int\n",
    "        y: str[]/int[]\n",
    "    \"\"\"\n",
    "    # Ensure y is iterable\n",
    "    if type(y) != type([]):\n",
    "        y = [y]\n",
    "    \n",
    "    if not ax:\n",
    "        fig, ax = plt.subplots(1, figsize=figsize)\n",
    "        \n",
    "    for i in y:\n",
    "        ax.plot(df[x], df[i])\n",
    "\n",
    "    ax.legend()\n",
    "    ax.grid()\n",
    "\n",
    "for i in ['a', 'g']:\n",
    "    plot(d[i]['df'], 'elapsed', ['x', 'y', 'z'])"
   ]
  },
  {
   "cell_type": "markdown",
   "metadata": {},
   "source": [
    "# Using Scipy Rotation"
   ]
  },
  {
   "cell_type": "code",
   "execution_count": 9,
   "metadata": {},
   "outputs": [
    {
     "name": "stderr",
     "output_type": "stream",
     "text": [
      "D:\\Users\\liong\\Anaconda3\\lib\\site-packages\\ipykernel_launcher.py:14: DeprecationWarning: The default dtype for empty Series will be 'object' instead of 'float64' in a future version. Specify a dtype explicitly to silence this warning.\n",
      "  \n"
     ]
    }
   ],
   "source": [
    "# Creating rotation object\n",
    "\n",
    "def vectorize(s, cols):\n",
    "    \"\"\"\n",
    "    Returns a vectors with elements taken from columns sourced from columns in the series\n",
    "    \n",
    "    Param:\n",
    "        s: pd.Series(): horizontal series, i.e. row\n",
    "        indices: str[]/int[]\n",
    "    Return:\n",
    "        _: pd.Series()\n",
    "    \"\"\"\n",
    "    # Ensure series is passed\n",
    "    assert type(s) == type(pd.Series())\n",
    "\n",
    "    # Ensure cols is a list\n",
    "    if type(cols) != type([]):\n",
    "        indices = [cols]\n",
    "\n",
    "    filtered_cols = []\n",
    "\n",
    "    # Ensure elements of list are integers (indices)\n",
    "    for v in cols:\n",
    "        try:\n",
    "            s[v]\n",
    "\n",
    "            filtered_cols.append(v)\n",
    "        except:\n",
    "            warn(\n",
    "                '\\'' + str(v) +\n",
    "                '\\' is not found in the series. The value will not be included in the vector.'\n",
    "            )\n",
    "\n",
    "    return [s[x] for x in filtered_cols]\n",
    "\n",
    "# Set x, y and z to radians\n",
    "for x in ['x', 'y', 'z']:\n",
    "    d['g']['df']['r' + x] = d['g']['df'][x].apply(lambda y: math.radians(y))\n",
    "\n",
    "# Vectorize x, y, and z in gyroscope\n",
    "d['g']['df']['R'] = d['g']['df'].apply(lambda x: vectorize(x, ['rx', 'ry', 'rz']), axis=1)\n",
    "\n",
    "# Create rotation object\n",
    "# Change vector to rotation matrix object\n",
    "d['g']['df']['R'] = d['g']['df']['R'].apply(lambda x: R.from_rotvec(x))"
   ]
  },
  {
   "cell_type": "code",
   "execution_count": 10,
   "metadata": {},
   "outputs": [
    {
     "name": "stderr",
     "output_type": "stream",
     "text": [
      "D:\\Users\\liong\\Anaconda3\\lib\\site-packages\\ipykernel_launcher.py:14: DeprecationWarning: The default dtype for empty Series will be 'object' instead of 'float64' in a future version. Specify a dtype explicitly to silence this warning.\n",
      "  \n"
     ]
    },
    {
     "ename": "ValueError",
     "evalue": "Length of values does not match length of index",
     "output_type": "error",
     "traceback": [
      "\u001b[1;31m---------------------------------------------------------------------------\u001b[0m",
      "\u001b[1;31mValueError\u001b[0m                                Traceback (most recent call last)",
      "\u001b[1;32m<ipython-input-10-dd8a3d875886>\u001b[0m in \u001b[0;36m<module>\u001b[1;34m()\u001b[0m\n\u001b[0;32m     14\u001b[0m \u001b[1;33m\u001b[0m\u001b[0m\n\u001b[0;32m     15\u001b[0m \u001b[1;32mfor\u001b[0m \u001b[0mix\u001b[0m\u001b[1;33m,\u001b[0m \u001b[0mv\u001b[0m \u001b[1;32min\u001b[0m \u001b[0menumerate\u001b[0m\u001b[1;33m(\u001b[0m\u001b[1;33m[\u001b[0m\u001b[1;34m'x'\u001b[0m\u001b[1;33m,\u001b[0m \u001b[1;34m'y'\u001b[0m\u001b[1;33m,\u001b[0m \u001b[1;34m'z'\u001b[0m\u001b[1;33m]\u001b[0m\u001b[1;33m)\u001b[0m\u001b[1;33m:\u001b[0m\u001b[1;33m\u001b[0m\u001b[0m\n\u001b[1;32m---> 16\u001b[1;33m     \u001b[0md\u001b[0m\u001b[1;33m[\u001b[0m\u001b[1;34m'a'\u001b[0m\u001b[1;33m]\u001b[0m\u001b[1;33m[\u001b[0m\u001b[1;34m'df'\u001b[0m\u001b[1;33m]\u001b[0m\u001b[1;33m[\u001b[0m\u001b[1;34m'n'\u001b[0m \u001b[1;33m+\u001b[0m \u001b[0mv\u001b[0m\u001b[1;33m]\u001b[0m \u001b[1;33m=\u001b[0m \u001b[0mlist\u001b[0m\u001b[1;33m(\u001b[0m\u001b[0mmap\u001b[0m\u001b[1;33m(\u001b[0m\u001b[1;32mlambda\u001b[0m \u001b[0mx\u001b[0m\u001b[1;33m:\u001b[0m \u001b[0mx\u001b[0m\u001b[1;33m[\u001b[0m\u001b[0mix\u001b[0m\u001b[1;33m]\u001b[0m\u001b[1;33m,\u001b[0m \u001b[0mxyz\u001b[0m\u001b[1;33m)\u001b[0m\u001b[1;33m)\u001b[0m\u001b[1;33m\u001b[0m\u001b[0m\n\u001b[0m\u001b[0;32m     17\u001b[0m \u001b[1;33m\u001b[0m\u001b[0m\n\u001b[0;32m     18\u001b[0m \u001b[1;31m# # Drop 'n_xyz'\u001b[0m\u001b[1;33m\u001b[0m\u001b[1;33m\u001b[0m\u001b[0m\n",
      "\u001b[1;32mD:\\Users\\liong\\Anaconda3\\lib\\site-packages\\pandas\\core\\frame.py\u001b[0m in \u001b[0;36m__setitem__\u001b[1;34m(self, key, value)\u001b[0m\n\u001b[0;32m   2936\u001b[0m         \u001b[1;32melse\u001b[0m\u001b[1;33m:\u001b[0m\u001b[1;33m\u001b[0m\u001b[0m\n\u001b[0;32m   2937\u001b[0m             \u001b[1;31m# set column\u001b[0m\u001b[1;33m\u001b[0m\u001b[1;33m\u001b[0m\u001b[0m\n\u001b[1;32m-> 2938\u001b[1;33m             \u001b[0mself\u001b[0m\u001b[1;33m.\u001b[0m\u001b[0m_set_item\u001b[0m\u001b[1;33m(\u001b[0m\u001b[0mkey\u001b[0m\u001b[1;33m,\u001b[0m \u001b[0mvalue\u001b[0m\u001b[1;33m)\u001b[0m\u001b[1;33m\u001b[0m\u001b[0m\n\u001b[0m\u001b[0;32m   2939\u001b[0m \u001b[1;33m\u001b[0m\u001b[0m\n\u001b[0;32m   2940\u001b[0m     \u001b[1;32mdef\u001b[0m \u001b[0m_setitem_slice\u001b[0m\u001b[1;33m(\u001b[0m\u001b[0mself\u001b[0m\u001b[1;33m,\u001b[0m \u001b[0mkey\u001b[0m\u001b[1;33m,\u001b[0m \u001b[0mvalue\u001b[0m\u001b[1;33m)\u001b[0m\u001b[1;33m:\u001b[0m\u001b[1;33m\u001b[0m\u001b[0m\n",
      "\u001b[1;32mD:\\Users\\liong\\Anaconda3\\lib\\site-packages\\pandas\\core\\frame.py\u001b[0m in \u001b[0;36m_set_item\u001b[1;34m(self, key, value)\u001b[0m\n\u001b[0;32m   2995\u001b[0m \u001b[1;33m\u001b[0m\u001b[0m\n\u001b[0;32m   2996\u001b[0m         \u001b[0mself\u001b[0m\u001b[1;33m.\u001b[0m\u001b[0m_ensure_valid_index\u001b[0m\u001b[1;33m(\u001b[0m\u001b[0mvalue\u001b[0m\u001b[1;33m)\u001b[0m\u001b[1;33m\u001b[0m\u001b[0m\n\u001b[1;32m-> 2997\u001b[1;33m         \u001b[0mvalue\u001b[0m \u001b[1;33m=\u001b[0m \u001b[0mself\u001b[0m\u001b[1;33m.\u001b[0m\u001b[0m_sanitize_column\u001b[0m\u001b[1;33m(\u001b[0m\u001b[0mkey\u001b[0m\u001b[1;33m,\u001b[0m \u001b[0mvalue\u001b[0m\u001b[1;33m)\u001b[0m\u001b[1;33m\u001b[0m\u001b[0m\n\u001b[0m\u001b[0;32m   2998\u001b[0m         \u001b[0mNDFrame\u001b[0m\u001b[1;33m.\u001b[0m\u001b[0m_set_item\u001b[0m\u001b[1;33m(\u001b[0m\u001b[0mself\u001b[0m\u001b[1;33m,\u001b[0m \u001b[0mkey\u001b[0m\u001b[1;33m,\u001b[0m \u001b[0mvalue\u001b[0m\u001b[1;33m)\u001b[0m\u001b[1;33m\u001b[0m\u001b[0m\n\u001b[0;32m   2999\u001b[0m \u001b[1;33m\u001b[0m\u001b[0m\n",
      "\u001b[1;32mD:\\Users\\liong\\Anaconda3\\lib\\site-packages\\pandas\\core\\frame.py\u001b[0m in \u001b[0;36m_sanitize_column\u001b[1;34m(self, key, value, broadcast)\u001b[0m\n\u001b[0;32m   3631\u001b[0m \u001b[1;33m\u001b[0m\u001b[0m\n\u001b[0;32m   3632\u001b[0m             \u001b[1;31m# turn me into an ndarray\u001b[0m\u001b[1;33m\u001b[0m\u001b[1;33m\u001b[0m\u001b[0m\n\u001b[1;32m-> 3633\u001b[1;33m             \u001b[0mvalue\u001b[0m \u001b[1;33m=\u001b[0m \u001b[0msanitize_index\u001b[0m\u001b[1;33m(\u001b[0m\u001b[0mvalue\u001b[0m\u001b[1;33m,\u001b[0m \u001b[0mself\u001b[0m\u001b[1;33m.\u001b[0m\u001b[0mindex\u001b[0m\u001b[1;33m,\u001b[0m \u001b[0mcopy\u001b[0m\u001b[1;33m=\u001b[0m\u001b[1;32mFalse\u001b[0m\u001b[1;33m)\u001b[0m\u001b[1;33m\u001b[0m\u001b[0m\n\u001b[0m\u001b[0;32m   3634\u001b[0m             \u001b[1;32mif\u001b[0m \u001b[1;32mnot\u001b[0m \u001b[0misinstance\u001b[0m\u001b[1;33m(\u001b[0m\u001b[0mvalue\u001b[0m\u001b[1;33m,\u001b[0m \u001b[1;33m(\u001b[0m\u001b[0mnp\u001b[0m\u001b[1;33m.\u001b[0m\u001b[0mndarray\u001b[0m\u001b[1;33m,\u001b[0m \u001b[0mIndex\u001b[0m\u001b[1;33m)\u001b[0m\u001b[1;33m)\u001b[0m\u001b[1;33m:\u001b[0m\u001b[1;33m\u001b[0m\u001b[0m\n\u001b[0;32m   3635\u001b[0m                 \u001b[1;32mif\u001b[0m \u001b[0misinstance\u001b[0m\u001b[1;33m(\u001b[0m\u001b[0mvalue\u001b[0m\u001b[1;33m,\u001b[0m \u001b[0mlist\u001b[0m\u001b[1;33m)\u001b[0m \u001b[1;32mand\u001b[0m \u001b[0mlen\u001b[0m\u001b[1;33m(\u001b[0m\u001b[0mvalue\u001b[0m\u001b[1;33m)\u001b[0m \u001b[1;33m>\u001b[0m \u001b[1;36m0\u001b[0m\u001b[1;33m:\u001b[0m\u001b[1;33m\u001b[0m\u001b[0m\n",
      "\u001b[1;32mD:\\Users\\liong\\Anaconda3\\lib\\site-packages\\pandas\\core\\internals\\construction.py\u001b[0m in \u001b[0;36msanitize_index\u001b[1;34m(data, index, copy)\u001b[0m\n\u001b[0;32m    609\u001b[0m \u001b[1;33m\u001b[0m\u001b[0m\n\u001b[0;32m    610\u001b[0m     \u001b[1;32mif\u001b[0m \u001b[0mlen\u001b[0m\u001b[1;33m(\u001b[0m\u001b[0mdata\u001b[0m\u001b[1;33m)\u001b[0m \u001b[1;33m!=\u001b[0m \u001b[0mlen\u001b[0m\u001b[1;33m(\u001b[0m\u001b[0mindex\u001b[0m\u001b[1;33m)\u001b[0m\u001b[1;33m:\u001b[0m\u001b[1;33m\u001b[0m\u001b[0m\n\u001b[1;32m--> 611\u001b[1;33m         \u001b[1;32mraise\u001b[0m \u001b[0mValueError\u001b[0m\u001b[1;33m(\u001b[0m\u001b[1;34m\"Length of values does not match length of index\"\u001b[0m\u001b[1;33m)\u001b[0m\u001b[1;33m\u001b[0m\u001b[0m\n\u001b[0m\u001b[0;32m    612\u001b[0m \u001b[1;33m\u001b[0m\u001b[0m\n\u001b[0;32m    613\u001b[0m     \u001b[1;32mif\u001b[0m \u001b[0misinstance\u001b[0m\u001b[1;33m(\u001b[0m\u001b[0mdata\u001b[0m\u001b[1;33m,\u001b[0m \u001b[0mABCIndexClass\u001b[0m\u001b[1;33m)\u001b[0m \u001b[1;32mand\u001b[0m \u001b[1;32mnot\u001b[0m \u001b[0mcopy\u001b[0m\u001b[1;33m:\u001b[0m\u001b[1;33m\u001b[0m\u001b[0m\n",
      "\u001b[1;31mValueError\u001b[0m: Length of values does not match length of index"
     ]
    }
   ],
   "source": [
    "# Vectorize x, y, z in accelerometer\n",
    "d['a']['df']['xyz'] = d['a']['df'].apply(lambda x: vectorize(x, ['x', 'y', 'z']), axis=1)\n",
    "\n",
    "# Import rotation object\n",
    "d['a']['df']['R'] = d['g']['df']['R']\n",
    "\n",
    "# Apply rotation on accelerometer data sequentially\n",
    "xyz = [np.array(d['a']['df']['xyz'][0])]\n",
    "\n",
    "for i in range(d['g']['df'].shape[0] - 1):\n",
    "    xyz.append(d['g']['df']['R'][i + 1].apply(xyz[-1], inverse=True))\n",
    "\n",
    "# d['a']['df']['n_xyz'] = d['a']['df'].apply(lambda x : x['R'].apply(x['xyz'], inverse=True), axis=1)\n",
    "\n",
    "for ix, v in enumerate(['x', 'y', 'z']):\n",
    "    d['a']['df']['n' + v] = list(map(lambda x: x[ix], xyz))\n",
    "    \n",
    "# # Drop 'n_xyz'\n",
    "# d['a']['df'] = d['a']['df'].drop(columns=['n_xyz'])\n",
    "\n",
    "# xyz"
   ]
  },
  {
   "cell_type": "code",
   "execution_count": 11,
   "metadata": {},
   "outputs": [
    {
     "data": {
      "text/html": [
       "<div>\n",
       "<style scoped>\n",
       "    .dataframe tbody tr th:only-of-type {\n",
       "        vertical-align: middle;\n",
       "    }\n",
       "\n",
       "    .dataframe tbody tr th {\n",
       "        vertical-align: top;\n",
       "    }\n",
       "\n",
       "    .dataframe thead th {\n",
       "        text-align: right;\n",
       "    }\n",
       "</style>\n",
       "<table border=\"1\" class=\"dataframe\">\n",
       "  <thead>\n",
       "    <tr style=\"text-align: right;\">\n",
       "      <th></th>\n",
       "      <th>elapsed</th>\n",
       "      <th>x</th>\n",
       "      <th>y</th>\n",
       "      <th>z</th>\n",
       "      <th>xyz</th>\n",
       "      <th>R</th>\n",
       "    </tr>\n",
       "  </thead>\n",
       "  <tbody>\n",
       "    <tr>\n",
       "      <th>0</th>\n",
       "      <td>0.000</td>\n",
       "      <td>-0.059</td>\n",
       "      <td>0.058</td>\n",
       "      <td>-1.054</td>\n",
       "      <td>[-0.059000000000000004, 0.057999999999999996, ...</td>\n",
       "      <td>(((&lt;scipy.spatial.transform.rotation.Rotation ...</td>\n",
       "    </tr>\n",
       "    <tr>\n",
       "      <th>1</th>\n",
       "      <td>0.020</td>\n",
       "      <td>-0.064</td>\n",
       "      <td>0.045</td>\n",
       "      <td>-1.062</td>\n",
       "      <td>[-0.064, 0.045, -1.062]</td>\n",
       "      <td>(((&lt;scipy.spatial.transform.rotation.Rotation ...</td>\n",
       "    </tr>\n",
       "    <tr>\n",
       "      <th>2</th>\n",
       "      <td>0.039</td>\n",
       "      <td>-0.059</td>\n",
       "      <td>0.054</td>\n",
       "      <td>-1.070</td>\n",
       "      <td>[-0.059000000000000004, 0.054000000000000006, ...</td>\n",
       "      <td>(((&lt;scipy.spatial.transform.rotation.Rotation ...</td>\n",
       "    </tr>\n",
       "    <tr>\n",
       "      <th>3</th>\n",
       "      <td>0.060</td>\n",
       "      <td>-0.046</td>\n",
       "      <td>0.063</td>\n",
       "      <td>-1.054</td>\n",
       "      <td>[-0.046, 0.063, -1.054]</td>\n",
       "      <td>(((&lt;scipy.spatial.transform.rotation.Rotation ...</td>\n",
       "    </tr>\n",
       "    <tr>\n",
       "      <th>4</th>\n",
       "      <td>0.080</td>\n",
       "      <td>-0.035</td>\n",
       "      <td>0.045</td>\n",
       "      <td>-1.030</td>\n",
       "      <td>[-0.035, 0.045, -1.03]</td>\n",
       "      <td>(((&lt;scipy.spatial.transform.rotation.Rotation ...</td>\n",
       "    </tr>\n",
       "    <tr>\n",
       "      <th>...</th>\n",
       "      <td>...</td>\n",
       "      <td>...</td>\n",
       "      <td>...</td>\n",
       "      <td>...</td>\n",
       "      <td>...</td>\n",
       "      <td>...</td>\n",
       "    </tr>\n",
       "    <tr>\n",
       "      <th>1005</th>\n",
       "      <td>20.183</td>\n",
       "      <td>-0.028</td>\n",
       "      <td>0.006</td>\n",
       "      <td>-1.067</td>\n",
       "      <td>[-0.027999999999999997, 0.006, -1.067]</td>\n",
       "      <td>(((&lt;scipy.spatial.transform.rotation.Rotation ...</td>\n",
       "    </tr>\n",
       "    <tr>\n",
       "      <th>1006</th>\n",
       "      <td>20.202</td>\n",
       "      <td>-0.025</td>\n",
       "      <td>0.007</td>\n",
       "      <td>-1.067</td>\n",
       "      <td>[-0.025, 0.006999999999999999, -1.067]</td>\n",
       "      <td>(((&lt;scipy.spatial.transform.rotation.Rotation ...</td>\n",
       "    </tr>\n",
       "    <tr>\n",
       "      <th>1007</th>\n",
       "      <td>20.222</td>\n",
       "      <td>-0.024</td>\n",
       "      <td>0.006</td>\n",
       "      <td>-1.067</td>\n",
       "      <td>[-0.024, 0.006, -1.067]</td>\n",
       "      <td>(((&lt;scipy.spatial.transform.rotation.Rotation ...</td>\n",
       "    </tr>\n",
       "    <tr>\n",
       "      <th>1008</th>\n",
       "      <td>20.243</td>\n",
       "      <td>-0.028</td>\n",
       "      <td>0.006</td>\n",
       "      <td>-1.068</td>\n",
       "      <td>[-0.027999999999999997, 0.006, -1.068]</td>\n",
       "      <td>(((&lt;scipy.spatial.transform.rotation.Rotation ...</td>\n",
       "    </tr>\n",
       "    <tr>\n",
       "      <th>1009</th>\n",
       "      <td>20.262</td>\n",
       "      <td>-0.028</td>\n",
       "      <td>0.007</td>\n",
       "      <td>-1.068</td>\n",
       "      <td>[-0.027999999999999997, 0.006999999999999999, ...</td>\n",
       "      <td>(((&lt;scipy.spatial.transform.rotation.Rotation ...</td>\n",
       "    </tr>\n",
       "  </tbody>\n",
       "</table>\n",
       "<p>1010 rows × 6 columns</p>\n",
       "</div>"
      ],
      "text/plain": [
       "      elapsed      x      y      z  \\\n",
       "0       0.000 -0.059  0.058 -1.054   \n",
       "1       0.020 -0.064  0.045 -1.062   \n",
       "2       0.039 -0.059  0.054 -1.070   \n",
       "3       0.060 -0.046  0.063 -1.054   \n",
       "4       0.080 -0.035  0.045 -1.030   \n",
       "...       ...    ...    ...    ...   \n",
       "1005   20.183 -0.028  0.006 -1.067   \n",
       "1006   20.202 -0.025  0.007 -1.067   \n",
       "1007   20.222 -0.024  0.006 -1.067   \n",
       "1008   20.243 -0.028  0.006 -1.068   \n",
       "1009   20.262 -0.028  0.007 -1.068   \n",
       "\n",
       "                                                    xyz  \\\n",
       "0     [-0.059000000000000004, 0.057999999999999996, ...   \n",
       "1                               [-0.064, 0.045, -1.062]   \n",
       "2     [-0.059000000000000004, 0.054000000000000006, ...   \n",
       "3                               [-0.046, 0.063, -1.054]   \n",
       "4                                [-0.035, 0.045, -1.03]   \n",
       "...                                                 ...   \n",
       "1005             [-0.027999999999999997, 0.006, -1.067]   \n",
       "1006             [-0.025, 0.006999999999999999, -1.067]   \n",
       "1007                            [-0.024, 0.006, -1.067]   \n",
       "1008             [-0.027999999999999997, 0.006, -1.068]   \n",
       "1009  [-0.027999999999999997, 0.006999999999999999, ...   \n",
       "\n",
       "                                                      R  \n",
       "0     (((<scipy.spatial.transform.rotation.Rotation ...  \n",
       "1     (((<scipy.spatial.transform.rotation.Rotation ...  \n",
       "2     (((<scipy.spatial.transform.rotation.Rotation ...  \n",
       "3     (((<scipy.spatial.transform.rotation.Rotation ...  \n",
       "4     (((<scipy.spatial.transform.rotation.Rotation ...  \n",
       "...                                                 ...  \n",
       "1005  (((<scipy.spatial.transform.rotation.Rotation ...  \n",
       "1006  (((<scipy.spatial.transform.rotation.Rotation ...  \n",
       "1007  (((<scipy.spatial.transform.rotation.Rotation ...  \n",
       "1008  (((<scipy.spatial.transform.rotation.Rotation ...  \n",
       "1009  (((<scipy.spatial.transform.rotation.Rotation ...  \n",
       "\n",
       "[1010 rows x 6 columns]"
      ]
     },
     "execution_count": 11,
     "metadata": {},
     "output_type": "execute_result"
    }
   ],
   "source": [
    "d['a']['df']"
   ]
  },
  {
   "cell_type": "code",
   "execution_count": null,
   "metadata": {},
   "outputs": [],
   "source": [
    "plot(d['a']['df'], 'elapsed', ['nx', 'ny', 'nz'])"
   ]
  },
  {
   "cell_type": "code",
   "execution_count": null,
   "metadata": {},
   "outputs": [],
   "source": []
  },
  {
   "cell_type": "code",
   "execution_count": 13,
   "metadata": {},
   "outputs": [
    {
     "data": {
      "text/plain": [
       "1011"
      ]
     },
     "execution_count": 13,
     "metadata": {},
     "output_type": "execute_result"
    }
   ],
   "source": [
    "len(xyz)"
   ]
  },
  {
   "cell_type": "code",
   "execution_count": 16,
   "metadata": {},
   "outputs": [
    {
     "data": {
      "text/plain": [
       "(1010, 6)"
      ]
     },
     "execution_count": 16,
     "metadata": {},
     "output_type": "execute_result"
    }
   ],
   "source": [
    "d['a']['df'].shape"
   ]
  },
  {
   "cell_type": "code",
   "execution_count": 17,
   "metadata": {},
   "outputs": [
    {
     "data": {
      "text/plain": [
       "(1011, 8)"
      ]
     },
     "execution_count": 17,
     "metadata": {},
     "output_type": "execute_result"
    }
   ],
   "source": [
    "d['g']['df'].shape"
   ]
  },
  {
   "cell_type": "code",
   "execution_count": null,
   "metadata": {},
   "outputs": [],
   "source": []
  },
  {
   "cell_type": "code",
   "execution_count": null,
   "metadata": {},
   "outputs": [],
   "source": []
  }
 ],
 "metadata": {
  "kernelspec": {
   "display_name": "Python 3",
   "language": "python",
   "name": "python3"
  },
  "language_info": {
   "codemirror_mode": {
    "name": "ipython",
    "version": 3
   },
   "file_extension": ".py",
   "mimetype": "text/x-python",
   "name": "python",
   "nbconvert_exporter": "python",
   "pygments_lexer": "ipython3",
   "version": "3.7.0"
  },
  "varInspector": {
   "cols": {
    "lenName": 16,
    "lenType": 16,
    "lenVar": 40
   },
   "kernels_config": {
    "python": {
     "delete_cmd_postfix": "",
     "delete_cmd_prefix": "del ",
     "library": "var_list.py",
     "varRefreshCmd": "print(var_dic_list())"
    },
    "r": {
     "delete_cmd_postfix": ") ",
     "delete_cmd_prefix": "rm(",
     "library": "var_list.r",
     "varRefreshCmd": "cat(var_dic_list()) "
    }
   },
   "types_to_exclude": [
    "module",
    "function",
    "builtin_function_or_method",
    "instance",
    "_Feature"
   ],
   "window_display": false
  }
 },
 "nbformat": 4,
 "nbformat_minor": 2
}
