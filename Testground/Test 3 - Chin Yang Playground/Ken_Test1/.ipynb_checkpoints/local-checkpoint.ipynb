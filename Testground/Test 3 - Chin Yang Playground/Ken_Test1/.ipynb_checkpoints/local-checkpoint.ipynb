{
 "cells": [
  {
   "cell_type": "code",
   "execution_count": 1,
   "metadata": {
    "scrolled": true
   },
   "outputs": [
    {
     "name": "stdout",
     "output_type": "stream",
     "text": [
      "importing Jupyter notebook from util.ipynb\n"
     ]
    }
   ],
   "source": [
    "import os, math, import_ipynb, mpld3\n",
    "import numpy as np\n",
    "import pandas as pd\n",
    "import matplotlib.pyplot as plt\n",
    "import matplotlib.pylab as pylab\n",
    "from scipy.fftpack import fft, fftfreq\n",
    "from scipy import signal \n",
    "from util import *\n",
    "\n",
    "%matplotlib inline\n",
    "mpld3.enable_notebook()"
   ]
  },
  {
   "cell_type": "markdown",
   "metadata": {},
   "source": [
    "---\n",
    "## 1.0 Global Parameters for Plot Configuration"
   ]
  },
  {
   "cell_type": "code",
   "execution_count": 2,
   "metadata": {},
   "outputs": [],
   "source": [
    "# Global Configuration Dictionary for Plot Customisation\n",
    "# use pylab.rcParams.update(params) to update settings\n",
    "params = {'lines.linewidth' : 1,\n",
    "          'legend.fontsize': 16,\n",
    "          'legend.loc': 'best',\n",
    "          'figure.figsize': (12, 5),\n",
    "         'axes.labelsize': 16,\n",
    "         'axes.titlesize': 16,\n",
    "         'xtick.labelsize': 24,\n",
    "         'ytick.labelsize': 24}\n",
    "\n",
    "# Update plot customisation parameters\n",
    "pylab.rcParams.update(params)"
   ]
  },
  {
   "cell_type": "markdown",
   "metadata": {},
   "source": [
    "---\n",
    "## 2.0 Dataframe Import"
   ]
  },
  {
   "cell_type": "code",
   "execution_count": 7,
   "metadata": {},
   "outputs": [
    {
     "name": "stdout",
     "output_type": "stream",
     "text": [
      "None\n"
     ]
    },
    {
     "ename": "TypeError",
     "evalue": "chdir: path should be string, bytes or os.PathLike, not NoneType",
     "output_type": "error",
     "traceback": [
      "\u001b[1;31m---------------------------------------------------------------------------\u001b[0m",
      "\u001b[1;31mTypeError\u001b[0m                                 Traceback (most recent call last)",
      "\u001b[1;32m<ipython-input-7-7507dc079895>\u001b[0m in \u001b[0;36m<module>\u001b[1;34m\u001b[0m\n\u001b[0;32m      1\u001b[0m \u001b[0mworking_path\u001b[0m \u001b[1;33m=\u001b[0m \u001b[0mget_folder_path\u001b[0m\u001b[1;33m(\u001b[0m\u001b[1;34m'prosup-forearm'\u001b[0m\u001b[1;33m)\u001b[0m\u001b[1;33m\u001b[0m\u001b[1;33m\u001b[0m\u001b[0m\n\u001b[0;32m      2\u001b[0m \u001b[0mprint\u001b[0m\u001b[1;33m(\u001b[0m\u001b[0mworking_path\u001b[0m\u001b[1;33m)\u001b[0m\u001b[1;33m\u001b[0m\u001b[1;33m\u001b[0m\u001b[0m\n\u001b[1;32m----> 3\u001b[1;33m \u001b[0mos\u001b[0m\u001b[1;33m.\u001b[0m\u001b[0mchdir\u001b[0m\u001b[1;33m(\u001b[0m\u001b[0mworking_path\u001b[0m\u001b[1;33m)\u001b[0m\u001b[1;33m\u001b[0m\u001b[1;33m\u001b[0m\u001b[0m\n\u001b[0m\u001b[0;32m      4\u001b[0m \u001b[1;33m\u001b[0m\u001b[0m\n\u001b[0;32m      5\u001b[0m \u001b[0mfile\u001b[0m \u001b[1;33m=\u001b[0m \u001b[1;34m'prosup-lvl0-forearm_S2_2019-12-10T15.18.28.872_C49948A1895C_Gyroscope_1.4.5.csv'\u001b[0m\u001b[1;33m\u001b[0m\u001b[1;33m\u001b[0m\u001b[0m\n",
      "\u001b[1;31mTypeError\u001b[0m: chdir: path should be string, bytes or os.PathLike, not NoneType"
     ]
    }
   ],
   "source": [
    "working_path = get_folder_path('prosup-forearm')\n",
    "print(working_path)\n",
    "os.chdir(working_path)\n",
    "\n",
    "file = 'prosup-lvl0-forearm_S2_2019-12-10T15.18.28.872_C49948A1895C_Gyroscope_1.4.5.csv'\n",
    "\n",
    "# file = \"working_path/*.csv\"\n",
    "# if \"lvl0\" in file:\n",
    "df = read_csv_file(file)\n",
    "\n",
    "os.chdir('..')\n"
   ]
  },
  {
   "cell_type": "markdown",
   "metadata": {},
   "source": [
    "---\n",
    "## 3.0 Testground"
   ]
  },
  {
   "cell_type": "code",
   "execution_count": 4,
   "metadata": {},
   "outputs": [
    {
     "ename": "NameError",
     "evalue": "name 'file' is not defined",
     "output_type": "error",
     "traceback": [
      "\u001b[1;31m---------------------------------------------------------------------------\u001b[0m",
      "\u001b[1;31mNameError\u001b[0m                                 Traceback (most recent call last)",
      "\u001b[1;32m<ipython-input-4-6a8ab314c071>\u001b[0m in \u001b[0;36m<module>\u001b[1;34m\u001b[0m\n\u001b[0;32m      1\u001b[0m \u001b[0mfs\u001b[0m \u001b[1;33m=\u001b[0m \u001b[1;36m50\u001b[0m\u001b[1;33m\u001b[0m\u001b[1;33m\u001b[0m\u001b[0m\n\u001b[1;32m----> 2\u001b[1;33m \u001b[0mplot_frequency\u001b[0m\u001b[1;33m(\u001b[0m\u001b[0mdf\u001b[0m\u001b[1;33m,\u001b[0m \u001b[0mfs\u001b[0m\u001b[1;33m,\u001b[0m \u001b[0mt\u001b[0m \u001b[1;33m=\u001b[0m \u001b[0mfile\u001b[0m\u001b[1;33m)\u001b[0m\u001b[1;33m\u001b[0m\u001b[1;33m\u001b[0m\u001b[0m\n\u001b[0m",
      "\u001b[1;31mNameError\u001b[0m: name 'file' is not defined"
     ]
    }
   ],
   "source": [
    "fs = 50\n",
    "plot_frequency(df, fs, t = file)"
   ]
  },
  {
   "cell_type": "code",
   "execution_count": null,
   "metadata": {},
   "outputs": [],
   "source": [
    "plot_time_3_axes(df, t = file)"
   ]
  },
  {
   "cell_type": "code",
   "execution_count": null,
   "metadata": {},
   "outputs": [],
   "source": [
    "# ==============================================\n",
    "# Truncated Data Analysis\n",
    "# ==============================================\n",
    "# working_path = get_folder_path('prosup-wrist')\n",
    "# file = 'prosup-lvl0-wrist_S2_2019-12-10T15.13.45.631_C49948A1895C_Accelerometer_1.4.5.csv'\n",
    "# os.chdir(working_path)\n",
    "\n",
    "# # Data pre-processing\n",
    "# df = read_csv_file(os.path.join(working_path,file))\n",
    "# os.chdir('..')\n",
    "\n",
    "df_1, df_2, df_3 = truncate_dataframe(working_path, file,22.4,28.56,49.7,57.65,78.5,88.9)\n",
    "\n",
    "plot_time_3_axes(df_1, t = file)\n",
    "plot_time_3_axes(df_2, t = file)\n",
    "plot_time_3_axes(df_3, t = file)\n",
    "# fs = 50\n",
    "# plot_frequency(df_1, fs, t = file)\n",
    "# plot_frequency(df_2, fs, t = file)\n",
    "# plot_frequency(df_3, fs, t = file)"
   ]
  },
  {
   "cell_type": "code",
   "execution_count": 6,
   "metadata": {
    "scrolled": false
   },
   "outputs": [],
   "source": [
    "# # ======================================================================\n",
    "# # Edit the input variable below to change to the folder path of interest\n",
    "# # ======================================================================\n",
    "# working_path = get_folder_path('prosup-forearm')\n",
    "\n",
    "# # File and directory management\n",
    "# os.chdir(working_path)\n",
    "# directory = os.listdir()\n",
    "\n",
    "# for file in directory:\n",
    "#     display(file)\n",
    "#     df = read_csv_file(file)\n",
    "#     if df is None:\n",
    "#         continue\n",
    "\n",
    "#     # ==============================================\n",
    "#     # Data Pre-processing\n",
    "#     # ==============================================\n",
    "# #     df_raw_stats = pd.DataFrame(collect_stats_from_unprocessed_data(df, file, 4))\n",
    "# #     display(df_raw_stats)\n",
    "    \n",
    "# #     df_processed = process_dataframe(df, file, window, max_window) \n",
    "# #     df_processed_stats = pd.DataFrame(collect_stats_from_processed_data(df_processed, file, 4))\n",
    "# #     display(df_processed_stats)\n",
    "    \n",
    "#     # ==============================================\n",
    "#     # Data Visualisation\n",
    "#     # ==============================================\n",
    "#     # Update plot customisation parameters\n",
    "#     pylab.rcParams.update(params)\n",
    "    \n",
    "#     # Uncomment sections below to enable plots of interest\n",
    "#     plot_time_3_axes(df, t = file)\n",
    "# #     plot_magnitude_frequency(df_processed, t = file)\n",
    "# #     plot_frequency(df, fs, t = file)\n",
    "\n",
    "# # os.chdir('..')"
   ]
  },
  {
   "cell_type": "markdown",
   "metadata": {},
   "source": [
    "---\n",
    "## 4.0 Archive Code"
   ]
  },
  {
   "cell_type": "code",
   "execution_count": null,
   "metadata": {},
   "outputs": [],
   "source": [
    "# # ======================================================================\n",
    "# # Edit the input variable below to change to the folder path of interest\n",
    "# # ======================================================================\n",
    "# working_path = get_folder_path('prosup-forearm')\n",
    "\n",
    "# # File and directory management\n",
    "# os.chdir(working_path)\n",
    "# directory = os.listdir()\n",
    "\n",
    "# for file in directory:\n",
    "#     display(file)\n",
    "#     df = read_csv_file(file)\n",
    "#     if df is None:\n",
    "#         continue\n",
    "\n",
    "#     # ==============================================\n",
    "#     # Data Pre-processing\n",
    "#     # ==============================================\n",
    "# #     df_raw_stats = pd.DataFrame(collect_stats_from_unprocessed_data(df, file, 4))\n",
    "# #     display(df_raw_stats)\n",
    "    \n",
    "# #     df_processed = process_dataframe(df, file, window, max_window) \n",
    "# #     df_processed_stats = pd.DataFrame(collect_stats_from_processed_data(df_processed, file, 4))\n",
    "# #     display(df_processed_stats)\n",
    "    \n",
    "#     # ==============================================\n",
    "#     # Data Visualisation\n",
    "#     # ==============================================\n",
    "#     # Update plot customisation parameters\n",
    "#     pylab.rcParams.update(params)\n",
    "    \n",
    "#     # Uncomment sections below to enable plots of interest\n",
    "#     plot_time_3_axes(df, t = file)\n",
    "# #     plot_magnitude_frequency(df_processed, t = file)\n",
    "# #     plot_frequency(df, fs, t = file)\n",
    "\n",
    "# # os.chdir('..')"
   ]
  },
  {
   "cell_type": "code",
   "execution_count": null,
   "metadata": {},
   "outputs": [],
   "source": [
    "# # ======================================================================\n",
    "# # Edit the input variable below to change to the folder path of interest\n",
    "# # ======================================================================\n",
    "# working_path = get_folder_path('tota-calf&heel')\n",
    "\n",
    "# # Data Overview\n",
    "# display(working_path)\n",
    "# df_tabulated_stats = tabulate_all_stats(working_path, 4, 3, 30)\n",
    "# # display(df_tabulated_stats)\n",
    "\n",
    "# # File and directory management\n",
    "# os.chdir(working_path)\n",
    "# directory = os.listdir()\n",
    "\n",
    "# for file in directory:\n",
    "#     display(file)\n",
    "#     df = read_csv_file(file)\n",
    "#     if df is None:\n",
    "#         continue\n",
    "\n",
    "#     # ==============================================\n",
    "#     # Data Pre-processing\n",
    "#     # ==============================================\n",
    "#     df_raw_stats = pd.DataFrame(collect_stats_from_unprocessed_data(df, file, 4))\n",
    "#     display(df_raw_stats)\n",
    "    \n",
    "# #     df_processed = process_dataframe(df, file, window, max_window) \n",
    "# #     df_processed_stats = pd.DataFrame(collect_stats_from_processed_data(df_processed, file, 4))\n",
    "# #     display(df_processed_stats)\n",
    "    \n",
    "#     # ==============================================\n",
    "#     # Data Visualisation\n",
    "#     # ==============================================\n",
    "#     # Update plot customisation parameters\n",
    "#     pylab.rcParams.update(params)\n",
    "    \n",
    "#     # Uncomment sections below to enable plots of interest\n",
    "#     plot_time_3_axes(df, t = file)\n",
    "# #     plot_magnitude_frequency(df_processed, t = file)\n",
    "# #     plot_frequency(df, fs, t = file)\n",
    "\n",
    "# os.chdir('..')"
   ]
  }
 ],
 "metadata": {
  "kernelspec": {
   "display_name": "Python 3",
   "language": "python",
   "name": "python3"
  },
  "language_info": {
   "codemirror_mode": {
    "name": "ipython",
    "version": 3
   },
   "file_extension": ".py",
   "mimetype": "text/x-python",
   "name": "python",
   "nbconvert_exporter": "python",
   "pygments_lexer": "ipython3",
   "version": "3.7.5"
  }
 },
 "nbformat": 4,
 "nbformat_minor": 4
}
