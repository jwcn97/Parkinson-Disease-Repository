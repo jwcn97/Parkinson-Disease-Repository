{
 "cells": [
  {
   "cell_type": "markdown",
   "metadata": {},
   "source": [
    "# Chin Yang's Observation"
   ]
  },
  {
   "cell_type": "markdown",
   "metadata": {},
   "source": [
    "## Importing libraries"
   ]
  },
  {
   "cell_type": "code",
   "execution_count": 7,
   "metadata": {},
   "outputs": [],
   "source": [
    "from os import listdir\n",
    "import math\n",
    "import pandas as pd\n",
    "import numpy as np\n",
    "import matplotlib.pyplot as plt\n",
    "from scipy import signal"
   ]
  },
  {
   "cell_type": "markdown",
   "metadata": {},
   "source": [
    "## Retrieving Motion Data"
   ]
  },
  {
   "cell_type": "code",
   "execution_count": 8,
   "metadata": {},
   "outputs": [],
   "source": [
    "datafile = ('Motion Data/')\n",
    "# print(datafile)"
   ]
  },
  {
   "cell_type": "markdown",
   "metadata": {},
   "source": [
    "## Raw Data"
   ]
  },
  {
   "cell_type": "code",
   "execution_count": null,
   "metadata": {},
   "outputs": [],
   "source": []
  },
  {
   "cell_type": "code",
   "execution_count": null,
   "metadata": {},
   "outputs": [],
   "source": []
  },
  {
   "cell_type": "markdown",
   "metadata": {},
   "source": [
    "## Smoothen Data"
   ]
  },
  {
   "cell_type": "code",
   "execution_count": null,
   "metadata": {},
   "outputs": [],
   "source": []
  },
  {
   "cell_type": "code",
   "execution_count": null,
   "metadata": {},
   "outputs": [],
   "source": []
  },
  {
   "cell_type": "code",
   "execution_count": null,
   "metadata": {},
   "outputs": [],
   "source": []
  },
  {
   "cell_type": "code",
   "execution_count": null,
   "metadata": {},
   "outputs": [],
   "source": []
  },
  {
   "cell_type": "markdown",
   "metadata": {},
   "source": [
    "## Archive"
   ]
  },
  {
   "cell_type": "code",
   "execution_count": null,
   "metadata": {},
   "outputs": [],
   "source": [
    "\"\"\"\n",
    "CHECKING\n",
    "CLIPPING EFFECT (Y/N), DOMINANT AXIS (X/Y/Z) \n",
    "ftap lvl0 - N            \n",
    "ftap lvl1 - N\n",
    "ftap lvl2 - N\n",
    "ftap lvl3 - N\n",
    "ftap lvl4\n",
    "hmove lvl0\n",
    "hmove lvl1\n",
    "hmove lvl2\n",
    "# inspect potential tremor motions in between tries\n",
    "hmove lvl3\n",
    "hmove lvl4\n",
    "leag lvl0\n",
    "leag lvl1\n",
    "# calf-heel & heel data same, Sara to redo?\n",
    "leag lvl2\n",
    "leag lvl3\n",
    "# check for anomalies. Truncated accelerometer values might be useful despite being displayed otherwise in gyroscope\n",
    "leag lvl4\n",
    "prosup lvl0\n",
    "prosup lvl1\n",
    "prosup lvl2\n",
    "prosup lvl3\n",
    "prosup lvl4\n",
    "tota lvl0\n",
    "tota lvl1\n",
    "tota lvl2\n",
    "tota lvl3\n",
    "tota lvl4\n",
    "ttap lvl0\n",
    "ttap lvl1\n",
    "ttap lvl2\n",
    "ttap lvl3\n",
    "ttap lvl4\n",
    "tugt lvl0\n",
    "tugt lvl1\n",
    "tugt lvl2\n",
    "tugt lvl3\n",
    "tugt lvl4\n",
    "\"\"\""
   ]
  },
  {
   "cell_type": "code",
   "execution_count": null,
   "metadata": {},
   "outputs": [],
   "source": []
  },
  {
   "cell_type": "code",
   "execution_count": null,
   "metadata": {},
   "outputs": [],
   "source": []
  }
 ],
 "metadata": {
  "kernelspec": {
   "display_name": "Python 3",
   "language": "python",
   "name": "python3"
  },
  "language_info": {
   "codemirror_mode": {
    "name": "ipython",
    "version": 3
   },
   "file_extension": ".py",
   "mimetype": "text/x-python",
   "name": "python",
   "nbconvert_exporter": "python",
   "pygments_lexer": "ipython3",
   "version": "3.7.5"
  }
 },
 "nbformat": 4,
 "nbformat_minor": 2
}
