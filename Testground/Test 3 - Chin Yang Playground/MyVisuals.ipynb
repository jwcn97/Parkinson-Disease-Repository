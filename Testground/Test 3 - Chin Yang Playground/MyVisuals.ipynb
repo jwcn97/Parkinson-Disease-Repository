{
 "cells": [
  {
   "cell_type": "markdown",
   "metadata": {},
   "source": [
    "# Chin Yang's Experiment"
   ]
  },
  {
   "cell_type": "markdown",
   "metadata": {},
   "source": [
    "## Importing libraries"
   ]
  },
  {
   "cell_type": "code",
   "execution_count": null,
   "metadata": {},
   "outputs": [],
   "source": [
    "import os, mpld3\n",
    "import glob\n",
    "from os import listdir\n",
    "import math\n",
    "import pandas as pd\n",
    "import numpy as np\n",
    "import matplotlib.pyplot as plt\n",
    "from scipy import signal\n",
    "import pprint\n",
    "import re\n",
    "import time\n",
    "from tqdm import tqdm\n",
    "startTime = time.time()\n",
    "\n",
    "\n",
    "%matplotlib inline\n",
    "mpld3.enable_notebook()"
   ]
  },
  {
   "cell_type": "markdown",
   "metadata": {},
   "source": [
    "## Retrieving Motion Data"
   ]
  },
  {
   "cell_type": "code",
   "execution_count": null,
   "metadata": {},
   "outputs": [],
   "source": [
    "# getting current directory\n",
    "cwd = os.getcwd()\n",
    "print(cwd)\n",
    "# testing folder directory\n",
    "# df = pd.read_csv('Motion Data/ftap-lvl0-forearm_S2_2019-12-05T09.55.32.037_C49948A1895C_Accelerometer_1.4.5.csv')\n",
    "# df\n",
    "# folder = ('Motion Data/')"
   ]
  },
  {
   "cell_type": "markdown",
   "metadata": {},
   "source": [
    "## Raw Data"
   ]
  },
  {
   "cell_type": "code",
   "execution_count": null,
   "metadata": {
    "scrolled": false
   },
   "outputs": [],
   "source": [
    "# def find_csv(folder, suffix=\".csv\"):\n",
    "#     filenames = listdir(folder)\n",
    "#     return [filename for filename in filenames if filename.endswith(suffix)]\n",
    "\n",
    "# print(*find_csv(folder), sep ='\\n')\n",
    "\n",
    "# def csv():\n",
    "#     for name in glob.glob('Motion Data/*'):\n",
    "#         print (name) \n",
    "# csv()\n",
    "\n",
    "# dataframes = []\n",
    "# for file_ in glob.glob('Motion Data/*.csv'):\n",
    "#     df = pd.read_csv(file_,index_col=None, header=0)\n",
    "#     dataframes.append(df)\n",
    "# print(dataframes)\n",
    "\n",
    "def plot_raw():\n",
    "    for name in glob.glob('Motion Data/*.csv'):\n",
    "        df = pd.read_csv(name)\n",
    "        if ('tota' in name) and ('lvl0' in name):\n",
    "            if True:\n",
    "                if ('Accelerometer' in name):\n",
    "                    oldname = name[12:-64]\n",
    "                    newname1 = oldname.split('-')[0] + '\\u2726''\\u2726' + oldname.split('-')[1] + '\\u2726''\\u2726' + oldname.split('-')[2] + '\\u2726''\\u2726' + 'Accelerometer'\n",
    "                \n",
    "                    ax1 = df.plot(x='elapsed (s)', y=['x-axis (g)','y-axis (g)','z-axis (g)'], \n",
    "                                  grid=True,figsize=(12,4), title=newname1)\n",
    "                    ax1.set_xlabel('Time (s)')\n",
    "                    ax1.set_ylabel('Amplitude')\n",
    "                elif ('Gyroscope' in name):\n",
    "                    oldname = name[12:-60]\n",
    "                    newname2 = oldname.split('-')[0] + '\\u2726''\\u2726' + oldname.split('-')[1] + '\\u2726''\\u2726' + oldname.split('-')[2] + '\\u2726''\\u2726' + 'Gyroscope'\n",
    "                   \n",
    "                    ax2= df.plot(x='elapsed (s)', y=['x-axis (deg/s)','y-axis (deg/s)','z-axis (deg/s)'], \n",
    "                                 grid=True,figsize=(12,4), title=newname2)\n",
    "                    ax2.set_xlabel('Time (s)')\n",
    "                    ax2.set_ylabel('Amplitude')\n",
    "\n",
    "plot_raw()\n",
    "\n",
    "\n",
    "\n",
    "\n"
   ]
  },
  {
   "cell_type": "code",
   "execution_count": null,
   "metadata": {},
   "outputs": [],
   "source": [
    "\n",
    "print(\"--- %s seconds ---\" % (time.time() - startTime))"
   ]
  },
  {
   "cell_type": "markdown",
   "metadata": {},
   "source": [
    "## Smoothen Data"
   ]
  },
  {
   "cell_type": "code",
   "execution_count": null,
   "metadata": {},
   "outputs": [],
   "source": []
  },
  {
   "cell_type": "code",
   "execution_count": null,
   "metadata": {},
   "outputs": [],
   "source": []
  },
  {
   "cell_type": "code",
   "execution_count": null,
   "metadata": {},
   "outputs": [],
   "source": []
  },
  {
   "cell_type": "code",
   "execution_count": null,
   "metadata": {},
   "outputs": [],
   "source": []
  },
  {
   "cell_type": "markdown",
   "metadata": {},
   "source": [
    "## Noise"
   ]
  },
  {
   "cell_type": "code",
   "execution_count": 1,
   "metadata": {},
   "outputs": [],
   "source": [
    "# df1 = pd.read_csv('PD_redo/noise-4g-250_Metawear_2020-02-03T12.49.14.734_C5013CAC38C1_Accelerometer_1.5.0.csv')\n",
    "# df1"
   ]
  },
  {
   "cell_type": "code",
   "execution_count": null,
   "metadata": {},
   "outputs": [],
   "source": []
  },
  {
   "cell_type": "markdown",
   "metadata": {},
   "source": [
    "## Archive"
   ]
  },
  {
   "cell_type": "code",
   "execution_count": null,
   "metadata": {},
   "outputs": [],
   "source": [
    "\"\"\"\n",
    "CHECKING\n",
    "CLIPPING EFFECT (Y/N,Y/N), TRUNCATION [(,)(,)(,)], DOMINANT AXIS (X/Y/Z) \n",
    "ftap lvl0 - N,            \n",
    "ftap lvl1 - N\n",
    "ftap lvl2 - N\n",
    "ftap lvl3 - N\n",
    "ftap lvl4\n",
    "hmove lvl0\n",
    "hmove lvl1\n",
    "hmove lvl2\n",
    "# inspect potential tremor motions in between tries\n",
    "hmove lvl3\n",
    "hmove lvl4\n",
    "leag lvl0\n",
    "leag lvl1\n",
    "# calf-heel & heel data same, Sara to redo?\n",
    "leag lvl2\n",
    "leag lvl3\n",
    "# check for anomalies. Truncated accelerometer values might be useful despite being displayed otherwise in gyroscope\n",
    "leag lvl4\n",
    "prosup lvl0\n",
    "prosup lvl1\n",
    "prosup lvl2\n",
    "prosup lvl3\n",
    "prosup lvl4\n",
    "tota lvl0\n",
    "tota lvl1\n",
    "tota lvl2\n",
    "tota lvl3\n",
    "tota lvl4\n",
    "ttap lvl0\n",
    "ttap lvl1\n",
    "ttap lvl2\n",
    "ttap lvl3\n",
    "ttap lvl4\n",
    "tugt lvl0\n",
    "tugt lvl1\n",
    "tugt lvl2\n",
    "tugt lvl3\n",
    "tugt lvl4\n",
    "\"\"\""
   ]
  },
  {
   "cell_type": "code",
   "execution_count": null,
   "metadata": {},
   "outputs": [],
   "source": []
  },
  {
   "cell_type": "code",
   "execution_count": null,
   "metadata": {},
   "outputs": [],
   "source": []
  }
 ],
 "metadata": {
  "kernelspec": {
   "display_name": "Python 3",
   "language": "python",
   "name": "python3"
  },
  "language_info": {
   "codemirror_mode": {
    "name": "ipython",
    "version": 3
   },
   "file_extension": ".py",
   "mimetype": "text/x-python",
   "name": "python",
   "nbconvert_exporter": "python",
   "pygments_lexer": "ipython3",
   "version": "3.7.5"
  }
 },
 "nbformat": 4,
 "nbformat_minor": 2
}
