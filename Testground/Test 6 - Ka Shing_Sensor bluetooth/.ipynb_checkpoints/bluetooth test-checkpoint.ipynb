{
 "cells": [
  {
   "cell_type": "code",
   "execution_count": null,
   "metadata": {},
   "outputs": [
    {
     "name": "stdout",
     "output_type": "stream",
     "text": [
      "scanning for devices...\n"
     ]
    }
   ],
   "source": [
    "# Scan for all bluetooth devices\n",
    "\n",
    "from __future__ import print_function\n",
    "from mbientlab.metawear import MetaWear\n",
    "from mbientlab.metawear.cbindings import *\n",
    "from mbientlab.warble import * \n",
    "from time import sleep\n",
    "\n",
    "import platform\n",
    "import six\n",
    "\n",
    "selection = -1\n",
    "devices = None\n",
    "\n",
    "while selection == -1:\n",
    "    print(\"scanning for devices...\")\n",
    "    devices = {}\n",
    "    def handler(result):\n",
    "        devices[result.mac] = result.name\n",
    "\n",
    "    BleScanner.set_handler(handler)\n",
    "    BleScanner.start()\n",
    "\n",
    "    sleep(10.0)\n",
    "    BleScanner.stop()\n",
    "\n",
    "    i = 0\n",
    "    for address, name in six.iteritems(devices):\n",
    "        print(\"[%d] %s (%s)\" % (i, address, name))\n",
    "        i+= 1\n",
    "\n",
    "    msg = \"Select your device (-1 to rescan): \"\n",
    "    selection = int(raw_input(msg) if platform.python_version_tuple()[0] == '2' else input(msg))\n",
    "\n",
    "address = list(devices)[selection]\n",
    "print(\"Connecting to %s...\" % (address))\n",
    "device = MetaWear(address)\n",
    "device.connect()\n",
    "\n",
    "print(\"Connected\")\n",
    "print(\"Device information: \" + str(device.info))\n",
    "sleep(5.0)\n",
    "\n",
    "device.disconnect()\n",
    "sleep(1.0)\n",
    "print(\"Disconnected\") "
   ]
  },
  {
   "cell_type": "code",
   "execution_count": 20,
   "metadata": {},
   "outputs": [
    {
     "name": "stdout",
     "output_type": "stream",
     "text": [
      "performing inquiry...\n",
      "found 9 devices\n",
      "94:65:2D:27:0D:70 - \n",
      "5C:FB:7C:4D:A0:05 - JBL TUNE110BT\n",
      "00:00:00:00:00:02 - WK-BS150\n",
      "A0:E9:DB:06:08:D9 - Anker SoundCore\n",
      "41:42:48:C9:BE:F7 - T3s\n",
      "38:F9:D3:D3:F8:70 - Angelina’s MacBook Pro 15\"\n",
      "A4:83:E7:40:B4:DF - Camille’s MacBook Air\n",
      "48:BF:6B:DB:8C:57 - Zahrah’s MacBook Air\n",
      "D8:CE:3A:CE:45:AD - simo\n"
     ]
    }
   ],
   "source": [
    "from bluetooth import *\n",
    "\n",
    "print(\"performing inquiry...\")\n",
    "\n",
    "nearby_devices = discover_devices(lookup_names = True)\n",
    "\n",
    "print(\"found %d devices\" % len(nearby_devices))\n",
    "\n",
    "for name, addr in nearby_devices:\n",
    "     print(\"%s - %s\" % (name, addr))"
   ]
  },
  {
   "cell_type": "code",
   "execution_count": 14,
   "metadata": {},
   "outputs": [
    {
     "name": "stdout",
     "output_type": "stream",
     "text": [
      "5C:FB:7C:4D:A0:05\n",
      "00:00:00:00:00:02\n",
      "A0:E9:DB:06:08:D9\n",
      "41:42:48:C9:BE:F7\n",
      "04:D3:B0:28:7E:F8\n",
      "A4:83:E7:40:B4:DF\n",
      "4C:32:75:89:89:20\n",
      "38:F9:D3:D3:F8:70\n",
      "D8:CE:3A:CE:45:AD\n",
      "could not find target bluetooth device nearby\n"
     ]
    }
   ],
   "source": [
    "import bluetooth\n",
    "\n",
    "target_name = \"My Phone\"\n",
    "target_address = None\n",
    "\n",
    "nearby_devices = bluetooth.discover_devices()\n",
    "\n",
    "for bdaddr in nearby_devices:\n",
    "    print(bdaddr)\n",
    "    if target_name == bluetooth.lookup_name( bdaddr ):\n",
    "        target_address = bdaddr\n",
    "        break\n",
    "\n",
    "if target_address is not None:\n",
    "    print(\"found target bluetooth device with address \", target_address)\n",
    "else:\n",
    "    print(\"could not find target bluetooth device nearby\")"
   ]
  },
  {
   "cell_type": "code",
   "execution_count": null,
   "metadata": {},
   "outputs": [],
   "source": [
    "# # Scan for sensor mac address\n",
    "\n",
    "# from mbientlab.warble import *\n",
    "# from mbientlab.metawear import *\n",
    "# from threading import Event\n",
    "\n",
    "# from datetime import datetime as dt\n",
    "\n",
    "# e = Event()\n",
    "# address = None\n",
    "# def device_discover_task(result):\n",
    "#     global address\n",
    "#     if (result.has_service_uuid(MetaWear.GATT_SERVICE)):\n",
    "#         # grab the first discovered metawear device\n",
    "#         address = result.mac\n",
    "#         print(dt.now(), address)\n",
    "#         e.set()\n",
    "        \n",
    "# print(dt.now(), \"Script start\")\n",
    "# print(dt.now(), \"BleScanner.set_handler(device_discover_task)\")\n",
    "# BleScanner.set_handler(device_discover_task)\n",
    "# print(dt.now(), \"BleScanner.start()\")\n",
    "# BleScanner.start()\n",
    "# print(dt.now(), \"e.wait()\")\n",
    "# e.wait()\n",
    "\n",
    "# print(dt.now(), \"BleScanner.stop()\")\n",
    "# BleScanner.stop()\n",
    "\n",
    "# print(dt.now(), \"Script complete\")"
   ]
  },
  {
   "cell_type": "code",
   "execution_count": null,
   "metadata": {},
   "outputs": [],
   "source": [
    "\n",
    "\n",
    "\n",
    "# # Testing connection to sensor\n",
    "# from mbientlab.metawear import MetaWear, libmetawear\n",
    "# from mbientlab.metawear.cbindings import *\n",
    "\n"
   ]
  },
  {
   "cell_type": "code",
   "execution_count": null,
   "metadata": {},
   "outputs": [],
   "source": [
    "# # Connect to pre-defined MAC sensor\n",
    "\n",
    "# address = \n",
    "\n",
    "# device = MetaWear(address)\n",
    "# device.connect()"
   ]
  }
 ],
 "metadata": {
  "kernelspec": {
   "display_name": "Python 3",
   "language": "python",
   "name": "python3"
  },
  "varInspector": {
   "cols": {
    "lenName": 16,
    "lenType": 16,
    "lenVar": 40
   },
   "kernels_config": {
    "python": {
     "delete_cmd_postfix": "",
     "delete_cmd_prefix": "del ",
     "library": "var_list.py",
     "varRefreshCmd": "print(var_dic_list())"
    },
    "r": {
     "delete_cmd_postfix": ") ",
     "delete_cmd_prefix": "rm(",
     "library": "var_list.r",
     "varRefreshCmd": "cat(var_dic_list()) "
    }
   },
   "types_to_exclude": [
    "module",
    "function",
    "builtin_function_or_method",
    "instance",
    "_Feature"
   ],
   "window_display": false
  }
 },
 "nbformat": 4,
 "nbformat_minor": 2
}
