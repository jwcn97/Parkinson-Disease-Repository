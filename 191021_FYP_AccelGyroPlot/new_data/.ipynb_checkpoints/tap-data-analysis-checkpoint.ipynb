{
 "cells": [
  {
   "cell_type": "code",
   "execution_count": 1,
   "metadata": {},
   "outputs": [],
   "source": [
    "# Imports\n",
    "from mpl_toolkits.mplot3d import Axes3D\n",
    "from matplotlib import cm\n",
    "from matplotlib.ticker import LinearLocator, FormatStrFormatter\n",
    "import matplotlib.pyplot as plt\n",
    "import pandas as pd\n",
    "import numpy as np\n",
    "\n",
    "import os"
   ]
  },
  {
   "cell_type": "code",
   "execution_count": 2,
   "metadata": {},
   "outputs": [],
   "source": [
    "# Function to get data\n",
    "def read_csv(path): \n",
    "    \"\"\"\n",
    "    Extracts dataframe from CSV\n",
    "\n",
    "    Parameters\n",
    "    -----\n",
    "    path: str\n",
    "        The path to the file to be opened as a csv\n",
    "\n",
    "    Return\n",
    "    -----\n",
    "    result: Pandas dataframe\n",
    "        If path has .csv extension, returns content of the csv file\n",
    "        Else, returns None\n",
    "    \"\"\"\n",
    "    result = None\n",
    "    \n",
    "    if path.endswith('.csv'): \n",
    "        result = pd.read_csv(path)\n",
    "    return result"
   ]
  },
  {
   "cell_type": "code",
   "execution_count": 3,
   "metadata": {},
   "outputs": [],
   "source": [
    "# Function to plot data\n",
    "df_column_mapping = {\n",
    "    'x' : 3,\n",
    "    'y' : 4,\n",
    "    'z' : 5\n",
    "}\n",
    "\n",
    "axis_listing = ['x', 'y', 'z']\n",
    "\n",
    "def plot_in_3d(df, t = ''):   \n",
    "    \"\"\"\n",
    "    Plots the summation of x-, y-, and z-axes in 3D space\n",
    "\n",
    "    Parameters\n",
    "    -----\n",
    "    df: Pandas dataframe\n",
    "        dataframe extracted from csv    \n",
    "    \"\"\"  \n",
    "    # Initialize figure and 3d projection\n",
    "    fig = plt.figure(figsize = [10, 10])\n",
    "    ax = fig.add_subplot(111, projection = '3d')\n",
    "    # Label axes\n",
    "    ax.set(xlabel = df.columns[3], ylabel = df.columns[4], zlabel = df.columns[5], title = t) \n",
    "    \n",
    "    # Get datapoints\n",
    "    x = df.iloc[:, 3]\n",
    "    y = df.iloc[:, 4]\n",
    "    z = df.iloc[:, 5]\n",
    "    \n",
    "    # Plot\n",
    "    ax.plot(x, y, z)\n",
    "    \n",
    "def plot_time(df, var = 'x', t = ''):\n",
    "    \"\"\"\n",
    "    Plots the desired parameter against time\n",
    "    \n",
    "    Parameters:\n",
    "    -----\n",
    "    df: Pandas dataframe\n",
    "        The pandas dataframe containing the data from the acceleromere\n",
    "    var: str\n",
    "        The axis 'x', 'y', 'z' to be plotted; defaults to 'x'\n",
    "    \"\"\"\n",
    "    # Check that var is 'x', 'y', or 'z'\n",
    "    # Defaults to 'x' if not used\n",
    "    if var not in axis_listing:\n",
    "        var = 'x'\n",
    "    \n",
    "    # Get data\n",
    "    time = df.iloc[:, 2]\n",
    "    data = df.iloc[:, df_column_mapping[var]]\n",
    "    \n",
    "    # Initialize figure\n",
    "    fig = plt.figure(figsize = [15, 5])\n",
    "    ax = fig.add_subplot(111)\n",
    "    # Label axes\n",
    "    ax.set(xlabel = df.columns[2], ylabel = df.columns[df_column_mapping[var]], title = t) \n",
    "    # Customize the major grid\n",
    "    ax.grid(b=True, which='both')\n",
    "    \n",
    "    # Plot\n",
    "    ax.plot(time, data)\n"
   ]
  },
  {
   "cell_type": "code",
   "execution_count": 4,
   "metadata": {},
   "outputs": [],
   "source": [
    "directory = os.listdir()\n",
    "print(directory)\n",
    "for file in directory:\n",
    "    df = read_csv(file)\n",
    "    \n",
    "    if df is None:\n",
    "        continue\n",
    "        \n",
    "    plot_in_3d(df, t = file)\n",
    "    \n",
    "    for a in axis_listing:\n",
    "        plot_time(df, var = a, t = a + '---' + file)"
   ]
  },
  {
   "cell_type": "markdown",
   "metadata": {},
   "source": [
    "# Archive"
   ]
  },
  {
   "cell_type": "code",
   "execution_count": 5,
   "metadata": {},
   "outputs": [],
   "source": [
    "x = np.arange(-5, 5, 0.25)\n",
    "y = np.arange(-5, 5, 0.25)\n",
    "x, y = np.meshgrid(x, y)\n",
    "r = np.sqrt(x ** 2 + y ** 2)\n",
    "# z = np.sin(r)\n",
    "# surf = ax.plot_surface(\n",
    "#     x, y, z, \n",
    "#     rstride = 1, cstride = 1,\n",
    "#     cmap = cm.coolwarm, linewidth = 0,\n",
    "#     antialiased = False\n",
    "# )\n",
    "# ax.set_zlim(-1.01, 1.01)"
   ]
  }
 ],
 "metadata": {
  "kernelspec": {
   "display_name": "Python 3",
   "language": "python",
   "name": "python3"
  },
  "language_info": {
   "codemirror_mode": {
    "name": "ipython",
    "version": 3
   },
   "file_extension": ".py",
   "mimetype": "text/x-python",
   "name": "python",
   "nbconvert_exporter": "python",
   "pygments_lexer": "ipython3",
   "version": "3.7.3"
  }
 },
 "nbformat": 4,
 "nbformat_minor": 4
}
