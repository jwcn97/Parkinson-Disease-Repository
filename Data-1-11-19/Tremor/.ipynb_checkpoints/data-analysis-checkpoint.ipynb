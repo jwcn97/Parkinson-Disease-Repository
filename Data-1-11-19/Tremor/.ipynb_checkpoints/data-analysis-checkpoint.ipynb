{
 "cells": [
  {
   "cell_type": "code",
   "execution_count": 1,
   "metadata": {},
   "outputs": [],
   "source": [
    "# Imports\n",
    "from mpl_toolkits.mplot3d import Axes3D\n",
    "from matplotlib import cm\n",
    "from matplotlib.ticker import LinearLocator, FormatStrFormatter\n",
    "import matplotlib.pyplot as plt\n",
    "import pandas as pd\n",
    "import numpy as np\n",
    "import os"
   ]
  },
  {
   "cell_type": "code",
   "execution_count": 2,
   "metadata": {},
   "outputs": [],
   "source": [
    "# Function to get data\n",
    "def read_csv(path): \n",
    "    result = None\n",
    "    if path.endswith('.csv'): \n",
    "        result = pd.read_csv(path)\n",
    "    return result"
   ]
  },
  {
   "cell_type": "code",
   "execution_count": 3,
   "metadata": {},
   "outputs": [],
   "source": [
    "# Function to plot data\n",
    "df_column_mapping = {\n",
    "    'x' : 3,\n",
    "    'y' : 4,\n",
    "    'z' : 5\n",
    "}\n",
    "\n",
    "axis_listing = ['x', 'y', 'z']\n",
    "\n",
    "def plot_in_3d(df, t = ''):   \n",
    "    \"\"\"\n",
    "    Plots the summation of x-, y-, and z-axes in 3D space\n",
    "\n",
    "    Parameters\n",
    "    -----\n",
    "    df: Pandas dataframe\n",
    "        dataframe extracted from csv    \n",
    "    \"\"\"  \n",
    "    # Initialize figure and 3d projection\n",
    "    fig = plt.figure(figsize = [10, 10])\n",
    "    ax = fig.add_subplot(111, projection = '3d')\n",
    "    # Label axes\n",
    "    ax.set(xlabel = df.columns[3], ylabel = df.columns[4], zlabel = df.columns[5], title = t) \n",
    "    \n",
    "    # Get datapoints\n",
    "    x = df.iloc[:, 3]\n",
    "    y = df.iloc[:, 4]\n",
    "    z = df.iloc[:, 5]\n",
    "    \n",
    "    # Plot\n",
    "    ax.plot(x, y, z)\n",
    "    \n",
    "def plot_time(df, var = 'x', t = ''):\n",
    "    \"\"\"\n",
    "    Plots the desired parameter against time\n",
    "    \n",
    "    Parameters:\n",
    "    -----\n",
    "    df: Pandas dataframe\n",
    "        The pandas dataframe containing the data from the acceleromere\n",
    "    var: str\n",
    "        The axis 'x', 'y', 'z' to be plotted; defaults to 'x'\n",
    "    \"\"\"\n",
    "    # Check that var is 'x', 'y', or 'z'\n",
    "    # Defaults to 'x' if not used\n",
    "    if var not in axis_listing:\n",
    "        var = 'x'\n",
    "    \n",
    "    # Get data\n",
    "    time = df.iloc[:, 2]\n",
    "    data = df.iloc[:, df_column_mapping[var]]\n",
    "    \n",
    "    # Initialize figure\n",
    "    fig = plt.figure(figsize = [15, 5])\n",
    "    ax = fig.add_subplot(111)\n",
    "    # Label axes\n",
    "    ax.set(xlabel = df.columns[2], ylabel = df.columns[df_column_mapping[var]], title = t) \n",
    "    # Customize the major grid\n",
    "    ax.grid(b=True, which='both')\n",
    "    \n",
    "    # Plot\n",
    "    ax.plot(time, data)"
   ]
  },
  {
   "cell_type": "code",
   "execution_count": 4,
   "metadata": {},
   "outputs": [],
   "source": [
    "# directory = os.listdir()\n",
    "# print(directory)\n",
    "# for file in directory:\n",
    "#     df = read_csv(file)\n",
    "    \n",
    "#     if df is None:\n",
    "#         continue\n",
    "        \n",
    "#     plot_in_3d(df, t = file)\n",
    "    \n",
    "#     for a in axis_listing:\n",
    "#         plot_time(df, var = a, t = a + '---' + file)"
   ]
  },
  {
   "cell_type": "markdown",
   "metadata": {},
   "source": [
    "## Tremor Severity Level 1"
   ]
  },
  {
   "cell_type": "code",
   "execution_count": 5,
   "metadata": {},
   "outputs": [
    {
     "name": "stdout",
     "output_type": "stream",
     "text": [
      "['tremor-lvl1-try2_S2_2019-11-01T21.31.43.269_C49948A1895C_Gyroscope_1.4.5', 'tremor-lvl1-try1_S2_2019-11-01T21.30.03.359_C49948A1895C_Accelerometer_1.4.5', 'tremor-lvl1-try1_S2_2019-11-01T21.30.03.359_C49948A1895C_Gyroscope_1.4.5', 'tremor-lvl1-try2_S2_2019-11-01T21.31.43.269_C49948A1895C_Accelerometer_1.4.5']\n"
     ]
    }
   ],
   "source": [
    "path = os.getcwd()\n",
    "specific_path = os.path.join(path, \"./Level 1\")\n",
    "os.chdir(specific_path)\n",
    "directory = os.listdir()\n",
    "\n",
    "print(directory)\n",
    "for file in directory:\n",
    "    df = read_csv(file)\n",
    "    \n",
    "    if df is None:\n",
    "        continue\n",
    "        \n",
    "    plot_in_3d(df, t = file)\n",
    "    \n",
    "    for a in axis_listing:\n",
    "        plot_time(df, var = a, t = a + '---' + file)\n",
    "        \n",
    "os.chdir('..')"
   ]
  },
  {
   "cell_type": "markdown",
   "metadata": {},
   "source": [
    "## Tremor Severity Level 3"
   ]
  },
  {
   "cell_type": "code",
   "execution_count": 6,
   "metadata": {},
   "outputs": [
    {
     "name": "stdout",
     "output_type": "stream",
     "text": [
      "['tremor-lvl3-try3_S2_2019-11-01T21.39.53.686_C49948A1895C_Gyroscope_1.4.5', 'tremor-lvl3-8g-1000deg_S2_2019-11-01T21.48.45.175_C49948A1895C_Accelerometer_1.4.5', 'tremor-lvl3-try2_S2_2019-11-01T21.38.01.379_C49948A1895C_Gyroscope_1.4.5', 'tremor-lvl3-try1_S2_2019-11-01T21.36.28.628_C49948A1895C_Gyroscope_1.4.5', 'tremor-lvl3-8g-1000deg_S2_2019-11-01T21.48.45.175_C49948A1895C_Gyroscope_1.4.5', 'tremor-lvl3-try2_S2_2019-11-01T21.38.01.379_C49948A1895C_Accelerometer_1.4.5', 'tremor-lvl3-try1_S2_2019-11-01T21.36.28.628_C49948A1895C_Accelerometer_1.4.5', 'tremor-lvl3-try3_S2_2019-11-01T21.39.53.686_C49948A1895C_Accelerometer_1.4.5']\n"
     ]
    }
   ],
   "source": [
    "path = os.getcwd()\n",
    "specific_path = os.path.join(path, \"./Level 3\")\n",
    "os.chdir(specific_path)\n",
    "directory = os.listdir()\n",
    "\n",
    "print(directory)\n",
    "for file in directory:\n",
    "    df = read_csv(file)\n",
    "    \n",
    "    if df is None:\n",
    "        continue\n",
    "        \n",
    "    plot_in_3d(df, t = file)\n",
    "    \n",
    "    for a in axis_listing:\n",
    "        plot_time(df, var = a, t = a + '---' + file)\n",
    "        \n",
    "os.chdir('..')"
   ]
  },
  {
   "cell_type": "markdown",
   "metadata": {},
   "source": [
    "## Tremor Severity Level 5"
   ]
  },
  {
   "cell_type": "code",
   "execution_count": 7,
   "metadata": {},
   "outputs": [
    {
     "name": "stdout",
     "output_type": "stream",
     "text": [
      "['tremor-lvl5-8g-1000deg_S2_2019-11-01T21.46.50.774_C49948A1895C_Gyroscope_1.4.5', 'tremor-lvl5-try2_S2_2019-11-01T21.43.48.391_C49948A1895C_Gyroscope_1.4.5', 'tremor-lvl5-try3_S2_2019-11-01T21.45.17.697_C49948A1895C_Accelerometer_1.4.5', 'tremor-lvl5-try1_S2_2019-11-01T21.42.05.868_C49948A1895C_Accelerometer_1.4.5', 'tremor-lvl5-8g-1000deg_S2_2019-11-01T21.46.50.774_C49948A1895C_Accelerometer_1.4.5', 'tremor-lvl5-try2_S2_2019-11-01T21.43.48.391_C49948A1895C_Accelerometer_1.4.5', 'tremor-lvl5-try3_S2_2019-11-01T21.45.17.697_C49948A1895C_Gyroscope_1.4.5', 'tremor-lvl5-try1_S2_2019-11-01T21.42.05.868_C49948A1895C_Gyroscope_1.4.5']\n"
     ]
    }
   ],
   "source": [
    "path = os.getcwd()\n",
    "specific_path = os.path.join(path, \"./Level 5\")\n",
    "os.chdir(specific_path)\n",
    "directory = os.listdir()\n",
    "\n",
    "print(directory)\n",
    "for file in directory:\n",
    "    df = read_csv(file)\n",
    "    \n",
    "    if df is None:\n",
    "        continue\n",
    "        \n",
    "    plot_in_3d(df, t = file)\n",
    "    \n",
    "    for a in axis_listing:\n",
    "        plot_time(df, var = a, t = a + '---' + file)\n",
    "        \n",
    "os.chdir('..')"
   ]
  },
  {
   "cell_type": "code",
   "execution_count": null,
   "metadata": {},
   "outputs": [],
   "source": [
    "df.describe()"
   ]
  },
  {
   "cell_type": "markdown",
   "metadata": {},
   "source": [
    "## Spectral Analysis using Fast Fourier Transform (FFT)"
   ]
  },
  {
   "cell_type": "code",
   "execution_count": 8,
   "metadata": {},
   "outputs": [],
   "source": [
    "# import scipy as sp\n",
    "# import scipy.fftpack\n",
    "# print(os.listdir())\n",
    "# path = \"tremor-lvl5-try3_S2_2019-11-01T21.45.17.697_C49948A1895C_Accelerometer_1.4.5.csv\"\n",
    "# df = read_csv(path)"
   ]
  },
  {
   "cell_type": "code",
   "execution_count": 9,
   "metadata": {},
   "outputs": [],
   "source": [
    "# df.describe()"
   ]
  },
  {
   "cell_type": "code",
   "execution_count": 10,
   "metadata": {},
   "outputs": [],
   "source": [
    "# # Get data\n",
    "# time = df.iloc[:, 2]\n",
    "# data = df.iloc[:, 3]\n",
    "\n",
    "# # Compute the FFT of signal\n",
    "# data_fft = sp.fftpack.fft(data)\n",
    "# # Compute the Power Spectral Density by computing the square of its abs value\n",
    "# data_psd = np.abs(data_fft) ** 2\n",
    "# # Compute frequencies corresponding to the values of the PSD\n",
    "# fft_freq = sp.fftpack.fftfreq(len(data_psd), 1./365)\n",
    "# # Grab only the positive values of fft_freq\n",
    "# i = fft_freq > 0\n",
    "\n",
    "# # Plot the graphs\n",
    "# fig, ax = plt.subplots(1, 1, figsize = (15,5))\n",
    "\n",
    "# # Label axes\n",
    "# ax.set(xlabel = 'Frequency (Hz)', ylabel = 'Accelerometer Data (g)', title = 'Accelerometer Tap Level 1 Trial 1') \n",
    "# # Customize the major grid\n",
    "# ax.grid(b=True, which='both')\n",
    "\n",
    "# # Plot\n",
    "# ax.plot(data_fft, data)\n",
    "\n",
    "# fig2, ax2 = plt.subplots(1, 1, figsize = (15,5))\n",
    "# # Label axes\n",
    "# ax2.set(xlabel = 'Frequency (1/year)', ylabel = 'Power Spectral Density (dB)', title = 'Accelerometer Tap Level 1 Trial 1') \n",
    "# # Customize the major grid\n",
    "# ax2.grid(b=True, which='both')\n",
    "# ax2.plot(fft_freq[i], 10 * np.log10(data_psd[i]))\n",
    "# # ax.plot(time, data)"
   ]
  },
  {
   "cell_type": "code",
   "execution_count": 11,
   "metadata": {},
   "outputs": [],
   "source": [
    "# # Typical Matplotlib Plot Anatomy and Workflow\n",
    "# # Import Matplotlib as plt\n",
    "# import matplotlib.pyplot as plt\n",
    "\n",
    "# # 1. Prepare data\n",
    "# x = [1, 2, 3, 4]\n",
    "# y = [10, 20, 25, 30]\n",
    "\n",
    "# # 2. Create Plots\n",
    "# fig = plt.figure(figsize = [15, 10])\n",
    "# ax = fig.add_subplot(111)\n",
    "\n",
    "# # 3. Plot\n",
    "# ax.plot(x, y, color = 'lightblue', linewidth = 3)\n",
    "# ax.scatter([2,4,6], [5,15,25], color = 'darkgreen', marker = '^')\n",
    "\n",
    "# # 4. Customise Plot\n",
    "# ax.set_xlim(1, 6.5)\n",
    "# ax.set(xlabel = 'x-axis', ylabel = 'y-axis', title = 'y versus x graph') \n",
    "# ax.grid(b=True, which='both')\n",
    "\n",
    "# # 5. Save Plot\n",
    "# # plt.savefig('foo.png')\n",
    "\n",
    "# # 6. Show Plot\n",
    "# plt.show()\n",
    "\n",
    "# \"\"\"\n",
    "# # Multiple Plots\n",
    "# x = arange(5)\n",
    "# y = np.exp(5)\n",
    "# plt.figure(1)\n",
    "# plt.plot(x, y)\n",
    "\n",
    "# z = np.sin(x)\n",
    "# plt.figure(2)\n",
    "# plt.plot(x, z)\n",
    "\n",
    "# w = np.cos(x)\n",
    "# plt.figure(1) # Here's the part I need, but numbering starts at 1!\n",
    "# plt.plot(x, w)\n",
    "# \"\"\""
   ]
  },
  {
   "cell_type": "markdown",
   "metadata": {},
   "source": [
    "# Archive"
   ]
  },
  {
   "cell_type": "code",
   "execution_count": 12,
   "metadata": {},
   "outputs": [],
   "source": [
    "x = np.arange(-5, 5, 0.25)\n",
    "y = np.arange(-5, 5, 0.25)\n",
    "x, y = np.meshgrid(x, y)\n",
    "r = np.sqrt(x ** 2 + y ** 2)\n",
    "# z = np.sin(r)\n",
    "# surf = ax.plot_surface(\n",
    "#     x, y, z, \n",
    "#     rstride = 1, cstride = 1,\n",
    "#     cmap = cm.coolwarm, linewidth = 0,\n",
    "#     antialiased = False\n",
    "# )\n",
    "# ax.set_zlim(-1.01, 1.01)"
   ]
  }
 ],
 "metadata": {
  "kernelspec": {
   "display_name": "Python 3",
   "language": "python",
   "name": "python3"
  },
  "language_info": {
   "codemirror_mode": {
    "name": "ipython",
    "version": 3
   },
   "file_extension": ".py",
   "mimetype": "text/x-python",
   "name": "python",
   "nbconvert_exporter": "python",
   "pygments_lexer": "ipython3",
   "version": "3.7.3"
  }
 },
 "nbformat": 4,
 "nbformat_minor": 4
}
